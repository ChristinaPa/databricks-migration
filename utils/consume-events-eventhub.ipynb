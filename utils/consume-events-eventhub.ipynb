{
 "cells": [
  {
   "cell_type": "markdown",
   "metadata": {
    "application/vnd.databricks.v1+cell": {
     "cellMetadata": {},
     "inputWidgets": {},
     "nuid": "e45e6b2f-6ba9-4ad1-a8d9-a21f48a045f8",
     "showTitle": false,
     "title": ""
    }
   },
   "source": [
    "Consume events from event hub"
   ]
  },
  {
   "cell_type": "code",
   "execution_count": 0,
   "metadata": {
    "application/vnd.databricks.v1+cell": {
     "cellMetadata": {},
     "inputWidgets": {},
     "nuid": "b20df2ac-cf01-4a3b-81ff-7466cd992ea4",
     "showTitle": false,
     "title": ""
    }
   },
   "outputs": [],
   "source": [
    "# Import necessary libraries\n",
    "import pandas as pd\n",
    "from azure.eventhub import EventHubConsumerClient, EventData"
   ]
  },
  {
   "cell_type": "code",
   "execution_count": 0,
   "metadata": {
    "application/vnd.databricks.v1+cell": {
     "cellMetadata": {},
     "inputWidgets": {},
     "nuid": "9b5ce75d-089c-4e49-803a-a92476183404",
     "showTitle": false,
     "title": ""
    }
   },
   "outputs": [],
   "source": [
    "# Specify your Event Hub connection string and name\n",
    "event_hub_connection_string = 'Endpoint=sb://streamdata-2f774f-ns.servicebus.windows.net/;SharedAccessKeyName=RootManageSharedAccessKey;SharedAccessKey={SharedAccessKey}'  # Replace with your connection string\n",
    "event_hub_name = 'sales_orders_s'\n",
    "\n",
    "# Create an Event Hub consumer client\n",
    "consumer = EventHubConsumerClient.from_connection_string(\n",
    "    conn_str=event_hub_connection_string,\n",
    "    consumer_group=\"$Default\",\n",
    "    eventhub_name=event_hub_name,\n",
    ")\n",
    "\n",
    "# Define a callback function to process the events\n",
    "def on_event(partition_context, event):\n",
    "    # Print the event data\n",
    "    print(\"Received event: \", event.body_as_str())\n",
    "\n",
    "# Receive the events\n",
    "with consumer:\n",
    "\n",
    "    consumer.receive(\n",
    "        on_event=on_event,\n",
    "        starting_position=\"-1\" # \"-1\" is to read from the start of the event stream. Use \"@latest\" to read the latest events\n",
    "        )"
   ]
  }
 ],
 "metadata": {
  "application/vnd.databricks.v1+notebook": {
   "dashboards": [],
   "language": "python",
   "notebookMetadata": {
    "pythonIndentUnit": 4
   },
   "notebookName": "consume-events-eventhub",
   "widgets": {}
  }
 },
 "nbformat": 4,
 "nbformat_minor": 0
}
