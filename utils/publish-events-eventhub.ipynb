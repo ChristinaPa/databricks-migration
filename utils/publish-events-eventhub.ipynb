{
 "cells": [
  {
   "cell_type": "markdown",
   "metadata": {
    "application/vnd.databricks.v1+cell": {
     "cellMetadata": {},
     "inputWidgets": {},
     "nuid": "b8be6442-4808-44e1-9277-3801716963d4",
     "showTitle": false,
     "title": ""
    }
   },
   "source": [
    "Read data from a local CSV file and covert it to JSON"
   ]
  },
  {
   "cell_type": "code",
   "execution_count": 0,
   "metadata": {
    "application/vnd.databricks.v1+cell": {
     "cellMetadata": {},
     "inputWidgets": {},
     "nuid": "bdc1a349-e4b8-4be3-9d2b-8b69ecedd494",
     "showTitle": false,
     "title": ""
    }
   },
   "outputs": [],
   "source": [
    "# Import necessary libraries\n",
    "import pandas as pd\n",
    "from azure.eventhub import EventHubProducerClient, EventHubConsumerClient, EventData"
   ]
  },
  {
   "cell_type": "code",
   "execution_count": 0,
   "metadata": {
    "application/vnd.databricks.v1+cell": {
     "cellMetadata": {},
     "inputWidgets": {},
     "nuid": "47b5f6a1-b7a4-4206-820b-502088c09c2d",
     "showTitle": false,
     "title": ""
    }
   },
   "outputs": [],
   "source": [
    "# Specify the path to CSV file\n",
    "csv_file_path = '../../data/sales_orders_s.csv'  # Replace with your CSV file path\n",
    "\n",
    "# Read a csv file using pandas\n",
    "df = pd.read_csv(csv_file_path)\n",
    "df = df.head(10)\n",
    "\n",
    "\n",
    "# Convert the CSV file into JSON\n",
    "json_data = df.to_json(orient='records')"
   ]
  },
  {
   "cell_type": "markdown",
   "metadata": {
    "application/vnd.databricks.v1+cell": {
     "cellMetadata": {},
     "inputWidgets": {},
     "nuid": "fd56e00a-6316-4403-9da4-fe2db7681866",
     "showTitle": false,
     "title": ""
    }
   },
   "source": [
    "Publish JSON to Event Hub topic"
   ]
  },
  {
   "cell_type": "code",
   "execution_count": 0,
   "metadata": {
    "application/vnd.databricks.v1+cell": {
     "cellMetadata": {},
     "inputWidgets": {},
     "nuid": "045a5749-dc97-43c4-b19b-d1780e3fe0dc",
     "showTitle": false,
     "title": ""
    }
   },
   "outputs": [],
   "source": [
    "# Specify your Event Hub connection string and name\n",
    "event_hub_connection_string = 'Endpoint=sb://streamdata-2f774f-ns.servicebus.windows.net/;SharedAccessKeyName=RootManageSharedAccessKey;SharedAccessKey=xlTL64ydjLanZARHT2/IuZWUoi49GfGeU+AEhD4o12M='  # Replace with your connection string\n",
    "event_hub_name = 'sales_orders_s'\n",
    "\n",
    "producer = EventHubProducerClient.from_connection_string(event_hub_connection_string, eventhub_name=event_hub_name)\n",
    "\n",
    "# Publish the JSON as events\n",
    "try:\n",
    "    event_data_batch = producer.create_batch()\n",
    "    event_data_batch.add(EventData(json_data))\n",
    "    producer.send_batch(event_data_batch)\n",
    "except Exception as e:\n",
    "    print('Error occurred: ', str(e))\n",
    "finally:\n",
    "    producer.close()"
   ]
  }
 ],
 "metadata": {
  "application/vnd.databricks.v1+notebook": {
   "dashboards": [],
   "language": "python",
   "notebookMetadata": {
    "pythonIndentUnit": 4
   },
   "notebookName": "publish-events-eventhub",
   "widgets": {}
  }
 },
 "nbformat": 4,
 "nbformat_minor": 0
}
