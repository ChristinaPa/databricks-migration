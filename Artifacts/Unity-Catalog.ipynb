{
 "cells": [
  {
   "cell_type": "markdown",
   "metadata": {
    "application/vnd.databricks.v1+cell": {
     "cellMetadata": {},
     "inputWidgets": {},
     "nuid": "aa6a7fd9-649c-4e94-8b5c-c833817b9e44",
     "showTitle": false,
     "title": ""
    }
   },
   "source": [
    "## CREATE CATALOG\n",
    "Creates a catalog with the specified name. If a catalog with the same name already exists, an exception is thrown."
   ]
  },
  {
   "cell_type": "code",
   "execution_count": null,
   "metadata": {
    "application/vnd.databricks.v1+cell": {
     "cellMetadata": {},
     "inputWidgets": {},
     "nuid": "60c1aedf-250b-4cfb-8d06-dc7c96a5d27a",
     "showTitle": false,
     "title": ""
    }
   },
   "outputs": [],
   "source": [
    "%sql\n",
    "CREATE CATALOG IF NOT EXISTS [catalog_name] -- The name of the catalog to be created.\n",
    "    [ USING SHARE provider_name . share_name ] -- Optional. specifies that the catalog is based on a Delta Sharing share.\n",
    "    [ MANAGED LOCATION 'location_path' ] -- Optional.- specifies the path to a managed storage location for the catalog\n",
    "    [ COMMENT comment ] -- Optional. specifies the path to a managed storage location for the catalog"
   ]
  },
  {
   "cell_type": "markdown",
   "metadata": {
    "application/vnd.databricks.v1+cell": {
     "cellMetadata": {},
     "inputWidgets": {},
     "nuid": "c916b3c8-9a54-4ba2-846b-156274e93a47",
     "showTitle": false,
     "title": ""
    }
   },
   "source": [
    "## USE CATALOG\n",
    "Sets the current catalog. After the current catalog is set, partially and unqualified identifiers for tables, functions, and views that are referenced by SQLs are resolved from the current catalog.\n",
    "\n",
    "Setting the catalog also resets the current schema to ```default```."
   ]
  },
  {
   "cell_type": "code",
   "execution_count": null,
   "metadata": {
    "application/vnd.databricks.v1+cell": {
     "cellMetadata": {},
     "inputWidgets": {},
     "nuid": "c8335349-fa16-4ae6-9692-aa4383770225",
     "showTitle": false,
     "title": ""
    }
   },
   "outputs": [],
   "source": [
    "%sql\n",
    "USE CATALOG [catalog_name] -- The name of the catalog to be created."
   ]
  },
  {
   "cell_type": "markdown",
   "metadata": {
    "application/vnd.databricks.v1+cell": {
     "cellMetadata": {},
     "inputWidgets": {},
     "nuid": "2bab9e93-446e-44b6-977b-1b0a37a60fb8",
     "showTitle": false,
     "title": ""
    }
   },
   "source": [
    "## CREATE SCHEMA\n",
    "Creates a schema (database) with the specified name. If a schema with the same name already exists, an exception is thrown.\n",
    "\n",
    "> While usage of SCHEMA and DATABASE is interchangeable, SCHEMA is preferred."
   ]
  },
  {
   "cell_type": "code",
   "execution_count": null,
   "metadata": {
    "application/vnd.databricks.v1+cell": {
     "cellMetadata": {},
     "inputWidgets": {},
     "nuid": "7bd8a207-61c1-4810-86b1-8cedb8ea4b2d",
     "showTitle": false,
     "title": ""
    }
   },
   "outputs": [],
   "source": [
    "%sql\n",
    "CREATE SCHEMA IF NOT EXISTS [schema_name] -- The name of the schema to be created.\n",
    "    [ COMMENT schema_comment ] -- Optional. The description for the schema.\n",
    "    [ MANAGED LOCATION location_path ] -- Optional. Specifies the path to a storage root location for the schema\n",
    "    [ WITH DBPROPERTIES ( { property_name = property_value } [ , ... ] ) ] -- Optional. The properties for the schema in key-value pairs."
   ]
  },
  {
   "cell_type": "markdown",
   "metadata": {
    "application/vnd.databricks.v1+cell": {
     "cellMetadata": {},
     "inputWidgets": {},
     "nuid": "c7aa3472-ba6a-45e5-ad0f-1405d9eab46b",
     "showTitle": false,
     "title": ""
    }
   },
   "source": [
    "## USE SCHEMA\n",
    "Sets the current schema. After the current schema is set, unqualified references to objects such as tables, functions, and views that are referenced by SQLs are resolved from the current schema. The default schema name is default."
   ]
  },
  {
   "cell_type": "code",
   "execution_count": null,
   "metadata": {
    "application/vnd.databricks.v1+cell": {
     "cellMetadata": {},
     "inputWidgets": {},
     "nuid": "7940d3a1-c7fa-4ad9-9888-2a5f837badbb",
     "showTitle": false,
     "title": ""
    }
   },
   "outputs": [],
   "source": [
    "%sql\n",
    "USE SCHEMA [schema_name] -- Name of the schema to use. If the schema does not exist, an exception is thrown."
   ]
  },
  {
   "cell_type": "markdown",
   "metadata": {
    "application/vnd.databricks.v1+cell": {
     "cellMetadata": {},
     "inputWidgets": {},
     "nuid": "4f26fc6c-c652-4471-8706-56f5cc39f3f4",
     "showTitle": false,
     "title": ""
    }
   },
   "source": [
    "## GRANT\n",
    "Grants a privilege on an securable object to a principal."
   ]
  },
  {
   "cell_type": "code",
   "execution_count": null,
   "metadata": {
    "application/vnd.databricks.v1+cell": {
     "cellMetadata": {},
     "inputWidgets": {},
     "nuid": "2c8e9f23-e2cb-41c8-93c2-ae97165fa24d",
     "showTitle": false,
     "title": ""
    }
   },
   "outputs": [],
   "source": [
    "%sql\n",
    "GRANT [privilege_types] -- privilege_types(For ex- ALL PRIVILEGES, CREATE, SELECT etc ) identifies one or more privileges to be granted to the principal.\n",
    "ON [securable_object] -- The object(For ex- CATALOG, SCHEMA, TABLE etc) on which the privileges are granted to the principal.\n",
    "TO [principal] -- A user, service principal, or group to which the privileges are granted. You must enclose users, service principals, and group names with special characters in backticks (` `)."
   ]
  },
  {
   "cell_type": "markdown",
   "metadata": {
    "application/vnd.databricks.v1+cell": {
     "cellMetadata": {},
     "inputWidgets": {},
     "nuid": "bc6aae05-e9c7-4e59-9f32-f34d917773b7",
     "showTitle": false,
     "title": ""
    }
   },
   "source": [
    "## CREATE TABLE\n",
    "Defines a table in an existing schema."
   ]
  },
  {
   "cell_type": "code",
   "execution_count": null,
   "metadata": {
    "application/vnd.databricks.v1+cell": {
     "cellMetadata": {},
     "inputWidgets": {},
     "nuid": "045531fc-bf86-458a-beb7-9238cd749e78",
     "showTitle": false,
     "title": ""
    }
   },
   "outputs": [],
   "source": [
    "%sql\n",
    "CREATE TABLE IF NOT EXISTS\n",
    "[ table_name ] -- The name of the table to be created.\n",
    "[ table_specification ] -- This optional clause defines the list of columns, their types, properties, descriptions, and column constraints.\n",
    "[ USING data_source ] -- Optional. The file format to use for the table. If USING is omitted, the default is DELTA.\n",
    "[ table_clauses ] -- Optionally specify location, partitioning, clustering, options, comments, and user defined properties for the new table.\n",
    "[ AS query ] -- This optional clause populates the table using the data from query. When you specify a query you must not also specify a table_specification. The table schema is derived from the query."
   ]
  }
 ],
 "metadata": {
  "application/vnd.databricks.v1+notebook": {
   "dashboards": [],
   "language": "python",
   "notebookMetadata": {
    "pythonIndentUnit": 4
   },
   "notebookName": "Unity-Catalog",
   "widgets": {}
  },
  "language_info": {
   "name": "python"
  }
 },
 "nbformat": 4,
 "nbformat_minor": 0
}
