{
 "cells": [
  {
   "cell_type": "markdown",
   "metadata": {
    "application/vnd.databricks.v1+cell": {
     "cellMetadata": {},
     "inputWidgets": {},
     "nuid": "fff060d3-59a2-4e70-a81e-0da0cb850e0d",
     "showTitle": false,
     "title": ""
    }
   },
   "source": [
    "## CREATE CATALOG\n",
    "Creates a catalog with the specified name. Creates a catalog with the specified name. If a catalog with the same name already exists, an exception is thrown.\n",
    "\n",
    "#### Parameters\n",
    "\n",
    "* **catalog_name**: The name of the catalog to be created.\n",
    "\n",
    "* **USING SHARE provider_name . share_name** : Optionally specifies that the catalog is based on a Delta Sharing share.\n",
    "\n",
    "  - **provider_name** : The name of the Delta Sharing provider who supplied the share.\n",
    "\n",
    "  - **share_name** : The name of the share provided by provider_name.\n",
    "\n",
    "* **MANAGED LOCATION 'location_path'** : Optionally specifies the path to a managed storage location for the catalog that is different than the metastore’s root storage location.\n",
    "\n",
    "* **comment** : An optional STRING literal. The description for the catalog."
   ]
  },
  {
   "cell_type": "code",
   "execution_count": null,
   "metadata": {
    "application/vnd.databricks.v1+cell": {
     "cellMetadata": {},
     "inputWidgets": {},
     "nuid": "aa6a7fd9-649c-4e94-8b5c-c833817b9e44",
     "showTitle": false,
     "title": ""
    }
   },
   "outputs": [],
   "source": [
    "%sql\n",
    "CREATE CATALOG IF NOT EXISTS [catalog_name] -- The name of the catalog to be created.\n",
    "    [ USING SHARE provider_name . share_name ] -- Optional. specifies that the catalog is based on a Delta Sharing share.\n",
    "    [ MANAGED LOCATION 'location_path' ] -- Optional.- specifies the path to a managed storage location for the catalog\n",
    "    [ COMMENT comment ] -- Optional. specifies the path to a managed storage location for the catalog"
   ]
  },
  {
   "cell_type": "markdown",
   "metadata": {
    "application/vnd.databricks.v1+cell": {
     "cellMetadata": {},
     "inputWidgets": {},
     "nuid": "a238e8b4-37c6-4bdd-86a7-fd7a0c98c3aa",
     "showTitle": false,
     "title": ""
    }
   },
   "source": [
    "## CREATE SCHEMA \n",
    "Creates a schema (database) with the specified name. If a schema with the same name already exists, an exception is thrown.\n",
    "\n",
    "> While usage of **SCHEMA** and **DATABASE** is interchangeable, **SCHEMA** is preferred.\n",
    "\n",
    "#### Parameters\n",
    "\n",
    "* **schema_name** : The name of the schema to be created.\n",
    "\n",
    "* **schema_comment** : A STRING literal. The description for the schema.\n",
    "\n",
    "* **MANAGED LOCATION location_path** : ```MANAGED LOCATION``` is optional and requires Unity Catalog. ```location_path``` must be a STRING literal. Specifies the path to a storage root location for the schema that is different from the catalog’s or metastore’s storage root location.\n",
    "\n",
    "* **WITH DBPROPERTIES ( { property_name = property_value } [ , … ] )** : The properties for the schema in key-value pairs."
   ]
  },
  {
   "cell_type": "code",
   "execution_count": null,
   "metadata": {
    "application/vnd.databricks.v1+cell": {
     "cellMetadata": {},
     "inputWidgets": {},
     "nuid": "7bd8a207-61c1-4810-86b1-8cedb8ea4b2d",
     "showTitle": false,
     "title": ""
    }
   },
   "outputs": [],
   "source": [
    "%sql\n",
    "USE CATALOG [catalog_name] -- Sets the current catalog.\n",
    "\n",
    "CREATE SCHEMA IF NOT EXISTS [schema_name] -- The name of the schema to be created.\n",
    "    [ COMMENT schema_comment ] -- Optional. The description for the schema.\n",
    "    [ MANAGED LOCATION location_path ] -- Optional. Specifies the path to a storage root location for the schema\n",
    "    [ WITH DBPROPERTIES ( { property_name = property_value } [ , ... ] ) ] -- Optional. The properties for the schema in key-value pairs."
   ]
  },
  {
   "cell_type": "markdown",
   "metadata": {
    "application/vnd.databricks.v1+cell": {
     "cellMetadata": {},
     "inputWidgets": {},
     "nuid": "d04d9956-ea53-48a7-b4cc-43a7ff456d98",
     "showTitle": false,
     "title": ""
    }
   },
   "source": [
    "## CREATE TABLE\n",
    "Defines a table in an existing schema.\n",
    "\n",
    "#### Parameters\n",
    "\n",
    "* **table_name** : The name of the table to be created. The name must not include a temporal specification.\n",
    "\n",
    "* **table_specification** : This optional clause defines the list of columns, their types, properties, descriptions, and column constraints. If you do not define columns the table schema you must specify either ```AS query``` or ```LOCATION```.\n",
    "\n",
    "* **USING data_source** : The file format to use for the table. If ```USING``` is omitted, the default is ```DELTA```.\n",
    "\n",
    "* **table_clauses** : Optionally specify location, partitioning, clustering, options, comments, and user defined properties for the new table. \n",
    "\n",
    "* **AS query** : This optional clause populates the table using the data from query. When you specify a query you must not also specify a ```table_specification```. The table schema is derived from the query."
   ]
  },
  {
   "cell_type": "code",
   "execution_count": null,
   "metadata": {
    "application/vnd.databricks.v1+cell": {
     "cellMetadata": {},
     "inputWidgets": {},
     "nuid": "b4f5a7d7-13bb-47e0-94c9-16f46fb7b4e5",
     "showTitle": false,
     "title": ""
    }
   },
   "outputs": [],
   "source": [
    "%sql \n",
    "USE CATALOG [catalog_name] -- Sets the current catalog.\n",
    "USE SCHEMA [schema_name] -- Name of the schema to use. If the schema does not exist, an exception is thrown.\n",
    "\n",
    "CREATE TABLE IF NOT EXISTS\n",
    "[ table_name ] -- The name of the table to be created.\n",
    "[ table_specification ] -- This optional clause defines the list of columns, their types, properties, descriptions, and column constraints.\n",
    "[ USING data_source ] -- Optional. The file format to use for the table. If USING is omitted, the default is DELTA.\n",
    "[ table_clauses ] -- Optionally specify location, partitioning, clustering, options, comments, and user defined properties for the new table.\n",
    "[ AS query ] -- This optional clause populates the table using the data from query. When you specify a query you must not also specify a table_specification. The table schema is derived from the query."
   ]
  },
  {
   "cell_type": "markdown",
   "metadata": {
    "application/vnd.databricks.v1+cell": {
     "cellMetadata": {},
     "inputWidgets": {},
     "nuid": "bcc23f66-48cc-4dda-a9a8-aec14f8e5290",
     "showTitle": false,
     "title": ""
    }
   },
   "source": [
    "## GRANT\n",
    "Grants a privilege on an securable object to a principal.\n",
    "\n",
    "#### Parameters\n",
    "\n",
    "* **privilege types** : This identifies one or more privileges to be granted to the principal.\n",
    "\n",
    "  - **ALL PRIVILEGES** : Grant all privileges applicable to the securable_object. In Unity Catalog, ALL PRIVILEGES expands to all available privileges at the time permissions checks are made. It does not individually grant all of the applicable privileges at the time of the grant.\n",
    "\n",
    "  - **privilege type** : A specific privilege to be granted on the securable_object to the principal.\n",
    "\n",
    "* **securable_object** : The object on which the privileges are granted to the principal.\n",
    "\n",
    "* **principal** : A user, service principal, or group to which the privileges are granted. You must enclose users, service principals, and group names with special characters in backticks (\\`  \\`)."
   ]
  },
  {
   "cell_type": "code",
   "execution_count": null,
   "metadata": {
    "application/vnd.databricks.v1+cell": {
     "cellMetadata": {},
     "inputWidgets": {},
     "nuid": "2c8e9f23-e2cb-41c8-93c2-ae97165fa24d",
     "showTitle": false,
     "title": ""
    }
   },
   "outputs": [],
   "source": [
    "%sql\n",
    "GRANT [privilege_types] -- privilege_types(For ex- ALL PRIVILEGES, CREATE, SELECT etc ) identifies one or more privileges to be granted to the principal.\n",
    "ON [securable_object] -- The object(For ex- CATALOG, SCHEMA, TABLE etc) on which the privileges are granted to the principal.\n",
    "TO [principal] -- A user, service principal, or group to which the privileges are granted. You must enclose users, service principals, and group names with special characters in backticks (` `)."
   ]
  }
 ],
 "metadata": {
  "application/vnd.databricks.v1+notebook": {
   "dashboards": [],
   "language": "python",
   "notebookMetadata": {
    "pythonIndentUnit": 4
   },
   "notebookName": "Unity-Catalog",
   "widgets": {}
  },
  "language_info": {
   "name": "python"
  }
 },
 "nbformat": 4,
 "nbformat_minor": 0
}
