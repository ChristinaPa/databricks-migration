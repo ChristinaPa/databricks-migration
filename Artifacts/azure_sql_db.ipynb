{
 "cells": [
  {
   "cell_type": "code",
   "execution_count": null,
   "metadata": {
    "application/vnd.databricks.v1+cell": {
     "cellMetadata": {},
     "inputWidgets": {},
     "nuid": "a4b7b0d7-e113-4c5b-be2d-654e189730fd",
     "showTitle": false,
     "title": ""
    }
   },
   "outputs": [],
   "source": [
    "import dlt\n",
    "\n",
    "# Connection details for accessing the SQL Server database\n",
    "\n",
    "Host = {server} # fully qualified server name of your Azure SQL Database (e.g., '<your-server-name>.database.windows.net')\n",
    "Table = {table_name} # name of the specific table you want to read from\n",
    "Database = {database_name} # name of the database that contains the table\n",
    "User = {admin_login} # login username for accessing the Azure SQL Database\n",
    "Password = {password} # corresponding password for the provided username\n",
    "\n",
    "# Read data from the SQL Server database using the Spark SQL Server connector\n",
    "\n",
    "@dlt.table\n",
    "def sql_raw():\n",
    "  return (\n",
    "   spark.read\n",
    "  .format(\"sqlserver\")\n",
    "  .option(\"dbtable\", Table)\n",
    "  .option(\"host\", Host)\n",
    "  .option(\"port\", 1433)\n",
    "  .option(\"database\", Database)\n",
    "  .option(\"user\", User)\n",
    "  .option(\"password\", Password)\n",
    "  .load()\n",
    "  )\n"
   ]
  }
 ],
 "metadata": {
  "application/vnd.databricks.v1+notebook": {
   "dashboards": [],
   "language": "python",
   "notebookMetadata": {
    "mostRecentlyExecutedCommandWithImplicitDF": {
     "commandId": 3973913182271659,
     "dataframes": [
      "_sqldf"
     ]
    },
    "pythonIndentUnit": 4
   },
   "notebookName": "azure_sql_db",
   "widgets": {}
  },
  "language_info": {
   "name": "python"
  }
 },
 "nbformat": 4,
 "nbformat_minor": 0
}
