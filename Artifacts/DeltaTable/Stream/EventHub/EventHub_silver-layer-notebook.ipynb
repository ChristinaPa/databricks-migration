{
 "cells": [
  {
   "cell_type": "markdown",
   "metadata": {},
   "source": [
    "# Silver Layer\n",
    "The silver layer is an intermediate layer where data is refined, cleansed, and transformed for analysis.\n",
    "The code below defines three functions (`dim1_cleansed`, `dim2_cleansed`, and `fact_cleansed`) that load and transform data into respective Delta tables (`dim1_cleansed`, `dim2_cleansed`, and `fact_cleansed`). Each function follows a similar structure and performs the following steps:\n",
    "\n",
    "1. Reads the data from a streaming source using `spark.readStream` for `dim1_cleansed`, `dim2_cleansed` and `fact_cleansed`.\n",
    "2. Selects all columns from the source.\n",
    "3. Converts a formatted datetime column to Unix datetime format using `withColumn(\"datetime_comun\", from_unixtime(\"formatted_datettime_column\"))`.\n",
    "4. Renames a column from 'OldColumnName' to 'New_Column_Name' using `withColumnRenamed`.\n",
    "5. Replaces a specific string value in a column with a new string value using `withColumn(\"column_name\", regexp_replace(\"column_name\", \"string_value\", \"new_string_value\"))`.\n",
    "6. Changes the schema of a column in JSON format using `withColumn(\"column_name\", from_json(col(\"column_name\"), new_schema))`.\n",
    "7. Explodes an array column to obtain individual rows using `withColumn(\"column_name\", explode(\"column_name\"))`."
   ]
  },
  {
   "cell_type": "code",
   "execution_count": null,
   "metadata": {
    "application/vnd.databricks.v1+cell": {
     "cellMetadata": {},
     "inputWidgets": {},
     "nuid": "31d653c1-de29-403b-8100-7993c601f8f3",
     "showTitle": false,
     "title": ""
    }
   },
   "outputs": [],
   "source": [
    "dim1_schema = {new_schema} # schema for table dim1_cleansed\n",
    "\n",
    "# Create cleansed dimension1 table from Delta Table dim1_raw by applying transformations\n",
    "# Read the Delta Lake table as Stream\n",
    "df1=spark.readStream.format(\"delta\")\\\n",
    "  .option(\"maxFilesPerTrigger\",5)\\ # maxFilesPerTrigger specifies the maximum number of new files to be considered in every trigger,default value is 1000\n",
    "  .option(\"ignoreChanges\",\"true\")\\\n",
    "  .load(\"{Delta table path for dim1_raw}\")\n",
    "\n",
    "## Apply the transformations\n",
    "df1_cleansed =df1.withColumn(\"datetime_comun\", from_unixtime(\"formatted_datettime_column\")) #changes date-time column to unix date-time format\n",
    "        .withColumnRenamed('OldColumnName', 'New_Column_Name') #changing column name\n",
    "        .withColumn(\"column_name\", regexp_replace(\"column_name\", \"string_value\", \"new_string_value\")) #replace part of a string with another string\n",
    "        .withColumn(\"column_name\", from_json(col(\"column_name\"), new_schema)) #changing the schema of a column in json\n",
    "        .withColumn(\"column_name\", explode(\"column_name\")) #exploding the array to get the individual rows\n",
    "        {Tranformations} # additional transformations you may want to apply\n",
    "\n",
    "# Write into delta table (/data/delta/dim1_cleansed) ,creating a silver delta table from df1_cleansed DataFrame\n",
    "df1_cleansed.writeStream.format(\"delta\") \\\n",
    "   .outputMode(\"append\") \\\n",
    "   .option(\"mergeSchema\", \"true\") \\\n",
    "    .trigger(\"processing=30 seconds\") \\\n",
    "    .option(\"checkpointLocation\", \"</data/delta/dim1_cleansed_checkpoint_path>\") \\ ##A checkpoint directory/location is required to track the streaming updates. If not specified , a default checkpoint directory is created at /local_disk0/tmp/.\n",
    "    .start(\"/data/delta/dim1_cleansed\")\n",
    "## .toTable(\"dim1_cleansed\")    ### Can be use .toTable instead of .start()\n",
    "\n",
    "###########################################################\n",
    "dim2_schema = {new_schema} # schema for table dim2_cleansed\n",
    "           \n",
    "# Create cleansed dimension2 table from Delta Table dim2_raw by applying transformations\n",
    "# Read the Delta Lake table as Stream\n",
    "df2=spark.readStream.format(\"delta\")\\\n",
    "  .option(\"maxFilesPerTrigger\",5)\\ # maxFilesPerTrigger specifies the maximum number of new files to be considered in every trigger,default value is 1000\n",
    "  .option(\"ignoreChanges\",\"true\")\\\n",
    "  .load(\"{Delta table path for dim2_raw}\")\n",
    "\n",
    "## Apply the transformations\n",
    "df2_cleansed =df2.withColumn(\"datetime_comun\", from_unixtime(\"formatted_datettime_column\")) #changes date-time column to unix date-time format\n",
    "        .withColumnRenamed('OldColumnName', 'New_Column_Name') #changing column name\n",
    "        .withColumn(\"column_name\", regexp_replace(\"column_name\", \"string_value\", \"new_string_value\")) #replace part of a string with another string\n",
    "        .withColumn(\"column_name\", from_json(col(\"column_name\"), new_schema)) #changing the schema of a column in json\n",
    "        .withColumn(\"column_name\", explode(\"column_name\")) #exploding the array to get the individual rows\n",
    "        {Tranformations} # additional transformations you may want to apply\n",
    "\n",
    "# Write into delta table (/data/delta/dim2_cleansed) ,creating a silver delta table from df2_cleansed DataFrame\n",
    "df2_cleansed.writeStream.format(\"delta\") \\\n",
    "   .outputMode(\"append\") \\\n",
    "   .option(\"mergeSchema\", \"true\") \\\n",
    "    .trigger(\"processing=30 seconds\") \\\n",
    "    .option(\"checkpointLocation\", \"</data/delta/dim2_cleansed_checkpoint_path>\") \\ ##A checkpoint directory/location is required to track the streaming updates. If not specified , a default checkpoint directory is created at /local_disk0/tmp/.\n",
    "    .start(\"/data/delta/dim2_cleansed\")\n",
    "## .toTable(\"dim2_cleansed\")    ### Can be use .toTable instead of .start()\n",
    "\n",
    "###########################################################\n",
    "fact_schema = {new_schema} # schema for table fact_cleansed\n",
    "           \n",
    "# Create cleansed fact table from Delta Table fact_raw by applying transformations\n",
    "# Read the Delta Lake table as Stream\n",
    "df3=spark.readStream.format(\"delta\")\\\n",
    "  .option(\"maxFilesPerTrigger\",5)\\ # maxFilesPerTrigger specifies the maximum number of new files to be considered in every trigger,default value is 1000\n",
    "  .option(\"ignoreChanges\",\"true\")\\\n",
    "  .load(\"{Delta table path for fact_raw}\")\n",
    "\n",
    "## Apply the transformations\n",
    "df3_cleansed =df3.withColumn(\"datetime_comun\", from_unixtime(\"formatted_datettime_column\")) #changes date-time column to unix date-time format\n",
    "        .withColumnRenamed('OldColumnName', 'New_Column_Name') #changing column name\n",
    "        .withColumn(\"column_name\", regexp_replace(\"column_name\", \"string_value\", \"new_string_value\")) #replace part of a string with another string\n",
    "        .withColumn(\"column_name\", from_json(col(\"column_name\"), new_schema)) #changing the schema of a column in json\n",
    "        .withColumn(\"column_name\", explode(\"column_name\")) #exploding the array to get the individual rows\n",
    "        {Tranformations} # additional transformations you may want to apply\n",
    "\n",
    "# Write into delta table (/data/delta/fact_cleansed) ,creating a silver delta table from df3_cleansed DataFrame\n",
    "df3_cleansed.writeStream.format(\"delta\") \\\n",
    "   .outputMode(\"append\") \\\n",
    "   .option(\"mergeSchema\", \"true\") \\\n",
    "    .trigger(\"processing=30 seconds\") \\\n",
    "    .option(\"checkpointLocation\", \"</data/delta/fact_cleansed_checkpoint_path>\") \\ ##A checkpoint directory/location is required to track the streaming updates. If not specified , a default checkpoint directory is created at /local_disk0/tmp/.\n",
    "    .start(\"/data/delta/fact_cleansed\")\n",
    "## .toTable(\"fact_cleansed\")    ### Can be use .toTable instead of .start()\n",
    "\n",
    "##############End of File #################"
   ]
  }
 ],
 "metadata": {
  "application/vnd.databricks.v1+notebook": {
   "dashboards": [],
   "language": "python",
   "notebookMetadata": {
    "pythonIndentUnit": 4
   },
   "notebookName": "EventHub_silver-layer-notebook",
   "widgets": {}
  },
  "kernelspec": {
   "display_name": "Python 3 (ipykernel)",
   "language": "python",
   "name": "python3"
  },
  "language_info": {
   "codemirror_mode": {
    "name": "ipython",
    "version": 3
   },
   "file_extension": ".py",
   "mimetype": "text/x-python",
   "name": "python",
   "nbconvert_exporter": "python",
   "pygments_lexer": "ipython3",
   "version": "3.10.9"
  }
 },
 "nbformat": 4,
 "nbformat_minor": 1
}
