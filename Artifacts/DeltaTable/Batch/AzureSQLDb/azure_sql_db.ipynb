{
 "cells": [
  {
   "cell_type": "markdown",
   "metadata": {
    "application/vnd.databricks.v1+cell": {
     "cellMetadata": {},
     "inputWidgets": {},
     "nuid": "6f28c098-9b81-4a8e-8b8a-4b9ebc183400",
     "showTitle": false,
     "title": ""
    }
   },
   "source": [
    "# Bronze Layer\n",
    "Read data from *Azure SQL Database*"
   ]
  },
  {
   "cell_type": "code",
   "execution_count": 0,
   "metadata": {
    "application/vnd.databricks.v1+cell": {
     "cellMetadata": {},
     "inputWidgets": {},
     "nuid": "a4b7b0d7-e113-4c5b-be2d-654e189730fd",
     "showTitle": false,
     "title": ""
    }
   },
   "outputs": [],
   "source": [
    "# Connection details for accessing the SQL Server database\n",
    "\n",
    "Host = {server} # fully qualified server name of your Azure SQL Database (e.g., '<your-server-name>.database.windows.net')\n",
    "Table1 = {table1_name} # name of the first table you want to read from\n",
    "Table2 = {table2_name} # name of the second table you want to read from\n",
    "Table3 = {table3_name} # name of the third table you want to read from\n",
    "Database = {database_name} # name of the database that contains the table\n",
    "User = {admin_login} # login username for accessing the Azure SQL Database\n",
    "Password = {password} # corresponding password for the provided username\n"
   ]
  },
  {
   "cell_type": "code",
   "execution_count": 0,
   "metadata": {
    "application/vnd.databricks.v1+cell": {
     "cellMetadata": {},
     "inputWidgets": {},
     "nuid": "57a6234c-8fff-478e-ab48-7afdbdca68a3",
     "showTitle": false,
     "title": ""
    }
   },
   "outputs": [],
   "source": [
    "# Read data from the SQL Server database using the Spark SQL Server connector and create Bronze tables\n",
    "df1 = (spark.read #reads data from specified source\n",
    "      .format(\"sqlserver\") #Specifies that the data source format is Azure PostgreSQL\n",
    "      .option(\"dbtable\", Table1) #Specifies the table name to read from the Azure PostgreSQL database.\n",
    "      .option(\"host\", Host) #Specifies the hostname or IP address of the Azure PostgreSQL database server.\n",
    "      .option(\"port\", 1433) #The default port for Azure PostgreSQL is 5432\n",
    "      .option(\"database\", Database) #Specifies the name of the database in the Azure PostgreSQL server to connect to.\n",
    "      .option(\"user\", User) #Specifies the username for authentication to the Azure PostgreSQL database.\n",
    "      .option(\"password\", Password) #Specifies the password for authentication to the Azure PostgreSQL database. \n",
    "      .load() #Loads the data from the specified Azure PostgreSQL database based on the provided options and returns a DataFrame.\n",
    "    )\n",
    "\n",
    "    ##create a table from the DataFrame\n",
    "    df1.write.format(\"delta\").saveAsTable(\"Dim1_raw\")"
   ]
  },
  {
   "cell_type": "code",
   "execution_count": 0,
   "metadata": {
    "application/vnd.databricks.v1+cell": {
     "cellMetadata": {},
     "inputWidgets": {},
     "nuid": "4fb0c811-7d30-4ec2-bce6-8a3363b03982",
     "showTitle": false,
     "title": ""
    }
   },
   "outputs": [],
   "source": [
    "df2 = (spark.read #reads data from specified source\n",
    "      .format(\"sqlserver\") #Specifies that the data source format is Azure PostgreSQL\n",
    "      .option(\"dbtable\", Table2) #Specifies the table name to read from the Azure PostgreSQL database.\n",
    "      .option(\"host\", Host) #Specifies the hostname or IP address of the Azure PostgreSQL database server.\n",
    "      .option(\"port\", 1433) #The default port for Azure PostgreSQL is 5432\n",
    "      .option(\"database\", Database) #Specifies the name of the database in the Azure PostgreSQL server to connect to.\n",
    "      .option(\"user\", User) #Specifies the username for authentication to the Azure PostgreSQL database.\n",
    "      .option(\"password\", Password) #Specifies the password for authentication to the Azure PostgreSQL database. \n",
    "      .load() #Loads the data from the specified Azure PostgreSQL database based on the provided options and returns a DataFrame.\n",
    "    )\n",
    "\n",
    "    ##create a table from the DataFrame\n",
    "    df2.write.format(\"delta\").saveAsTable(\"Dim2_raw\")\n",
    "    "
   ]
  },
  {
   "cell_type": "code",
   "execution_count": 0,
   "metadata": {
    "application/vnd.databricks.v1+cell": {
     "cellMetadata": {},
     "inputWidgets": {},
     "nuid": "be9d14f8-7fd6-4fd3-b718-231bede8abe4",
     "showTitle": false,
     "title": ""
    }
   },
   "outputs": [],
   "source": [
    "df3 = (spark.read #reads data from specified source\n",
    "      .format(\"sqlserver\") #Specifies that the data source format is PostgreSQL\n",
    "      .option(\"dbtable\", Table3) #Specifies the table name to read from the MySQL database.\n",
    "      .option(\"host\", Host) #Specifies the hostname or IP address of the PostgreSQL database server.\n",
    "      .option(\"port\", 1433) #The default port for PostgreSQL is 5432\n",
    "      .option(\"database\", Database) #Specifies the name of the database in the PostgreSQL server to connect to.\n",
    "      .option(\"user\", User) #Specifies the username for authentication to the PostgreSQL database.\n",
    "      .option(\"password\", Password) #Specifies the password for authentication to the PostgreSQL database. \n",
    "      .load() #Loads the data from the specified Azure PostgreSQL database based on the provided options and returns a DataFrame.\n",
    "    )\n",
    "\n",
    "    ##create a table from the DataFrame\n",
    "    df3.write.format(\"delta\").saveAsTable(\"Fact_raw\")\n"
   ]
  }
 ],
 "metadata": {
  "application/vnd.databricks.v1+notebook": {
   "dashboards": [],
   "language": "python",
   "notebookMetadata": {
    "mostRecentlyExecutedCommandWithImplicitDF": {
     "commandId": 3973913182271659,
     "dataframes": [
      "_sqldf"
     ]
    },
    "pythonIndentUnit": 4
   },
   "notebookName": "azure_sql_db",
   "widgets": {}
  },
  "kernelspec": {
   "display_name": "Python 3 (ipykernel)",
   "language": "python",
   "name": "python3"
  },
  "language_info": {
   "codemirror_mode": {
    "name": "ipython",
    "version": 3
   },
   "file_extension": ".py",
   "mimetype": "text/x-python",
   "name": "python",
   "nbconvert_exporter": "python",
   "pygments_lexer": "ipython3",
   "version": "3.10.9"
  }
 },
 "nbformat": 4,
 "nbformat_minor": 1
}
