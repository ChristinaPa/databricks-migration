{
 "cells": [
  {
   "cell_type": "markdown",
   "metadata": {
    "application/vnd.databricks.v1+cell": {
     "cellMetadata": {},
     "inputWidgets": {},
     "nuid": "d8df0ea2-f69b-4bb8-a235-23cc823580df",
     "showTitle": false,
     "title": ""
    }
   },
   "source": [
    "## Mount PostgreSQL database and creating bronze layer"
   ]
  },
  {
   "cell_type": "code",
   "execution_count": 0,
   "metadata": {
    "application/vnd.databricks.v1+cell": {
     "cellMetadata": {},
     "inputWidgets": {},
     "nuid": "b050ce82-1a9d-4230-aa02-d51218dd51a9",
     "showTitle": false,
     "title": ""
    }
   },
   "outputs": [],
   "source": [
    "driver = \"org.postgresql.Driver\" #JDBC driver class name\n",
    "\n",
    "database_host = {Host_Name} #refers to the hostname or IP address of the machine where the PostgreSQL database is running\n",
    "database_name = {Database_Name} # refers to the name of the database you want to connect to.\n",
    "table1 = {Table1_name} # Specifies the table1 name from where you want to read\n",
    "table2 = {Table2_name} # Specifies the table2 name from where you want to read\n",
    "table3 = {Table3_name} # Specifies the table3 name from where you want to read\n",
    "user = {User_login} # username for authentication to the database\n",
    "password = {Password} # password for authentication to the database\n",
    "\n",
    "url = f\"jdbc:postgresql://{database_host}:5432/{database_name}\" # The port **5432** is the default port for PostgreSQL."
   ]
  },
  {
   "cell_type": "code",
   "execution_count": 0,
   "metadata": {
    "application/vnd.databricks.v1+cell": {
     "cellMetadata": {},
     "inputWidgets": {},
     "nuid": "a121f879-b248-4241-80cc-eac8a4d32ed3",
     "showTitle": false,
     "title": ""
    }
   },
   "outputs": [],
   "source": [
    "     df1 = (spark.read #used to create a DataFrameReader object.\n",
    "        .format(\"jdbc\") # Specifies that the data source format is JDBC\n",
    "        .option(\"driver\", driver) # Sets the JDBC driver class name\n",
    "        .option(\"url\", url) # Sets the URL for the database connection\n",
    "        .option(\"dbtable\", table1) # Specifies the table1 name from where you want to read\n",
    "        .option(\"user\", user) # Sets the username for authentication to the database\n",
    "        .option(\"password\", password) #Sets the password for authentication to the database\n",
    "        .load() #to load the data from the database into a DataFrame.s\n",
    "      )\n",
    "    \n",
    "    ##create a table from the DataFrame\n",
    "    df1.write.format(\"delta\").saveAsTable(\"Dim1_raw\")"
   ]
  },
  {
   "cell_type": "code",
   "execution_count": 0,
   "metadata": {
    "application/vnd.databricks.v1+cell": {
     "cellMetadata": {},
     "inputWidgets": {},
     "nuid": "4f788184-6ae8-4b27-9ade-325ba6607633",
     "showTitle": false,
     "title": ""
    }
   },
   "outputs": [],
   "source": [
    "     df2 = (spark.read #used to create a DataFrameReader object.\n",
    "        .format(\"jdbc\") # Specifies that the data source format is JDBC\n",
    "        .option(\"driver\", driver) # Sets the JDBC driver class name\n",
    "        .option(\"url\", url) # Sets the URL for the database connection\n",
    "        .option(\"dbtable\", table2) # Specifies the table1 name from where you want to read\n",
    "        .option(\"user\", user) # Sets the username for authentication to the database\n",
    "        .option(\"password\", password) #Sets the password for authentication to the database\n",
    "        .load() #to load the data from the database into a DataFrame.s\n",
    "      )\n",
    "    \n",
    "    ##create a table from the DataFrame\n",
    "    df2.write.format(\"delta\").saveAsTable(\"Dim2_raw\")"
   ]
  },
  {
   "cell_type": "code",
   "execution_count": 0,
   "metadata": {
    "application/vnd.databricks.v1+cell": {
     "cellMetadata": {},
     "inputWidgets": {},
     "nuid": "1080814d-c06e-4560-971e-189c18861cc5",
     "showTitle": false,
     "title": ""
    }
   },
   "outputs": [],
   "source": [
    "     df3 = (spark.read #used to create a DataFrameReader object.\n",
    "        .format(\"jdbc\") # Specifies that the data source format is JDBC\n",
    "        .option(\"driver\", driver) # Sets the JDBC driver class name\n",
    "        .option(\"url\", url) # Sets the URL for the database connection\n",
    "        .option(\"dbtable\", table3) # Specifies the table1 name from where you want to read\n",
    "        .option(\"user\", user) # Sets the username for authentication to the database\n",
    "        .option(\"password\", password) #Sets the password for authentication to the database\n",
    "        .load() #to load the data from the database into a DataFrame.s\n",
    "      )\n",
    "    \n",
    "    ##create a table from the DataFrame\n",
    "    df3.write.format(\"delta\").saveAsTable(\"Fact_raw\")"
   ]
  }
 ],
 "metadata": {
  "application/vnd.databricks.v1+notebook": {
   "dashboards": [],
   "language": "python",
   "notebookMetadata": {
    "pythonIndentUnit": 4
   },
   "notebookName": "postgres_db",
   "widgets": {}
  },
  "kernelspec": {
   "display_name": "Python 3 (ipykernel)",
   "language": "python",
   "name": "python3"
  },
  "language_info": {
   "codemirror_mode": {
    "name": "ipython",
    "version": 3
   },
   "file_extension": ".py",
   "mimetype": "text/x-python",
   "name": "python",
   "nbconvert_exporter": "python",
   "pygments_lexer": "ipython3",
   "version": "3.10.9"
  }
 },
 "nbformat": 4,
 "nbformat_minor": 1
}
