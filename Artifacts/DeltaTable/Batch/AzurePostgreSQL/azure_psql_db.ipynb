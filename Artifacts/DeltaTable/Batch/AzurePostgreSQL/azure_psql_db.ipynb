{
 "cells": [
  {
   "cell_type": "markdown",
   "metadata": {
    "application/vnd.databricks.v1+cell": {
     "cellMetadata": {},
     "inputWidgets": {},
     "nuid": "b1265b82-bc80-4449-86c8-e7f223e723a6",
     "showTitle": false,
     "title": ""
    }
   },
   "source": [
    "## Mount Azure PostgreSQL database and creating bronze layer"
   ]
  },
  {
   "cell_type": "code",
   "execution_count": 0,
   "metadata": {
    "application/vnd.databricks.v1+cell": {
     "cellMetadata": {
      "byteLimit": 2048000,
      "rowLimit": 10000
     },
     "inputWidgets": {},
     "nuid": "05825150-e6c3-4786-8926-622ef4450602",
     "showTitle": false,
     "title": ""
    }
   },
   "outputs": [],
   "source": [
    "Host = {database_host} #Specifies the hostname or IP address of the Azure PostgreSQL database server.\n",
    "Table1 = {table_name1} # Specifies the table1 name to read from the Azure PostgreSQL database.\n",
    "Table2 = {table_name2} # Specifies the table2 name to read from the Azure PostgreSQL database.\n",
    "Table3 = {table_name3} # Specifies the table3 name to read from the Azure PostgreSQL database.\n",
    "Database = {database_name}  #Specifies the name of the database in the Azure PostgreSQL server to connect to.\n",
    "User = {user_admin} #Specifies the username for authentication to the  Azure PostgreSQL database. \n",
    "Password = {Password}  #Specifies the password for authentication to the Azure PostgreSQL database. "
   ]
  },
  {
   "cell_type": "code",
   "execution_count": 0,
   "metadata": {
    "application/vnd.databricks.v1+cell": {
     "cellMetadata": {},
     "inputWidgets": {},
     "nuid": "596fc4d6-72a4-4520-b2cf-9dee894a61db",
     "showTitle": false,
     "title": ""
    }
   },
   "outputs": [],
   "source": [
    "df1 = (spark.read #reads data from specified source\n",
    "      .format(\"postgresql\") #Specifies that the data source format is Azure PostgreSQL\n",
    "      .option(\"dbtable\", Table1) #Specifies the table name to read from the Azure PostgreSQL database.\n",
    "      .option(\"host\", Host) #Specifies the hostname or IP address of the Azure PostgreSQL database server.\n",
    "      .option(\"port\", 5432) #The default port for Azure PostgreSQL is 5432\n",
    "      .option(\"database\", Database) #Specifies the name of the database in the Azure PostgreSQL server to connect to.\n",
    "      .option(\"user\", User) #Specifies the username for authentication to the Azure PostgreSQL database.\n",
    "      .option(\"password\", Password) #Specifies the password for authentication to the Azure PostgreSQL database. \n",
    "      .load() #Loads the data from the specified Azure PostgreSQL database based on the provided options and returns a DataFrame.\n",
    "    )\n",
    "\n",
    "    ##create a table from the DataFrame\n",
    "    df1.write.format(\"delta\").saveAsTable(\"Dim1_raw\")"
   ]
  },
  {
   "cell_type": "code",
   "execution_count": 0,
   "metadata": {
    "application/vnd.databricks.v1+cell": {
     "cellMetadata": {},
     "inputWidgets": {},
     "nuid": "4abfc133-f6a0-4d07-8763-8cb5f11fa460",
     "showTitle": false,
     "title": ""
    }
   },
   "outputs": [],
   "source": [
    "df2 = (spark.read #reads data from specified source\n",
    "      .format(\"postgresql\") #Specifies that the data source format is Azure PostgreSQL\n",
    "      .option(\"dbtable\", Table2) #Specifies the table name to read from the Azure PostgreSQL database.\n",
    "      .option(\"host\", Host) #Specifies the hostname or IP address of the Azure PostgreSQL database server.\n",
    "      .option(\"port\", 5432) #The default port for Azure PostgreSQL is 5432\n",
    "      .option(\"database\", Database) #Specifies the name of the database in the Azure PostgreSQL server to connect to.\n",
    "      .option(\"user\", User) #Specifies the username for authentication to the Azure PostgreSQL database.\n",
    "      .option(\"password\", Password) #Specifies the password for authentication to the Azure PostgreSQL database. \n",
    "      .load() #Loads the data from the specified Azure PostgreSQL database based on the provided options and returns a DataFrame.\n",
    "    )\n",
    "\n",
    "\n",
    "    ##create a table from the DataFrame\n",
    "    df2.write.format(\"delta\").saveAsTable(\"Dim2_raw\")"
   ]
  },
  {
   "cell_type": "code",
   "execution_count": 0,
   "metadata": {
    "application/vnd.databricks.v1+cell": {
     "cellMetadata": {},
     "inputWidgets": {},
     "nuid": "ffe7e98c-0086-4a1d-aeb7-97eeb70e6460",
     "showTitle": false,
     "title": ""
    }
   },
   "outputs": [],
   "source": [
    "df3 = (spark.read #reads data from specified source\n",
    "      .format(\"postgresql\") #Specifies that the data source format is PostgreSQL\n",
    "      .option(\"dbtable\", Table3) #Specifies the table name to read from the MySQL database.\n",
    "      .option(\"host\", Host) #Specifies the hostname or IP address of the PostgreSQL database server.\n",
    "      .option(\"port\", 5432) #The default port for PostgreSQL is 5432\n",
    "      .option(\"database\", Database) #Specifies the name of the database in the PostgreSQL server to connect to.\n",
    "      .option(\"user\", User) #Specifies the username for authentication to the PostgreSQL database.\n",
    "      .option(\"password\", Password) #Specifies the password for authentication to the PostgreSQL database. \n",
    "      .load() #Loads the data from the specified Azure PostgreSQL database based on the provided options and returns a DataFrame.\n",
    "    )\n",
    "\n",
    "    ##create a table from the DataFrame\n",
    "    df3.write.format(\"delta\").saveAsTable(\"Fact_raw\")"
   ]
  }
 ],
 "metadata": {
  "application/vnd.databricks.v1+notebook": {
   "dashboards": [],
   "language": "python",
   "notebookMetadata": {
    "pythonIndentUnit": 4
   },
   "notebookName": "azure_psql_db",
   "widgets": {}
  },
  "kernelspec": {
   "display_name": "Python 3 (ipykernel)",
   "language": "python",
   "name": "python3"
  },
  "language_info": {
   "codemirror_mode": {
    "name": "ipython",
    "version": 3
   },
   "file_extension": ".py",
   "mimetype": "text/x-python",
   "name": "python",
   "nbconvert_exporter": "python",
   "pygments_lexer": "ipython3",
   "version": "3.10.9"
  }
 },
 "nbformat": 4,
 "nbformat_minor": 1
}
