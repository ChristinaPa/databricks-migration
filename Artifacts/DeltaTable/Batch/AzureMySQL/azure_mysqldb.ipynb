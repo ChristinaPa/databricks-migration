{
 "cells": [
  {
   "cell_type": "markdown",
   "metadata": {
    "application/vnd.databricks.v1+cell": {
     "cellMetadata": {},
     "inputWidgets": {},
     "nuid": "3b1b2b7a-0990-4d61-ae9c-452af4a96a95",
     "showTitle": false,
     "title": ""
    }
   },
   "source": [
    "## Mount Azure MySQL database and creating bronze layer "
   ]
  },
  {
   "cell_type": "code",
   "execution_count": 0,
   "metadata": {
    "application/vnd.databricks.v1+cell": {
     "cellMetadata": {
      "byteLimit": 2048000,
      "rowLimit": 10000
     },
     "inputWidgets": {},
     "nuid": "77736980-4b7e-4a66-b8ca-053346f04d9d",
     "showTitle": false,
     "title": ""
    }
   },
   "outputs": [],
   "source": [
    "Host = {database_host} #Specifies the hostname or IP address of the MySQL database server.\n",
    "Table1 = {table_name1} # Specifies the table1 name to read from the MySQL database.\n",
    "Table2 = {table_name2} # Specifies the table2 name to read from the MySQL database.\n",
    "Table3 = {table_name3} # Specifies the table3 name to read from the MySQL database.\n",
    "Database = {database_name}  #Specifies the name of the database in the MySQL server to connect to.\n",
    "User = {user_admin} #Specifies the username for authentication to the MySQL database. \n",
    "Password = {Password}  #Specifies the password for authentication to the MySQL database. \n",
    "\n"
   ]
  },
  {
   "cell_type": "code",
   "execution_count": 0,
   "metadata": {
    "application/vnd.databricks.v1+cell": {
     "cellMetadata": {},
     "inputWidgets": {},
     "nuid": "742a3ca1-4ba7-43c4-91a0-55bcdcbc0493",
     "showTitle": false,
     "title": ""
    }
   },
   "outputs": [],
   "source": [
    "    df1 = (spark.read #used to create a DataFrameReader object\n",
    "            .format(\"mysql\") #Specifies that the data source format is MySQL\n",
    "            .option(\"dbtable\", Table1) #Specifies the table name to read from the MySQL database.\n",
    "            .option(\"host\", Host) #Specifies the hostname or IP address of the MySQL database server.\n",
    "            .option(\"port\", 3306) #The default port for MySQL is 3306\n",
    "            .option(\"database\", Database) # Specifies the name of the database in the MySQL server to connect to.\n",
    "            .option(\"user\", User) #Specifies the username for authentication to the MySQL database. \n",
    "            .option(\"password\", Password) #Specifies the password for authentication to the MySQL database. \n",
    "            .load() #Loads the data from the specified MySQL database based on the provided options and returns a DataFrame.\n",
    "            )\n",
    "    ##create a table from the DataFrame\n",
    "    df1.write.format(\"delta\").saveAsTable(\"Dim1_raw\")\n",
    "    "
   ]
  },
  {
   "cell_type": "code",
   "execution_count": 0,
   "metadata": {
    "application/vnd.databricks.v1+cell": {
     "cellMetadata": {},
     "inputWidgets": {},
     "nuid": "5b424667-9c58-4990-9588-57544437ebbe",
     "showTitle": false,
     "title": ""
    }
   },
   "outputs": [],
   "source": [
    "    df2 = (spark.read #used to create a DataFrameReader object\n",
    "            .format(\"mysql\") #Specifies that the data source format is MySQL\n",
    "            .option(\"dbtable\", Table2) #Specifies the table name to read from the MySQL database.\n",
    "            .option(\"host\", Host) #Specifies the hostname or IP address of the MySQL database server.\n",
    "            .option(\"port\", 3306) #The default port for MySQL is 3306\n",
    "            .option(\"database\", Database) # Specifies the name of the database in the MySQL server to connect to.\n",
    "            .option(\"user\", User) #Specifies the username for authentication to the MySQL database. \n",
    "            .option(\"password\", Password) #Specifies the password for authentication to the MySQL database. \n",
    "            .load() #Loads the data from the specified MySQL database based on the provided options and returns a DataFrame.\n",
    "            )\n",
    "    ##create a table from the DataFrame\n",
    "    df2.write.format(\"delta\").saveAsTable(\"Dim2_raw\")\n",
    "    "
   ]
  },
  {
   "cell_type": "code",
   "execution_count": 0,
   "metadata": {
    "application/vnd.databricks.v1+cell": {
     "cellMetadata": {},
     "inputWidgets": {},
     "nuid": "2d21afb9-6c6e-4d34-8d75-8329e06df40f",
     "showTitle": false,
     "title": ""
    }
   },
   "outputs": [],
   "source": [
    "    df3 = (spark.read #used to create a DataFrameReader object\n",
    "            .format(\"mysql\") #Specifies that the data source format is MySQL\n",
    "            .option(\"dbtable\", Table3) #Specifies the table name to read from the MySQL database.\n",
    "            .option(\"host\", Host) #Specifies the hostname or IP address of the MySQL database server.\n",
    "            .option(\"port\", 3306) #The default port for MySQL is 3306\n",
    "            .option(\"database\", Database) # Specifies the name of the database in the MySQL server to connect to.\n",
    "            .option(\"user\", User) #Specifies the username for authentication to the MySQL database. \n",
    "            .option(\"password\", Password) #Specifies the password for authentication to the MySQL database. \n",
    "            .load() #Loads the data from the specified MySQL database based on the provided options and returns a DataFrame.\n",
    "            )\n",
    "    ##create a table from the DataFrame\n",
    "    df3.write.format(\"delta\").saveAsTable(\"Fact_raw\")\n",
    "    "
   ]
  }
 ],
 "metadata": {
  "application/vnd.databricks.v1+notebook": {
   "dashboards": [],
   "language": "python",
   "notebookMetadata": {
    "pythonIndentUnit": 4
   },
   "notebookName": "azure_mysqldb",
   "widgets": {}
  },
  "kernelspec": {
   "display_name": "Python 3 (ipykernel)",
   "language": "python",
   "name": "python3"
  },
  "language_info": {
   "codemirror_mode": {
    "name": "ipython",
    "version": 3
   },
   "file_extension": ".py",
   "mimetype": "text/x-python",
   "name": "python",
   "nbconvert_exporter": "python",
   "pygments_lexer": "ipython3",
   "version": "3.10.9"
  }
 },
 "nbformat": 4,
 "nbformat_minor": 1
}
