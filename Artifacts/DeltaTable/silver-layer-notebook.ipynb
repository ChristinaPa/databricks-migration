{
 "cells": [
  {
   "cell_type": "markdown",
   "metadata": {},
   "source": [
    "## Transformations (Silver layer)\n",
    "\n",
    "The silver layer is an intermediate layer where data is refined, cleansed, and transformed for analysis.\n",
    "We are loading and transform data into respective Delta tables (`dim1_cleansed`, `dim2_cleansed`, and `fact_cleansed`).\n"
   ]
  },
  {
   "cell_type": "code",
   "execution_count": null,
   "metadata": {},
   "outputs": [],
   "source": [
    "new_schema = {Schema} #If you want to structure your data differently for the silver layer, you can specify the new schema in the \"Schema\" place-holder."
   ]
  },
  {
   "cell_type": "code",
   "execution_count": null,
   "metadata": {},
   "outputs": [],
   "source": [
    "from pyspark.sql.functions import * # used for data manipulation and transformation in Spark SQL"
   ]
  },
  {
   "cell_type": "code",
   "execution_count": null,
   "metadata": {},
   "outputs": [],
   "source": [
    "df1 = ( spark.read.table(\"Dim1_raw\") # spark.read() function is used to read data from a source i.e. bronze layer.\n",
    "        .select(*) # selects all columns from the DataFrame read from the source.\n",
    "        .withColumnRenamed('OldColumnName', 'New_Column_Name') #changing column name\n",
    "        .withColumn(\"column_name\", regexp_replace(\"column_name\", \"string_value\", \"new_string_value\")) #replace part of a string with another string\n",
    "        .withColumn(\"datetime_comun\", from_unixtime(\"formatted_datettime_column\")) #changes date-time column to unix date-time format\n",
    "        .withColumn(\"column_name\", from_json(col(\"column_name\"), new_schema)) #changing the schema of a column in json \n",
    "        .withColumn(\"column_name\", explode(\"column_name\")) #exploding the array to get the individual rows\n",
    "        {Tranformations} # This place-holder represents additional transformations that you want to make with respect to the data.\n",
    "        )\n",
    "##create a table from the DataFrame\n",
    "df1.write.format(\"delta\").saveAsTable(\"Dim1_cleansed\")\n",
    "    \n"
   ]
  },
  {
   "cell_type": "code",
   "execution_count": null,
   "metadata": {},
   "outputs": [],
   "source": [
    "df2 = ( spark.read.table(\"Dim2_raw\") # spark.read() function is used to read data from a source i.e. bronze layer.\n",
    "        .select(*) # selects all columns from the DataFrame read from the source.\n",
    "        .withColumnRenamed('OldColumnName', 'New_Column_Name') #changing column name\n",
    "        .withColumn(\"datetime_comun\", from_unixtime(\"formatted_datettime_column\")) #changes date-time column to unix date-time format \n",
    "        .withColumn(\"column_name\", regexp_replace(\"column_name\", \"string_value\", \"new_string_value\")) #replace part of a string with another string \n",
    "        .withColumn(\"column_name\", from_json(col(\"column_name\"), new_schema)) #changing the schema of a column in json \n",
    "        .withColumn(\"column_name\", explode(\"column_name\")) #exploding the array to get the individual rows\n",
    "        {Tranformations} # This place-holder represents additional transformations that you want to make with respect to the data.\n",
    "        )\n",
    "##create a table from the DataFrame\n",
    "df2.write.format(\"delta\").saveAsTable(\"Dim2_cleansed\")"
   ]
  },
  {
   "cell_type": "code",
   "execution_count": null,
   "metadata": {
    "application/vnd.databricks.v1+cell": {
     "cellMetadata": {},
     "inputWidgets": {},
     "nuid": "726b8c6e-6f9d-4e4c-814a-fd4ef9910dd9",
     "showTitle": false,
     "title": ""
    }
   },
   "outputs": [],
   "source": [
    " df3 = ( spark.read.table(\"Fact_raw\") # spark.read() function is used to read data from a source i.e. bronze layer.\n",
    "        .select(*) # selects all columns from the DataFrame read from the source.\n",
    "        .withColumnRenamed('OldColumnName', 'New_Column_Name') #changing column name\n",
    "        .withColumn(\"datetime_comun\", from_unixtime(\"formatted_datettime_column\")) #changes date-time column to unix date-time format \n",
    "        .withColumn(\"column_name\", regexp_replace(\"column_name\", \"string_value\", \"new_string_value\")) #replace part of a string with another string \n",
    "        .withColumn(\"column_name\", from_json(col(\"column_name\"), new_schema)) #changing the schema of a column in json \n",
    "        .withColumn(\"column_name\", explode(\"column_name\")) #exploding the array to get the individual rows\n",
    "        {Tranformations} # This place-holder represents additional transformations that you want to make with respect to the data.\n",
    "        )\n",
    "##create a table from the DataFrame\n",
    "df2.write.format(\"delta\").saveAsTable(\"Fact_cleansed\")"
   ]
  },
  {
   "cell_type": "markdown",
   "metadata": {},
   "source": [
    "> Note: - All the transformations you make on a table need to match with the new schema that you have declared at the beginning."
   ]
  }
 ],
 "metadata": {
  "application/vnd.databricks.v1+notebook": {
   "dashboards": [],
   "language": "python",
   "notebookMetadata": {
    "pythonIndentUnit": 4
   },
   "notebookName": "RawFiles_silver-layer-notebook",
   "widgets": {}
  },
  "kernelspec": {
   "display_name": "Python 3 (ipykernel)",
   "language": "python",
   "name": "python3"
  },
  "language_info": {
   "codemirror_mode": {
    "name": "ipython",
    "version": 3
   },
   "file_extension": ".py",
   "mimetype": "text/x-python",
   "name": "python",
   "nbconvert_exporter": "python",
   "pygments_lexer": "ipython3",
   "version": "3.10.9"
  }
 },
 "nbformat": 4,
 "nbformat_minor": 1
}
