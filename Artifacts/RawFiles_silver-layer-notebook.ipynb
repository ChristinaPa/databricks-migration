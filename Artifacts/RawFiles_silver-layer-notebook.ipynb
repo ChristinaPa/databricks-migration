{
 "cells": [
  {
   "attachments": {},
   "cell_type": "markdown",
   "metadata": {},
   "source": [
    "## Transformations (Silver layer)"
   ]
  },
  {
   "attachments": {},
   "cell_type": "markdown",
   "metadata": {
    "application/vnd.databricks.v1+cell": {
     "cellMetadata": {},
     "inputWidgets": {},
     "nuid": "f3809f54-49e3-45b3-b743-b02ad2c6ddba",
     "showTitle": false,
     "title": ""
    }
   },
   "source": [
    "If you want to structure your data differently for the silver layer, you can specify the new schema in the \"Schema\" place-holder below."
   ]
  },
  {
   "cell_type": "code",
   "execution_count": null,
   "metadata": {},
   "outputs": [],
   "source": [
    "new_schema = {Schema}"
   ]
  },
  {
   "attachments": {},
   "cell_type": "markdown",
   "metadata": {},
   "source": [
    "```import dlt``` - **dlt** is imported which is Python package for working with Delta Lake and also provides additional functionality or abstractions for working with data in Apache Spark.\n",
    "\n",
    "```from pyspark.sql.functions import *``` - This imports all functions from the pyspark.sql.functions module. The **pyspark.sql.functions** module contains a wide range of functions that can be used for data manipulation and transformation in Spark SQL."
   ]
  },
  {
   "cell_type": "code",
   "execution_count": null,
   "metadata": {},
   "outputs": [],
   "source": [
    "import dlt\n",
    "from pyspark.sql.functions import *"
   ]
  },
  {
   "attachments": {},
   "cell_type": "markdown",
   "metadata": {},
   "source": [
    "**dlt.read()** function is used to read data from a source.\n",
    "\n",
    "**.select(*)** selects all columns from the DataFrame read from the source.\n",
    "\n",
    "**{Tranformations}** - This place-holder represents additional transformations that you want to make with respect to the data. Few instances have been given in the following codes.\n",
    "\n",
    "> Note: - All the transformations you make on a table need to match with the new schema that you have declared at the beginning."
   ]
  },
  {
   "cell_type": "code",
   "execution_count": null,
   "metadata": {},
   "outputs": [],
   "source": [
    "@dlt.table\n",
    "def ToBeDimension1_cleansed():\n",
    "    return (\n",
    "        dlt.read(\"ToBeDimension1_raw\")\n",
    "        .select(*)\n",
    "        .withColumnRenamed('OldColumnName', 'New_Column_Name') #changing column name\n",
    "        .withColumn(\"column_name\", regexp_replace(\"column_name\", \"string_value\", \"new_string_value\")) \n",
    "         #replace part of a string with another string\n",
    "         .withColumn(\"datetime_comun\", from_unixtime(\"formatted_datettime_column\")) \n",
    "         #changes date-time column to unix date-time format\n",
    "        .withColumn(\"column_name\", from_json(col(\"column_name\"), new_schema)) \n",
    "         #changing the schema of a column in json\n",
    "        .withColumn(\"column_name\", explode(\"column_name\")) #exploding the array to get the individual rows\n",
    "        {Tranformations}\n",
    "        )"
   ]
  },
  {
   "cell_type": "code",
   "execution_count": null,
   "metadata": {},
   "outputs": [],
   "source": [
    "@dlt.table\n",
    "def ToBeDimension2_cleansed():\n",
    "    return (\n",
    "        dlt.read(\"ToBeDimension2_raw\")\n",
    "        .select(*)\n",
    "        .withColumnRenamed('OldColumnName', 'New_Column_Name') #changing column name\n",
    "        .withColumn(\"datetime_comun\", from_unixtime(\"formatted_datettime_column\")) \n",
    "         #changes date-time column to unix date-time format\n",
    "        .withColumn(\"column_name\", regexp_replace(\"column_name\", \"string_value\", \"new_string_value\")) \n",
    "         #replace part of a string with another string\n",
    "        .withColumn(\"column_name\", from_json(col(\"column_name\"), new_schema)) \n",
    "         #changing the schema of a column in json\n",
    "        .withColumn(\"column_name\", explode(\"column_name\")) #exploding the array to get the individual rows\n",
    "        {Tranformations}\n",
    "        )"
   ]
  },
  {
   "cell_type": "code",
   "execution_count": null,
   "metadata": {
    "application/vnd.databricks.v1+cell": {
     "cellMetadata": {},
     "inputWidgets": {},
     "nuid": "726b8c6e-6f9d-4e4c-814a-fd4ef9910dd9",
     "showTitle": false,
     "title": ""
    }
   },
   "outputs": [],
   "source": [
    "@dlt.table\n",
    "def ToBeFact_cleansed():\n",
    "    return (\n",
    "        dlt.read(\"ToBeFact_raw\")\n",
    "        .select(*)\n",
    "        .withColumnRenamed('OldColumnName', 'New_Column_Name') #changing column name\n",
    "        .withColumn(\"datetime_comun\", from_unixtime(\"formatted_datettime_column\")) \n",
    "         #changes date-time column to unix date-time format\n",
    "        .withColumn(\"column_name\", regexp_replace(\"column_name\", \"string_value\", \"new_string_value\")) \n",
    "         #replace part of a string with another string\n",
    "        .withColumn(\"column_name\", from_json(col(\"column_name\"), new_schema)) \n",
    "         #changing the schema of a column in json\n",
    "        .withColumn(\"column_name\", explode(\"column_name\")) #exploding the array to get the individual rows\n",
    "        {Tranformations}\n",
    "        )"
   ]
  }
 ],
 "metadata": {
  "application/vnd.databricks.v1+notebook": {
   "dashboards": [],
   "language": "python",
   "notebookMetadata": {
    "pythonIndentUnit": 4
   },
   "notebookName": "RawFiles_silver-layer-notebook",
   "widgets": {}
  },
  "language_info": {
   "name": "python"
  }
 },
 "nbformat": 4,
 "nbformat_minor": 0
}
