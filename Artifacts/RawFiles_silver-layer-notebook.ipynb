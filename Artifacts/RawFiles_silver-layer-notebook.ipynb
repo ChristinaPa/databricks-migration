{
 "cells": [
  {
   "cell_type": "markdown",
   "metadata": {
    "application/vnd.databricks.v1+cell": {
     "cellMetadata": {},
     "inputWidgets": {},
     "nuid": "f3809f54-49e3-45b3-b743-b02ad2c6ddba",
     "showTitle": false,
     "title": ""
    }
   },
   "source": [
    "If you want to structure your data differently for the silver layer, you can specify the new schema in the \"Schema\" placeholder below."
   ]
  },
  {
   "cell_type": "code",
   "execution_count": 0,
   "metadata": {
    "application/vnd.databricks.v1+cell": {
     "cellMetadata": {},
     "inputWidgets": {},
     "nuid": "726b8c6e-6f9d-4e4c-814a-fd4ef9910dd9",
     "showTitle": false,
     "title": ""
    }
   },
   "outputs": [],
   "source": [
    "new_schema = {Schema}\n",
    "\n",
    "import dlt\n",
    "from pyspark.sql.functions import *\n",
    "\n",
    "@dlt.table\n",
    "def ToBeDimension1_cleansed():\n",
    "    return (\n",
    "        dlt.read(\"ToBeDimension1_raw\")\n",
    "        .select(*)\n",
    "        .withColumnRenamed('OldColumnName', 'New_Column_Name')\n",
    "        {Tranformations}\n",
    "        )\n",
    "\n",
    "@dlt.table\n",
    "def ToBeDimension2_cleansed():\n",
    "    return (\n",
    "        dlt.read(\"ToBeDimension2_raw\")\n",
    "        .select(*)\n",
    "        .withColumnRenamed('OldColumnName', 'New_Column_Name')\n",
    "        {Tranformations}\n",
    "        )\n",
    "\n",
    "@dlt.table\n",
    "def ToBeFact_cleansed():\n",
    "    return (\n",
    "        dlt.read(\"ToBeFact_raw\")\n",
    "        .select(*)\n",
    "        .withColumnRenamed('OldColumnName', 'New_Column_Name')\n",
    "        {Tranformations}\n",
    "        )"
   ]
  },
  {
   "cell_type": "markdown",
   "metadata": {
    "application/vnd.databricks.v1+cell": {
     "cellMetadata": {},
     "inputWidgets": {},
     "nuid": "5d3e353f-de7c-4fb0-a214-b11cbf3aa104",
     "showTitle": false,
     "title": ""
    }
   },
   "source": [
    "- You can add necessary tranformations that you want to make with respect to the data. Few instances have been given in the code.\n",
    "- All the transformations you make on a table need to match with the new schema that you have declared."
   ]
  }
 ],
 "metadata": {
  "application/vnd.databricks.v1+notebook": {
   "dashboards": [],
   "language": "python",
   "notebookMetadata": {
    "pythonIndentUnit": 4
   },
   "notebookName": "RawFiles_silver-layer-notebook",
   "widgets": {}
  }
 },
 "nbformat": 4,
 "nbformat_minor": 0
}
