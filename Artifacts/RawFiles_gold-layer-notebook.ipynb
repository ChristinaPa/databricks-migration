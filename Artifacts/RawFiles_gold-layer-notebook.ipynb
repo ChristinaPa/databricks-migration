{
 "cells": [
  {
   "attachments": {},
   "cell_type": "markdown",
   "metadata": {},
   "source": [
    "## Create Dimension and Fact tables (Gold layer)"
   ]
  },
  {
   "attachments": {},
   "cell_type": "markdown",
   "metadata": {},
   "source": [
    "The Python code imports the **dlt** library and the **col** and **expr** functions from the **pyspark.sql.functions** module.\n",
    "\n",
    "The **dlt** library is used to read data from files and define tables."
   ]
  },
  {
   "cell_type": "code",
   "execution_count": null,
   "metadata": {},
   "outputs": [],
   "source": [
    "import dlt\n",
    "from pyspark.sql.functions import col, expr"
   ]
  },
  {
   "attachments": {},
   "cell_type": "markdown",
   "metadata": {
    "application/vnd.databricks.v1+cell": {
     "cellMetadata": {},
     "inputWidgets": {},
     "nuid": "f86a8b6b-f738-40ec-9293-25e25d7044fd",
     "showTitle": false,
     "title": ""
    }
   },
   "source": [
    "The below code defines two dimension tables, **dimension1** and **dimension2** using the @dlt.table decorator. The decorator takes an optional argument, which is a dictionary representing the schema of the table. The **dimension1** and **dimension2** tables use the schema argument to define their schemas.\n",
    "\n",
    "The **dimension1** and **dimension2** tables are defined by reading the cleansed data from files using the **dlt.read** function."
   ]
  },
  {
   "cell_type": "code",
   "execution_count": null,
   "metadata": {
    "application/vnd.databricks.v1+cell": {
     "cellMetadata": {},
     "inputWidgets": {},
     "nuid": "43b9804a-a6db-43fd-b3c7-6cd7b90aa844",
     "showTitle": false,
     "title": ""
    }
   },
   "outputs": [],
   "source": [
    "@dlt.table (\n",
    "    {Dimension table 1 Schema}\n",
    ") \n",
    "def dimemsion1():\n",
    "    return dlt.read(\"ToBeDimension1_cleansed\")\n",
    "\n",
    "@dlt.table (\n",
    "    {Dimension table 2 Schema}\n",
    ") \n",
    "def dimemsion2():\n",
    "    return dlt.read(\"ToBeDimension2_cleansed\")"
   ]
  },
  {
   "attachments": {},
   "cell_type": "markdown",
   "metadata": {
    "application/vnd.databricks.v1+cell": {
     "cellMetadata": {},
     "inputWidgets": {},
     "nuid": "3b312c92-cd84-48b5-b89d-09e74bd6bfa1",
     "showTitle": false,
     "title": ""
    }
   },
   "source": [
    " The **fact_table** is defined by joining the **dimension1**, **dimension2**, and cleansed data from a file using the **join** function and selecting necessary columns using the **select** function. The **col** and **expr** functions are used to create new columns by casting a column to a date type and multiplying two columns, respectively. **fact_table** infers the schema from the joined tables."
   ]
  },
  {
   "cell_type": "code",
   "execution_count": null,
   "metadata": {
    "application/vnd.databricks.v1+cell": {
     "cellMetadata": {},
     "inputWidgets": {},
     "nuid": "562217e8-7101-4ab6-8611-f80d9704f903",
     "showTitle": false,
     "title": ""
    }
   },
   "outputs": [],
   "source": [
    "@dlt.table\n",
    "def fact_table():\n",
    "    s = dlt.read(\"dimension1\").alias(\"s\")\n",
    "    p = dlt.read(\"dimension2\").alias(\"p\")\n",
    "    c = dlt.read(\"ToBeFact_cleansed\").alias(\"c\")\n",
    "    return (\n",
    "        s.join(p, s.key_column == p.key_column, \"inner\")\n",
    "        .join(c, s.key_column == c.key_column, \"inner\")\n",
    "        .select(\n",
    "            \"s.column1\",\n",
    "            \"c.column2\",\n",
    "            \"p.column3\",\n",
    "            col(\"s.old_column_name\").cast(\"date\").alias(\"new_column_name\"),\n",
    "            \"s.column4\",\n",
    "            \"s.column5\",\n",
    "            expr(\"s.column4 * s.column5\").alias(\"new_column_name\"),\n",
    "        )\n",
    "    )\n",
    "     \n",
    "     "
   ]
  }
 ],
 "metadata": {
  "application/vnd.databricks.v1+notebook": {
   "dashboards": [],
   "language": "python",
   "notebookMetadata": {
    "pythonIndentUnit": 4
   },
   "notebookName": "RawFiles_gold-layer-notebook",
   "widgets": {}
  },
  "language_info": {
   "name": "python"
  }
 },
 "nbformat": 4,
 "nbformat_minor": 0
}
