{
 "cells": [
  {
   "cell_type": "code",
   "execution_count": null,
   "metadata": {
    "application/vnd.databricks.v1+cell": {
     "cellMetadata": {
      "byteLimit": 2048000,
      "rowLimit": 10000
     },
     "inputWidgets": {},
     "nuid": "869c9f26-4b94-4414-a7aa-f6de4cc2d2ab",
     "showTitle": false,
     "title": ""
    }
   },
   "outputs": [],
   "source": [
    "import dlt\n",
    "import pyspark.pandas as ps\n",
    "from pyspark.sql.functions import *\n",
    "from pyspark.sql.types import *"
   ]
  },
{
   "cell_type": "code",
   "execution_count": null,
   "metadata": {
    "application/vnd.databricks.v1+cell": {
     "cellMetadata": {
      "byteLimit": 2048000,
      "rowLimit": 10000
     },
     "inputWidgets": {},
     "nuid": "8439f5c2-f9c7-4be0-b0cd-50b26e487cea",
     "showTitle": false,
     "title": ""
    }
   },
   "outputs": [],
   "source": [
    "service_credential = dbutils.secrets.get(scope=\"databricksscopename\",key=\"databricksservicekey\")\n",
    "\n",
    "spark.conf.set(\"fs.azure.account.auth.type.adlsx5u224gv3xgd2.dfs.core.windows.net\", \"OAuth\")\n",
    "spark.conf.set(\"fs.azure.account.oauth.provider.type.adlsx5u224gv3xgd2.dfs.core.windows.net\", \"org.apache.hadoop.fs.azurebfs.oauth2.ClientCredsTokenProvider\")\n",
    "spark.conf.set(\"fs.azure.account.oauth2.client.id.adlsx5u224gv3xgd2.dfs.core.windows.net\", \"5c962712-e111-48b0-b9af-41f03175e216\")\n",
    "spark.conf.set(\"fs.azure.account.oauth2.client.secret.adlsx5u224gv3xgd2.dfs.core.windows.net\", service_credential)\n",
    "spark.conf.set(\"fs.azure.account.oauth2.client.endpoint.adlsx5u224gv3xgd2.dfs.core.windows.net\", \"https://login.microsoftonline.com/72f988bf-86f1-41af-91ab-2d7cd011db47/oauth2/token\")"
   ]
  },
  {
   "cell_type": "code",
   "execution_count": null,
   "metadata": {
    "application/vnd.databricks.v1+cell": {
     "cellMetadata": {
      "byteLimit": 2048000,
      "rowLimit": 10000
     },
     "inputWidgets": {},
     "nuid": "9d93721e-970b-4661-985a-38b56cf41b66",
     "showTitle": false,
     "title": ""
    }
   },
   "outputs": [],
   "source": [
    "EH_NS_NAME = \"streamdata-84d2c3-ns\"\n",
    "BOOTSTRAP_SERVERS = f\"{EH_NS_NAME}.servicebus.windows.net:9093\"\n",
    "SAKEY = \"MjLN4fNXCODO9T/eNCXJObufnUu8yIXoA+AEhNzpTXQ=\"\n",
    "SANAME = \"rule\"\n",
    "EH_SASL = f\"kafkashaded.org.apache.kafka.common.security.plain.PlainLoginModule required username=\\\"$ConnectionString\\\" password=\\\"Endpoint=sb://{EH_NS_NAME}.servicebus.windows.net/;SharedAccessKeyName={SANAME};SharedAccessKey={SAKEY}\\\";\""
   ]
  },
  {
   "cell_type": "code",
   "execution_count": null,
   "metadata": {
    "application/vnd.databricks.v1+cell": {
     "cellMetadata": {
      "byteLimit": 2048000,
      "rowLimit": 10000
     },
     "inputWidgets": {},
     "nuid": "aff3d727-a34b-4d13-9c0b-a99c6f902628",
     "showTitle": false,
     "title": ""
    }
   },
   "outputs": [],
   "source": [
    "@dlt.table(\n",
    " path = \"abfss://data@adlsx5u224gv3xgd2.dfs.core.windows.net/retail_org_dlt/Bronze/sales_order_stream\"\n",
    " )\n",
    "def bronze_sales_order_stream():\n",
    "    df = spark.readStream.format(\"kafka\") \\\n",
    "            .option(\"kafka.bootstrap.servers\", BOOTSTRAP_SERVERS) \\\n",
    "            .option(\"subscribe\", EH_NS_NAME) \\\n",
    "            .option(\"kafka.sasl.mechanism\", \"PLAIN\") \\\n",
    "            .option(\"kafka.security.protocol\", \"SASL_SSL\") \\\n",
    "            .option(\"kafka.sasl.jaas.config\", EH_SASL) \\\n",
    "            .option(\"kafka.request.timeout.ms\", \"60000\") \\\n",
    "            .option(\"kafka.session.timeout.ms\", \"60000\") \\\n",
    "            .option(\"startingOffsets\", \"earliest\") \\\n",
    "            .option(\"failOnDataLoss\", \"false\") \\\n",
    "            .load()\n",
    "\n",
    "    sales_orders_df = df.select(\"value\").withColumn(\"value\", col(\"value\").cast(\"string\"))\n",
    "\n",
    "    return sales_orders_df"
   ]
  },
  {
   "cell_type": "code",
   "execution_count": null,
   "metadata": {
    "application/vnd.databricks.v1+cell": {
     "cellMetadata": {
      "byteLimit": 2048000,
      "rowLimit": 10000
     },
     "inputWidgets": {},
     "nuid": "f9b21919-8f8a-4c45-a32d-995080e70e82",
     "showTitle": false,
     "title": ""
    }
   },
   "outputs": [],
   "source": [
    "sales_orders_schema = StructType(\n",
    "    [\n",
    "        StructField(\n",
    "            \"clicked_items\", ArrayType(ArrayType(StringType(), True), True), True\n",
    "        ),\n",
    "        StructField(\"customer_id\", LongType(), True),\n",
    "        StructField(\"customer_name\", StringType(), True),\n",
    "        StructField(\"number_of_line_items\", LongType(), True),\n",
    "        StructField(\"order_datetime\", StringType(), True),\n",
    "        StructField(\"order_number\", LongType(), True),\n",
    "        StructField(\n",
    "            \"ordered_products\",\n",
    "            ArrayType(\n",
    "                StructType(\n",
    "                    [\n",
    "                        StructField(\"id\", StringType(), True),\n",
    "                        StructField(\"qty\", IntegerType(), True),\n",
    "                        StructField(\"curr\", StringType(), True),\n",
    "                        StructField(\"name\", StringType(), True),\n",
    "                        StructField(\"unit\", StringType(), True),\n",
    "                        StructField(\"price\", IntegerType(), True),\n",
    "                        StructField(\n",
    "                            \"promotion_info\",\n",
    "                            StructType(\n",
    "                                [\n",
    "                                    StructField(\"promo_id\", IntegerType(), True),\n",
    "                                    StructField(\"promo_qty\", IntegerType(), True),\n",
    "                                    StructField(\"promo_disc\", DecimalType(3, 2), True),\n",
    "                                    StructField(\"promo_item\", StringType(), True),\n",
    "                                ]\n",
    "                            ),\n",
    "                            True,\n",
    "                        ),\n",
    "                    ]\n",
    "                ),\n",
    "                True,\n",
    "            ),\n",
    "            True,\n",
    "        ),\n",
    "        StructField(\n",
    "            \"promo_info\",\n",
    "            ArrayType(\n",
    "                StructType(\n",
    "                    [\n",
    "                        StructField(\"promo_id\", IntegerType(), True),\n",
    "                        StructField(\"promo_qty\", IntegerType(), True),\n",
    "                        StructField(\"promo_disc\", DecimalType(3, 2), True),\n",
    "                        StructField(\"promo_item\", StringType(), True),\n",
    "                    ]\n",
    "                ),\n",
    "                True,\n",
    "            ),\n",
    "            True,\n",
    "        ),\n",
    "    ]\n",
    "  )\n",
    "\n",
    "\n",
    "@dlt.table(\n",
    " path = \"abfss://data@adlsx5u224gv3xgd2.dfs.core.windows.net/retail_org_dlt/Silver/sales_order_stream\"\n",
    " )\n",
    "def silver_sales_order_stream():\n",
    "    return (\n",
    "        dlt.read_stream(\"bronze_sales_order_stream\")\n",
    "        .select(\"*\")\n",
    "        .withColumn(\"value\", regexp_replace(\"value\", '\"\\\\[', \"[\"))\n",
    "        .withColumn(\"value\", regexp_replace(\"value\", '\\\\]\"', \"]\"))\n",
    "        .withColumn(\"value\", regexp_replace(\"value\",\"\\\\\\\\\", \"\"))\n",
    "        .withColumn(\"value\", expr(\"substring(value, 2, length(value))\"))\n",
    "        .withColumn(\"value\", expr(\"substring(value, 1, length(value)-1)\"))\n",
    "        .select(from_json(col(\"value\"), sales_orders_schema).alias(\"row\"))\n",
    "        .select(\"row.*\")\n",
    "        .withColumn(\"ordered_products\", explode(\"ordered_products\"))\n",
    "        .withColumn(\"order_datetime\", from_unixtime(\"order_datetime\"))\n",
    "        .withColumn(\"product_id\", col(\"ordered_products\").id)\n",
    "        .withColumn(\"unit_price\", col(\"ordered_products\").price)\n",
    "        .withColumn(\"quantity\", col(\"ordered_products\").qty)\n",
    "    )"
   ]
  },
  {
   "cell_type": "code",
   "execution_count": null,
   "metadata": {
    "application/vnd.databricks.v1+cell": {
     "cellMetadata": {
      "byteLimit": 2048000,
      "rowLimit": 10000
     },
     "inputWidgets": {},
     "nuid": "2454ae64-33c2-4e6e-a178-54bcd39059fc",
     "showTitle": false,
     "title": ""
    }
   },
   "outputs": [],
   "source": [
    "# merge sales_order_cleansed_stream_dlt with sales_order_cleansed_dlt"
   ]
  },
  {
   "cell_type": "code",
   "execution_count": null,
   "metadata": {
    "application/vnd.databricks.v1+cell": {
     "cellMetadata": {},
     "inputWidgets": {},
     "nuid": "01f53287-b35c-4595-b733-907f94678615",
     "showTitle": false,
     "title": ""
    }
   },
   "outputs": [],
   "source": [
     "@dlt.table(\n",
    " path = \"abfss://data@adlsx5u224gv3xgd2.dfs.core.windows.net/retail_org_dlt/Gold/fact_sales_orders_stream\"\n",
    " )\n",
    "def fact_sales_orders_stream():\n",
    "    s = dlt.read_stream(\"silver_sales_order_stream\").alias(\"s\")\n",
    "    p = spark.read.format(\"delta\").table(\"retail_org_dlt.dim_products\").alias(\"p\")\n",
    "    c = spark.read.format(\"delta\").table(\"retail_org_dlt.dim_customers\").alias(\"c\")\n",
    "\n",
    "    df1 = s.join(p, s.product_id == p.product_id, \"inner\") \\\n",
    "            .join(c, s.customer_id == c.customer_id, \"inner\") \\\n",
    "            .select(\n",
    "                \"s.order_number\",\n",
    "                \"c.customer_key\",\n",
    "                \"p.product_key\",\n",
    "                col(\"s.order_datetime\").cast(\"date\").alias(\"order_date\"),\n",
    "                \"s.unit_price\",\n",
    "                \"s.quantity\",\n",
    "                expr(\"s.unit_price * s.quantity\").alias(\"total_price\"),\n",
    "            )\n",
    "    \n",
    "    return df1"
   ]
  },
  {
   "cell_type": "code",
   "execution_count": null,
   "metadata": {
    "application/vnd.databricks.v1+cell": {
     "cellMetadata": {
      "byteLimit": 2048000,
      "rowLimit": 10000
     },
     "inputWidgets": {},
     "nuid": "a96a73ef-e706-4637-82a2-ac385d7d47bb",
     "showTitle": false,
     "title": ""
    }
   },
   "outputs": [],
   "source": [
    "@dlt.table(\n",
    " path = \"abfss://data@adlsx5u224gv3xgd2.dfs.core.windows.net/retail_org_dlt/Gold/fact_customer_sales_stream\"\n",
    " )\n",
    "def fact_customer_sales_stream():\n",
    "    s = dlt.read_stream(\"silver_sales_order_stream\").alias(\"s\")\n",
    "    p = spark.read.format(\"delta\").table(\"retail_org_dlt.dim_products\").alias(\"p\")\n",
    "    c = spark.read.format(\"delta\").table(\"retail_org_dlt.dim_customers\").alias(\"c\")\n",
    "\n",
    "    df2 = s.join(p, s.product_id == p.product_id, \"inner\") \\\n",
    "            .join(c, s.customer_id == c.customer_id, \"inner\") \\\n",
    "            .groupBy(\"c.customer_key\", \"p.product_key\") \\\n",
    "            .agg(\n",
    "                sum(\"quantity\").alias(\"total_quantity\"),\n",
    "                sum(expr(\"s.unit_price * s.quantity\")).alias(\"sale_amount\"),\n",
    "            )\n",
    "    \n",
    "    return df2"
   ]
  }
 ],
 "metadata": {
  "application/vnd.databricks.v1+notebook": {
   "dashboards": [],
   "language": "python",
   "notebookMetadata": {
    "pythonIndentUnit": 4
   },
   "notebookName": "bronze_silver_gold_stream",
   "widgets": {}
  },
  "language_info": {
   "name": "python"
  }
 },
 "nbformat": 4,
 "nbformat_minor": 0
}
