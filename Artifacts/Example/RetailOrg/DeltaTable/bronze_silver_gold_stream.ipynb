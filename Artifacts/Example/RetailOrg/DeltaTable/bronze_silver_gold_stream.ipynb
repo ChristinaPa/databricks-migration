{
 "cells": [
{
   "cell_type": "code",
   "execution_count": null,
   "metadata": {
    "application/vnd.databricks.v1+cell": {
     "cellMetadata": {
      "byteLimit": 2048000,
      "rowLimit": 10000
     },
     "inputWidgets": {},
     "nuid": "8439f5c2-f9c7-4be0-b0cd-50b26e487cea",
     "showTitle": false,
     "title": ""
    }
   },
   "outputs": [],
   "source": [
    "service_credential = dbutils.secrets.get(scope=\"databricksscopename\",key=\"databricksservicekey\")\n",
    "\n",
    "spark.conf.set(\"fs.azure.account.auth.type.adlsx5u224gv3xgd2.dfs.core.windows.net\", \"OAuth\")\n",
    "spark.conf.set(\"fs.azure.account.oauth.provider.type.adlsx5u224gv3xgd2.dfs.core.windows.net\", \"org.apache.hadoop.fs.azurebfs.oauth2.ClientCredsTokenProvider\")\n",
    "spark.conf.set(\"fs.azure.account.oauth2.client.id.adlsx5u224gv3xgd2.dfs.core.windows.net\", \"5c962712-e111-48b0-b9af-41f03175e216\")\n",
    "spark.conf.set(\"fs.azure.account.oauth2.client.secret.adlsx5u224gv3xgd2.dfs.core.windows.net\", service_credential)\n",
    "spark.conf.set(\"fs.azure.account.oauth2.client.endpoint.adlsx5u224gv3xgd2.dfs.core.windows.net\", \"https://login.microsoftonline.com/72f988bf-86f1-41af-91ab-2d7cd011db47/oauth2/token\")"
   ]
  },  
{
   "cell_type": "code",
   "execution_count": null,
   "metadata": {
    "application/vnd.databricks.v1+cell": {
     "cellMetadata": {
      "byteLimit": 2048000,
      "rowLimit": 10000
     },
     "inputWidgets": {},
     "nuid": "bda1205b-24d3-4665-b56e-531e8a136fa7",
     "showTitle": false,
     "title": ""
    }
   },
   "outputs": [],
   "source": [
    "# Source with default settings\n",
    "%pip install azure-eventhub\n",
    "from azure.eventhub import EventHubProducerClient, EventHubConsumerClient, EventData\n",
    "\n",
    "import pyspark.pandas as ps\n",
    "from pyspark.sql.functions import *\n",
    "from pyspark.sql.types import *\n",
    "\n",
    "\n",
    "\n",
    "from pyspark import SparkContext\n",
    "sc =SparkContext.getOrCreate()\n",
    "\n",
    "connectionString = \"Endpoint=sb://streamdata-84d2c3-ns.servicebus.windows.net/;SharedAccessKeyName=rule;SharedAccessKey=MjLN4fNXCODO9T/eNCXJObufnUu8yIXoA+AEhNzpTXQ=;EntityPath=streamdata-84d2c3-ns\"\n",
    "ehConf = {}\n",
    "ehConf['eventhubs.connectionString'] = sc._jvm.org.apache.spark.eventhubs.EventHubsUtils.encrypt(connectionString)\n",
    "\n",
    "df = spark \\\n",
    "  .readStream \\\n",
    "  .format(\"eventhubs\") \\\n",
    "  .options(**ehConf) \\\n",
    "  .load()\n",
    "\n",
    "sales_orders_df = df.select(\"body\").withColumn(\"body\", col(\"body\").cast(\"string\"))\n",
    "\n",
    "sales_orders_df.writeStream.format(\"delta\")\\\n",
    "   .outputMode(\"append\")\\\n",
    "    .option('path','abfss://data@adlsx5u224gv3xgd2.dfs.core.windows.net/retail_org_dt/Bronze/sales_order_stream')\\\n",
    "   .option(\"checkpointLocation\", \"/tmp/delta/events/_checkpoints/\")\\\n",
    "   .toTable(\"retail_org_dt.bronze_sales_order_stream\")\n",
    "\n"
   ]
  },

  {
   "cell_type": "code",
   "execution_count": null,
   "metadata": {
    "application/vnd.databricks.v1+cell": {
     "cellMetadata": {
      "byteLimit": 2048000,
      "rowLimit": 10000
     },
     "inputWidgets": {},
     "nuid": "4fe1989b-b14d-45d5-8056-6610433d2dd6",
     "showTitle": false,
     "title": ""
    }
   },
   "outputs": [],
   "source": [
    "from pyspark.sql.functions import *\n",
    "from pyspark.sql.types import *\n",
    "\n",
    "sales_orders_schema = StructType(\n",
    "    [\n",
    "        StructField(\n",
    "            \"clicked_items\", ArrayType(ArrayType(StringType(), True), True), True\n",
    "        ),\n",
    "        StructField(\"customer_id\", LongType(), True),\n",
    "        StructField(\"customer_name\", StringType(), True),\n",
    "        StructField(\"number_of_line_items\", LongType(), True),\n",
    "        StructField(\"order_datetime\", StringType(), True),\n",
    "        StructField(\"order_number\", LongType(), True),\n",
    "        StructField(\n",
    "            \"ordered_products\",\n",
    "            ArrayType(\n",
    "                StructType(\n",
    "                    [\n",
    "                        StructField(\"id\", StringType(), True),\n",
    "                        StructField(\"qty\", IntegerType(), True),\n",
    "                        StructField(\"curr\", StringType(), True),\n",
    "                        StructField(\"name\", StringType(), True),\n",
    "                        StructField(\"unit\", StringType(), True),\n",
    "                        StructField(\"price\", IntegerType(), True),\n",
    "                        StructField(\n",
    "                            \"promotion_info\",\n",
    "                            StructType(\n",
    "                                [\n",
    "                                    StructField(\"promo_id\", IntegerType(), True),\n",
    "                                    StructField(\"promo_qty\", IntegerType(), True),\n",
    "                                    StructField(\"promo_disc\", DecimalType(3, 2), True),\n",
    "                                    StructField(\"promo_item\", StringType(), True),\n",
    "                                ]\n",
    "                            ),\n",
    "                            True,\n",
    "                        ),\n",
    "                    ]\n",
    "                ),\n",
    "                True,\n",
    "            ),\n",
    "            True,\n",
    "        ),\n",
    "        StructField(\n",
    "            \"promo_info\",\n",
    "            ArrayType(\n",
    "                StructType(\n",
    "                    [\n",
    "                        StructField(\"promo_id\", IntegerType(), True),\n",
    "                        StructField(\"promo_qty\", IntegerType(), True),\n",
    "                        StructField(\"promo_disc\", DecimalType(3, 2), True),\n",
    "                        StructField(\"promo_item\", StringType(), True),\n",
    "                    ]\n",
    "                ),\n",
    "                True,\n",
    "            ),\n",
    "            True,\n",
    "        ),\n",
    "    ]\n",
    "  )\n",
    "\n",
    "df1 = (spark.readStream.format(\"delta\").table(\"retail_org_dt.bronze_sales_order_stream\")\n",
    "       .select(\"*\")\n",
    "       .withColumn(\"body\", regexp_replace(\"body\", '\"\\\\[', \"[\"))\n",
    "       .withColumn(\"body\", regexp_replace(\"body\", '\\\\]\"', \"]\"))\n",
    "       .withColumn(\"body\", regexp_replace(\"body\",\"\\\\\\\\\", \"\"))\n",
    "       .withColumn(\"body\", expr(\"substring(body, 2, length(body))\"))\n",
    "       .withColumn(\"body\", expr(\"substring(body, 1, length(body)-1)\"))\n",
    "       .select(from_json(col(\"body\"), sales_orders_schema).alias(\"row\"))\n",
    "       .select(\"row.*\")\n",
    "       .withColumn(\"ordered_products\", explode(\"ordered_products\"))\n",
    "       .withColumn(\"order_datetime\", from_unixtime(\"order_datetime\"))\n",
    "       .withColumn(\"product_id\", col(\"ordered_products\").id)\n",
    "       .withColumn(\"unit_price\", col(\"ordered_products\").price)\n",
    "       .withColumn(\"quantity\", col(\"ordered_products\").qty)\n",
    "       \n",
    "      )\n",
    "df1.writeStream.format(\"delta\")\\\n",
    "   .outputMode(\"append\")\\\n",
    "   .option('path','abfss://data@adlsx5u224gv3xgd2.dfs.core.windows.net/retail_org_dt/Silver/sales_orders')\\\n",
    "   .option(\"checkpointLocation\", \"/tmp/delta/eventschkforsilver/_checkpoints/\")\\\n",
    "   .toTable(\"retail_org_dt.silver_sales_orders\")"
   ]
  },
  {
   "cell_type": "code",
   "execution_count": null,
   "metadata": {
    "application/vnd.databricks.v1+cell": {
     "cellMetadata": {
      "byteLimit": 2048000,
      "rowLimit": 10000
     },
     "inputWidgets": {},
     "nuid": "e6c38b52-cebd-49f9-a099-2e83b47df72d",
     "showTitle": false,
     "title": ""
    }
   },
   "outputs": [],
   "source": [
    "s = spark.readStream.format(\"delta\").table(\"retail_org_dt.silver_sales_orders\").alias(\"s\")\n",
    "p = spark.read.format(\"delta\").table(\"retail_org_dt.dim_products\").alias(\"p\")\n",
    "c = spark.read.format(\"delta\").table(\"retail_org_dt.dim_customers\").alias(\"c\")\n",
    "\n",
    "df2 = s.join(p, s.product_id == p.product_id, \"inner\").join(c, s.customer_id == c.customer_id, \"inner\").select(\"s.order_number\",\"c.customer_key\",\"p.product_key\",col(\"s.order_datetime\").cast(\"date\").alias(\"order_date\"),\"s.unit_price\",\"s.quantity\",expr(\"s.unit_price * s.quantity\").alias(\"total_price\"),)\n",
    "df2.writeStream.format(\"delta\")\\\n",
    "   .outputMode(\"append\")\\\n",
    "   .option('path','abfss://data@adlsx5u224gv3xgd2.dfs.core.windows.net/retail_org_dt/Gold/fact_customer_sales_stream')\\\n",
    "   .option(\"checkpointLocation\", \"/tmp/delta/eventscheckforgold/_checkpoints/\")\\\n",
    "   .toTable(\"retail_org_dt.fact_customer_sales_stream\")"
   ]
  }
 ],
 "metadata": {
  "application/vnd.databricks.v1+notebook": {
   "dashboards": [],
   "language": "python",
   "notebookMetadata": {
    "mostRecentlyExecutedCommandWithImplicitDF": {
     "commandId": 4126486681898744,
     "dataframes": [
      "_sqldf"
     ]
    },
    "pythonIndentUnit": 4
   },
   "notebookName": "bronze_sales_order_new",
   "widgets": {}
  },
  "language_info": {
   "name": "python"
  }
 },
 "nbformat": 4,
 "nbformat_minor": 0
}
