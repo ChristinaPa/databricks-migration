{
 "cells": [
  {
   "cell_type": "code",
   "execution_count": null,
   "metadata": {
    "application/vnd.databricks.v1+cell": {
     "cellMetadata": {
      "byteLimit": 2048000,
      "rowLimit": 10000
     },
     "inputWidgets": {},
     "nuid": "45587948-7c5e-4161-82c6-35501ecf86df",
     "showTitle": false,
     "title": ""
    }
   },
   "outputs": [],
   "source": [
    "from pyspark.sql.functions import *\n",
    "from pyspark.sql.types import *"
   ]
  },
{
   "cell_type": "code",
   "execution_count": null,
   "metadata": {
    "application/vnd.databricks.v1+cell": {
     "cellMetadata": {
      "byteLimit": 2048000,
      "rowLimit": 10000
     },
     "inputWidgets": {},
     "nuid": "8439f5c2-f9c7-4be0-b0cd-50b26e487cea",
     "showTitle": false,
     "title": ""
    }
   },
   "outputs": [],
   "source": [
    "service_credential = dbutils.secrets.get(scope=\"databricksscopename\",key=\"databricksservicekey\")\n",
    "\n",
    "spark.conf.set(\"fs.azure.account.auth.type.adlsx5u224gv3xgd2.dfs.core.windows.net\", \"OAuth\")\n",
    "spark.conf.set(\"fs.azure.account.oauth.provider.type.adlsx5u224gv3xgd2.dfs.core.windows.net\", \"org.apache.hadoop.fs.azurebfs.oauth2.ClientCredsTokenProvider\")\n",
    "spark.conf.set(\"fs.azure.account.oauth2.client.id.adlsx5u224gv3xgd2.dfs.core.windows.net\", \"5c962712-e111-48b0-b9af-41f03175e216\")\n",
    "spark.conf.set(\"fs.azure.account.oauth2.client.secret.adlsx5u224gv3xgd2.dfs.core.windows.net\", service_credential)\n",
    "spark.conf.set(\"fs.azure.account.oauth2.client.endpoint.adlsx5u224gv3xgd2.dfs.core.windows.net\", \"https://login.microsoftonline.com/72f988bf-86f1-41af-91ab-2d7cd011db47/oauth2/token\")"
   ]
  },
  {
   "cell_type": "code",
   "execution_count": null,
   "metadata": {
    "application/vnd.databricks.v1+cell": {
     "cellMetadata": {
      "byteLimit": 2048000,
      "rowLimit": 10000
     },
     "inputWidgets": {},
     "nuid": "d0497046-c966-4ce8-b052-ae105960c161",
     "showTitle": false,
     "title": ""
    }
   },
   "outputs": [],
   "source": [
    "customers_schema = \"customer_id integer,tax_id STRING,tax_code STRING, customer_name STRING,state STRING,city STRING,postcode STRING,street STRING,number STRING,unit STRING,region STRING,district STRING,lon double,lat double,ship_to_address STRING,valid_from STRING,valid_to STRING,units_purchased STRING,loyalty_segment integer, customer_key BIGINT\"\n",
    "\n",
    "customers_df = spark.read \\\n",
    "        .format(\"delta\") \\\n",
    "        .load(\"abfss://data@adlsx5u224gv3xgd2.dfs.core.windows.net/retail_org_dt/Silver/customers\")\n",
    "\n",
    "customers_df = customers_df.withColumn(\"customer_key\", expr(\"monotonically_increasing_id() + 1\"))\n",
    "\n",
    "dim_customers = spark.createDataFrame(customers_df.rdd, customers_schema)\n",
    "\n",
    "dim_customers.write.format(\"delta\").option('path','abfss://data@adlsx5u224gv3xgd2.dfs.core.windows.net/retail_org_dt/Gold/customers').saveAsTable(\"retail_org_dt.dim_customers\")"
   ]
  },
  {
   "cell_type": "code",
   "execution_count": null,
   "metadata": {
    "application/vnd.databricks.v1+cell": {
     "cellMetadata": {
      "byteLimit": 2048000,
      "rowLimit": 10000
     },
     "inputWidgets": {},
     "nuid": "f39b487a-e577-4388-bd36-3b356b15e441",
     "showTitle": false,
     "title": ""
    }
   },
   "outputs": [],
   "source": [
    "products_schema = \"product_id STRING,product_category STRING,product_name STRING,sales_price STRING,ean13 DOUBLE,ean5 STRING,product_unit STRING, product_key BIGINT\"\n",
    "\n",
    "products_df = spark.read \\\n",
    "        .format(\"delta\") \\\n",
    "        .load(\"abfss://data@adlsx5u224gv3xgd2.dfs.core.windows.net/retail_org_dt/Silver/products\") \\\n",
    "        .select(\"product_id\", \"product_category\", \"product_name\", \"sales_price\", \"ean13\", \"ean5\", \"product_unit\")\n",
    "\n",
    "products_df = products_df.withColumn(\"product_key\", expr(\"monotonically_increasing_id() + 1\"))\n",
    "\n",
    "dim_products = spark.createDataFrame(products_df.rdd, products_schema)\n",
    "\n",
    "dim_products.write.format(\"delta\").option('path','abfss://data@adlsx5u224gv3xgd2.dfs.core.windows.net/retail_org_dt/Gold/products').saveAsTable(\"retail_org_dt.dim_products\")"
   ]
  }
 ],
 "metadata": {
  "application/vnd.databricks.v1+notebook": {
   "dashboards": [],
   "language": "python",
   "notebookMetadata": {
    "pythonIndentUnit": 4
   },
   "notebookName": "gold-layer-notebook",
   "widgets": {}
  },
  "language_info": {
   "name": "python"
  }
 },
 "nbformat": 4,
 "nbformat_minor": 0
}
