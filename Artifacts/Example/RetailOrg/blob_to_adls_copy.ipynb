{
 "cells": [
  {
   "cell_type": "code",
   "execution_count": 0,
   "metadata": {
    "application/vnd.databricks.v1+cell": {
     "cellMetadata": {
      "byteLimit": 2048000,
      "rowLimit": 10000
     },
     "inputWidgets": {},
     "nuid": "b7d225e3-3fa0-466c-959e-cc31746d9b8c",
     "showTitle": false,
     "title": ""
    }
   },
   "outputs": [],
   "source": [
    "from pyspark.sql.functions import *\n",
    "from pyspark.sql.types import *"
   ]
  },
  {
   "cell_type": "code",
   "execution_count": 0,
   "metadata": {
    "application/vnd.databricks.v1+cell": {
     "cellMetadata": {
      "byteLimit": 2048000,
      "rowLimit": 10000
     },
     "inputWidgets": {},
     "nuid": "4caf7695-ff0d-4e47-9ad7-4091c0893295",
     "showTitle": false,
     "title": ""
    }
   },
   "outputs": [],
   "source": [
    "service_credential = dbutils.secrets.get(scope=\"databricksscopename\",key=\"databricksservicekey\")\n",
    "\n",
    "spark.conf.set(\"fs.azure.account.auth.type.blobtest0506.dfs.core.windows.net\", \"OAuth\")\n",
    "spark.conf.set(\"fs.azure.account.oauth.provider.type.blobtest0506.dfs.core.windows.net\", \"org.apache.hadoop.fs.azurebfs.oauth2.ClientCredsTokenProvider\")\n",
    "spark.conf.set(\"fs.azure.account.oauth2.client.id.blobtest0506.dfs.core.windows.net\", \"5c962712-e111-48b0-b9af-41f03175e216\")\n",
    "spark.conf.set(\"fs.azure.account.oauth2.client.secret.blobtest0506.dfs.core.windows.net\", service_credential)\n",
    "spark.conf.set(\"fs.azure.account.oauth2.client.endpoint.blobtest0506.dfs.core.windows.net\", \"https://login.microsoftonline.com/72f988bf-86f1-41af-91ab-2d7cd011db47/oauth2/token\")"
   ]
  },
  {
   "cell_type": "code",
   "execution_count": 0,
   "metadata": {
    "application/vnd.databricks.v1+cell": {
     "cellMetadata": {
      "byteLimit": 2048000,
      "rowLimit": 10000
     },
     "inputWidgets": {},
     "nuid": "a906762b-bdcd-4dce-8807-93a12dbcff47",
     "showTitle": false,
     "title": ""
    }
   },
   "outputs": [],
   "source": [
    "spark.conf.set(\"fs.azure.account.auth.type.adlsx5u224gv3xgd2.dfs.core.windows.net\", \"OAuth\")\n",
    "spark.conf.set(\"fs.azure.account.oauth.provider.type.adlsx5u224gv3xgd2.dfs.core.windows.net\", \"org.apache.hadoop.fs.azurebfs.oauth2.ClientCredsTokenProvider\")\n",
    "spark.conf.set(\"fs.azure.account.oauth2.client.id.adlsx5u224gv3xgd2.dfs.core.windows.net\", \"5c962712-e111-48b0-b9af-41f03175e216\")\n",
    "spark.conf.set(\"fs.azure.account.oauth2.client.secret.adlsx5u224gv3xgd2.dfs.core.windows.net\", service_credential)\n",
    "spark.conf.set(\"fs.azure.account.oauth2.client.endpoint.adlsx5u224gv3xgd2.dfs.core.windows.net\", \"https://login.microsoftonline.com/72f988bf-86f1-41af-91ab-2d7cd011db47/oauth2/token\")"
   ]
  },
  {
   "cell_type": "code",
   "execution_count": 0,
   "metadata": {
    "application/vnd.databricks.v1+cell": {
     "cellMetadata": {
      "byteLimit": 2048000,
      "rowLimit": 10000
     },
     "inputWidgets": {},
     "nuid": "637ff3dd-b51a-43fa-9500-f109c01ce844",
     "showTitle": false,
     "title": ""
    }
   },
   "outputs": [],
   "source": [
    "customerPath = 'abfss://data@blobtest0506.dfs.core.windows.net/customer.csv'\n",
    "productPath = 'abfss://data@blobtest0506.dfs.core.windows.net/products.csv'\n",
    "sales_ordersPath = 'abfss://data@blobtest0506.dfs.core.windows.net/sales_orders.json'\n",
    "sales_orders_streamPath = 'abfss://data@blobtest0506.dfs.core.windows.net/sales_orders_stream.json'\n",
    "outputPath = \"abfss://data@adlsx5u224gv3xgd2.dfs.core.windows.net/\""
   ]
  },
  {
   "cell_type": "code",
   "execution_count": 0,
   "metadata": {
    "application/vnd.databricks.v1+cell": {
     "cellMetadata": {
      "byteLimit": 2048000,
      "rowLimit": 10000
     },
     "inputWidgets": {},
     "nuid": "186d45ee-8459-4794-87d9-9b24eadf5fa4",
     "showTitle": false,
     "title": ""
    }
   },
   "outputs": [],
   "source": [
    "df1 = spark.read.format(\"csv\").option(\"header\", \"true\").load(productPath)\n",
    "df1.display()"
   ]
  },
  {
   "cell_type": "code",
   "execution_count": 0,
   "metadata": {
    "application/vnd.databricks.v1+cell": {
     "cellMetadata": {
      "byteLimit": 2048000,
      "rowLimit": 10000
     },
     "inputWidgets": {},
     "nuid": "1bd1f693-7a08-4b17-9012-1307fda81d5e",
     "showTitle": false,
     "title": ""
    }
   },
   "outputs": [],
   "source": [
    "df2 = spark.read.format(\"csv\").option(\"header\", \"true\").load(customerPath)\n",
    "df2.display()"
   ]
  },
  {
   "cell_type": "code",
   "execution_count": 0,
   "metadata": {
    "application/vnd.databricks.v1+cell": {
     "cellMetadata": {
      "byteLimit": 2048000,
      "rowLimit": 10000
     },
     "inputWidgets": {},
     "nuid": "37038f8e-3e80-40ee-a81f-d439c3003fbf",
     "showTitle": false,
     "title": ""
    }
   },
   "outputs": [],
   "source": [
    "df3 = spark.read.format(\"json\").option(\"header\", \"true\").load(sales_ordersPath)\n",
    "df3.display()"
   ]
  },
  {
   "cell_type": "code",
   "execution_count": 0,
   "metadata": {
    "application/vnd.databricks.v1+cell": {
     "cellMetadata": {
      "byteLimit": 2048000,
      "rowLimit": 10000
     },
     "inputWidgets": {},
     "nuid": "278f274b-d5ce-41ec-bd26-9fec08c75a6a",
     "showTitle": false,
     "title": ""
    }
   },
   "outputs": [],
   "source": [
    "df4 = spark.read.format(\"json\").option(\"header\", \"true\").load(sales_orders_streamPath)\n",
    "df4.display()"
   ]
  },
  {
   "cell_type": "code",
   "execution_count": 0,
   "metadata": {
    "application/vnd.databricks.v1+cell": {
     "cellMetadata": {
      "byteLimit": 2048000,
      "rowLimit": 10000
     },
     "inputWidgets": {},
     "nuid": "b629e156-24ad-48f0-b4c4-1ee2cf3a4670",
     "showTitle": false,
     "title": ""
    }
   },
   "outputs": [],
   "source": [
    "#Using coalesce function to restrict the number of data partitions to 1.\n",
    "df1.coalesce(1).write.option(\"header\", \"true\").csv(outputPath + 'products.csv', mode=\"overwrite\")\n",
    "df2.coalesce(1).write.option(\"header\", \"true\").csv(outputPath + 'customer.csv', mode=\"overwrite\")\n",
    "df3.coalesce(1).write.option(\"header\", \"true\").json(outputPath + 'sales_orders.json', mode=\"overwrite\")\n",
    "df4.coalesce(1).write.option(\"header\", \"true\").json(outputPath + 'sales_orders_stream.json', mode=\"overwrite\")"
   ]
  },
  {
   "cell_type": "code",
   "execution_count": 0,
   "metadata": {
    "application/vnd.databricks.v1+cell": {
     "cellMetadata": {
      "byteLimit": 2048000,
      "rowLimit": 10000
     },
     "inputWidgets": {},
     "nuid": "81d7edf4-25e1-4f01-bf48-c3606993d8eb",
     "showTitle": false,
     "title": ""
    }
   },
   "outputs": [],
   "source": [
    "#To display files from destination\n",
    "#df = spark.read.format(\"json\").option(\"header\", \"true\").load(outputPath + 'sales_orders_stream.json')\n",
    "#df.display()"
   ]
  }
 ],
 "metadata": {
  "application/vnd.databricks.v1+notebook": {
   "dashboards": [],
   "language": "python",
   "notebookMetadata": {
    "mostRecentlyExecutedCommandWithImplicitDF": {
     "commandId": 1537314602960770,
     "dataframes": [
      "_sqldf"
     ]
    },
    "pythonIndentUnit": 4
   },
   "notebookName": "blob_to_adls_copy",
   "widgets": {}
  }
 },
 "nbformat": 4,
 "nbformat_minor": 0
}
