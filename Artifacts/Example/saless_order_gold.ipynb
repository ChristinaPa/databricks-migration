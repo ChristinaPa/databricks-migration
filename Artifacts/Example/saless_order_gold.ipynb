{
 "cells": [
  {
   "cell_type": "code",
   "execution_count": null,
   "metadata": {
    "application/vnd.databricks.v1+cell": {
     "cellMetadata": {},
     "inputWidgets": {},
     "nuid": "a788614e-249e-437c-bd61-cc891f3faf48",
     "showTitle": false,
     "title": ""
    }
   },
   "outputs": [],
   "source": [
    "@dlt.table(\n",
    "    comment=\"load data to sales orders fact table\",\n",
    "    table_properties={\"quality\": \"gold\", \"pipelines.reset.allowed\": \"true\"},\n",
    "    spark_conf={\"pipelines.trigger.interval\": \"60 seconds\"},\n",
    "    temporary=False,\n",
    ")\n",
    "def fact_sales_orders():\n",
    "    s = dlt.read(\"sales_orders_cleansed\").alias(\"s\")\n",
    "    p = dlt.read(\"dim_products\").alias(\"p\")\n",
    "    c = dlt.read(\"dim_customers\").alias(\"c\")\n",
    "    return (\n",
    "        s.join(p, s.product_id == p.product_id, \"inner\")\n",
    "        .join(c, s.customer_id == c.customer_id, \"inner\")\n",
    "        .select(\n",
    "            \"s.order_number\",\n",
    "            \"c.customer_key\",\n",
    "            \"p.product_key\",\n",
    "            col(\"s.order_datetime\").cast(\"date\").alias(\"order_date\"),\n",
    "            \"s.unit_price\",\n",
    "            \"s.quantity\",\n",
    "            expr(\"s.unit_price * s.quantity\").alias(\"total_price\"),\n",
    "        )\n",
    "    )\n",
    "\n",
    "@dlt.table(\n",
    "    comment=\"load data to customer sales fact table\",\n",
    "    table_properties={\"quality\": \"gold\", \"pipelines.reset.allowed\": \"true\"},\n",
    "    spark_conf={\"pipelines.trigger.interval\": \"60 seconds\"},\n",
    "    temporary=False,\n",
    ")\n",
    "def fact_customer_sales():\n",
    "    s = dlt.read(\"sales_orders_cleansed\").alias(\"s\")\n",
    "    p = dlt.read(\"dim_products\").alias(\"p\")\n",
    "    c = dlt.read(\"dim_customers\").alias(\"c\")\n",
    "    return (\n",
    "        s.join(p, s.product_id == p.product_id, \"inner\")\n",
    "        .join(c, s.customer_id == c.customer_id, \"inner\")\n",
    "        .groupBy(\"c.customer_key\", \"p.product_key\")\n",
    "        .agg(\n",
    "            sum(\"quantity\").alias(\"total_quantity\"),\n",
    "            sum(expr(\"s.unit_price * s.quantity\")).alias(\"sale_amount\"),\n",
    "        )\n",
    "    )\n",
    "     "
   ]
  }
 ],
 "metadata": {
  "application/vnd.databricks.v1+notebook": {
   "dashboards": [],
   "language": "python",
   "notebookMetadata": {
    "pythonIndentUnit": 4
   },
   "notebookName": "saless_order_gold",
   "widgets": {}
  },
  "language_info": {
   "name": "python"
  }
 },
 "nbformat": 4,
 "nbformat_minor": 0
}
