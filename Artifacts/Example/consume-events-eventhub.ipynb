{
 "cells": [
  {
   "attachments": {},
   "cell_type": "markdown",
   "metadata": {},
   "source": [
    "Consume events from event hub\n"
   ]
  },
  {
   "cell_type": "code",
   "execution_count": 2,
   "metadata": {
    "application/vnd.databricks.v1+cell": {
     "cellMetadata": {
      "byteLimit": 2048000,
      "rowLimit": 10000
     },
     "inputWidgets": {},
     "nuid": "77736980-4b7e-4a66-b8ca-053346f04d9d",
     "showTitle": false,
     "title": ""
    }
   },
   "outputs": [],
   "source": [
    "# Import necessary libraries\n",
    "import pandas as pd\n",
    "from azure.eventhub import EventHubConsumerClient, EventData\n"
   ]
  },
  {
   "cell_type": "code",
   "execution_count": 3,
   "metadata": {},
   "outputs": [
    {
     "ename": "NameError",
     "evalue": "name 'event_hub_connection_string' is not defined",
     "output_type": "error",
     "traceback": [
      "\u001b[0;31m---------------------------------------------------------------------------\u001b[0m",
      "\u001b[0;31mNameError\u001b[0m                                 Traceback (most recent call last)",
      "Cell \u001b[0;32mIn[3], line 3\u001b[0m\n\u001b[1;32m      1\u001b[0m \u001b[39m# Create an Event Hub consumer client\u001b[39;00m\n\u001b[1;32m      2\u001b[0m consumer \u001b[39m=\u001b[39m EventHubConsumerClient\u001b[39m.\u001b[39mfrom_connection_string(\n\u001b[0;32m----> 3\u001b[0m     conn_str\u001b[39m=\u001b[39mevent_hub_connection_string,\n\u001b[1;32m      4\u001b[0m     consumer_group\u001b[39m=\u001b[39m\u001b[39m\"\u001b[39m\u001b[39m$Default\u001b[39m\u001b[39m\"\u001b[39m,\n\u001b[1;32m      5\u001b[0m     eventhub_name\u001b[39m=\u001b[39mevent_hub_name,\n\u001b[1;32m      6\u001b[0m )\n\u001b[1;32m      8\u001b[0m \u001b[39m# Define a callback function to process the events\u001b[39;00m\n\u001b[1;32m      9\u001b[0m \u001b[39mdef\u001b[39;00m \u001b[39mon_event\u001b[39m(partition_context, event):\n\u001b[1;32m     10\u001b[0m     \u001b[39m# Print the event data\u001b[39;00m\n",
      "\u001b[0;31mNameError\u001b[0m: name 'event_hub_connection_string' is not defined"
     ]
    }
   ],
   "source": [
    "# Specify your Event Hub connection string and name\n",
    "event_hub_connection_string = 'Endpoint=sb://streamdata-2f774f-ns.servicebus.windows.net/;SharedAccessKeyName=RootManageSharedAccessKey;SharedAccessKey=xlTL64ydjLanZARHT2/IuZWUoi49GfGeU+AEhD4o12M='  # Replace with your connection string\n",
    "event_hub_name = 'sales_orders_s'\n",
    "\n",
    "# Create an Event Hub consumer client\n",
    "consumer = EventHubConsumerClient.from_connection_string(\n",
    "    conn_str=event_hub_connection_string,\n",
    "    consumer_group=\"$Default\",\n",
    "    eventhub_name=event_hub_name,\n",
    ")\n",
    "\n",
    "# Define a callback function to process the events\n",
    "def on_event(partition_context, event):\n",
    "    # Print the event data\n",
    "    print(\"Received event: \", event.body_as_str())\n",
    "\n",
    "# Receive the events\n",
    "with consumer:\n",
    "\n",
    "    consumer.receive(\n",
    "        on_event=on_event,\n",
    "        starting_position=\"-1\" # \"-1\" is to read from the start of the event stream. Use \"@latest\" to read the latest evetns\n",
    "        )\n"
   ]
  }
 ],
 "metadata": {
  "application/vnd.databricks.v1+notebook": {
   "dashboards": [],
   "language": "python",
   "notebookMetadata": {
    "pythonIndentUnit": 4
   },
   "notebookName": "azure_mysqldb",
   "widgets": {}
  },
  "kernelspec": {
   "display_name": ".venv",
   "language": "python",
   "name": "python3"
  },
  "language_info": {
   "codemirror_mode": {
    "name": "ipython",
    "version": 3
   },
   "file_extension": ".py",
   "mimetype": "text/x-python",
   "name": "python",
   "nbconvert_exporter": "python",
   "pygments_lexer": "ipython3",
   "version": "3.10.10"
  }
 },
 "nbformat": 4,
 "nbformat_minor": 0
}
