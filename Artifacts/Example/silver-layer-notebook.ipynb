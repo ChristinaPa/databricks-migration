{
 "cells": [
  {
   "cell_type": "code",
   "execution_count": 0,
   "metadata": {
    "application/vnd.databricks.v1+cell": {
     "cellMetadata": {},
     "inputWidgets": {},
     "nuid": "84ea13cd-24c0-4f0d-bde1-0f866cb054a9",
     "showTitle": false,
     "title": ""
    }
   },
   "outputs": [],
   "source": [
    "import dlt\n",
    "from pyspark.sql.functions import *\n",
    "from pyspark.sql.types import *"
   ]
  },
  {
   "cell_type": "code",
   "execution_count": 0,
   "metadata": {
    "application/vnd.databricks.v1+cell": {
     "cellMetadata": {},
     "inputWidgets": {},
     "nuid": "bd5b8620-a5de-4e63-ab4a-d84bec0d36af",
     "showTitle": false,
     "title": ""
    }
   },
   "outputs": [],
   "source": [
    "@dlt.table(\n",
    "    comment=\"Load data to customers cleansed table\",\n",
    "    table_properties={\"pipelines.reset.allowed\": \"true\"},\n",
    "    spark_conf={\"pipelines.trigger.interval\": \"60 seconds\"},\n",
    "    temporary=False,\n",
    ")\n",
    "def customers_cleansed():\n",
    "    return (\n",
    "        dlt.read(\"customers_raw\")\n",
    "        .select(\"*\")\n",
    "        .withColumn(\"customer_id\",col(\"customer_id\").cast(\"integer\"))\n",
    "        .withColumn(\"lon\",col(\"lon\").cast(\"double\"))\n",
    "        .withColumn(\"lat\",col(\"lat\").cast(\"double\"))\n",
    "        .withColumn(\"loyalty_segment\",col(\"loyalty_segment\").cast(\"integer\"))\n",
    "    )"
   ]
  },
  {
   "cell_type": "code",
   "execution_count": 0,
   "metadata": {
    "application/vnd.databricks.v1+cell": {
     "cellMetadata": {},
     "inputWidgets": {},
     "nuid": "5dbfa9a8-afa8-46f3-8071-7e9e467d4c16",
     "showTitle": false,
     "title": ""
    }
   },
   "outputs": [],
   "source": [
    "@dlt.table(\n",
    "    comment=\"Load data to a products cleansed table\",\n",
    "    table_properties={\"pipelines.reset.allowed\": \"true\"},\n",
    "    spark_conf={\"pipelines.trigger.interval\": \"60 seconds\"},\n",
    "    temporary=False,\n",
    ")\n",
    "def products_cleansed():\n",
    "    return (\n",
    "        dlt.read(\"products_raw\")\n",
    "        .select(\"*\")\n",
    "        .withColumn(\"ean13\",col(\"ean13\").cast(\"double\"))\n",
    "    )"
   ]
  }
 ],
 "metadata": {
  "application/vnd.databricks.v1+notebook": {
   "dashboards": [],
   "language": "python",
   "notebookMetadata": {
    "pythonIndentUnit": 4
   },
   "notebookName": "silver-layer-notebook",
   "widgets": {}
  }
 },
 "nbformat": 4,
 "nbformat_minor": 0
}
