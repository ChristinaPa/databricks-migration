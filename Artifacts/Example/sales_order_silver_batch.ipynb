{
 "cells": [
  {
   "cell_type": "code",
   "execution_count": null,
   "metadata": {
    "application/vnd.databricks.v1+cell": {
     "cellMetadata": {
      "byteLimit": 2048000,
      "rowLimit": 10000
     },
     "inputWidgets": {},
     "nuid": "1a709193-573d-4bd2-a8db-810a624535f9",
     "showTitle": false,
     "title": ""
    }
   },
   "outputs": [],
   "source": [
    "schema = ArrayType(\n",
    "    StructType(\n",
    "        [\n",
    "            StructField(\"qty\", IntegerType(), True),\n",
    "            StructField(\"unit\", StringType(), True),\n",
    "            StructField(\"curr\", StringType(), True),\n",
    "            StructField(\"id\", StringType(), True),\n",
    "            StructField(\"name\", StringType(), True),\n",
    "            StructField(\"price\", IntegerType(), True),\n",
    "            StructField(\n",
    "                \"promotion_info\",\n",
    "                StructType(\n",
    "                    [\n",
    "                        StructField(\"promo_id\", IntegerType(), True),\n",
    "                        StructField(\"promo_qty\", IntegerType(), True),\n",
    "                        StructField(\"promo_disc\", DecimalType(3, 2), True),\n",
    "                        StructField(\"promo_item\", StringType(), True),\n",
    "                    ]\n",
    "                ),\n",
    "                True,\n",
    "            ),\n",
    "        ]\n",
    "    )\n",
    ")\n",
    "\n",
    "schema2 = ArrayType(\n",
    "    StructType(\n",
    "        [\n",
    "            StructField(\"promo_id\", IntegerType(), True),\n",
    "            StructField(\"promo_qty\", IntegerType(), True),\n",
    "            StructField(\"promo_disc\", DecimalType(3, 2), True),\n",
    "            StructField(\"promo_item\", StringType(), True),\n",
    "        ]\n",
    "    ),\n",
    "    True,\n",
    ")\n",
    "schema3 = ArrayType(ArrayType(StringType(), True), True)\n",
    "\n",
    "\n",
    "@dlt.table(\n",
    "    comment=\"Load data to sales_order cleansed table\",\n",
    "    table_properties={\"pipelines.reset.allowed\": \"true\"},\n",
    "    spark_conf={\"pipelines.trigger.interval\": \"60 seconds\"},\n",
    "    temporary=False,\n",
    ")\n",
    "def sales_orders_cleansed():\n",
    "    return (\n",
    "         dlt.read(\"sales_orders_raw\")\n",
    "        .table(\"example.sales_order_raw\")\n",
    "        .select(\"*\")\n",
    "        .withColumn(\"clicked_items\", from_json(col(\"clicked_items\"), schema3))\n",
    "        .withColumn(\"promo_info\", from_json(col(\"promo_info\"), schema2))\n",
    "        .withColumn(\"ordered_products\", from_json(col(\"ordered_products\"), schema))\n",
    "        .withColumn(\"ordered_products\", explode(\"ordered_products\"))\n",
    "        .withColumn(\"order_datetime\", from_unixtime(\"order_datetime\"))\n",
    "        .withColumn(\"product_id\", col(\"ordered_products\").id)\n",
    "        .withColumn(\"unit_price\", col(\"ordered_products\").price)\n",
    "        .withColumn(\"quantity\", col(\"ordered_products\").qty)\n",
    "    )"
   ]
  }
 ],
 "metadata": {
  "application/vnd.databricks.v1+notebook": {
   "dashboards": [],
   "language": "python",
   "notebookMetadata": {
    "mostRecentlyExecutedCommandWithImplicitDF": {
     "commandId": 1995535246198264,
     "dataframes": [
      "_sqldf"
     ]
    },
    "pythonIndentUnit": 4
   },
   "notebookName": "sales_order_silver_batch",
   "widgets": {}
  },
  "language_info": {
   "name": "python"
  }
 },
 "nbformat": 4,
 "nbformat_minor": 0
}
