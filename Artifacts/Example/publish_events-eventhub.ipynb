{
 "cells": [
  {
   "cell_type": "code",
   "execution_count": 0,
   "metadata": {
    "application/vnd.databricks.v1+cell": {
     "cellMetadata": {
      "byteLimit": 2048000,
      "rowLimit": 10000
     },
     "inputWidgets": {},
     "nuid": "7d5e9c3f-2825-4a8b-b527-375c89cc2616",
     "showTitle": false,
     "title": ""
    }
   },
   "outputs": [
    {
     "output_type": "stream",
     "name": "stdout",
     "output_type": "stream",
     "text": [
      "Python interpreter will be restarted.\nCollecting azure-eventhub\n  Downloading azure_eventhub-5.11.2-py3-none-any.whl (305 kB)\nCollecting azure-core<2.0.0,>=1.14.0\n  Downloading azure_core-1.26.4-py3-none-any.whl (173 kB)\nCollecting typing-extensions>=4.0.1\n  Downloading typing_extensions-4.6.2-py3-none-any.whl (31 kB)\nRequirement already satisfied: six>=1.11.0 in /databricks/python3/lib/python3.9/site-packages (from azure-core<2.0.0,>=1.14.0->azure-eventhub) (1.16.0)\nRequirement already satisfied: requests>=2.18.4 in /databricks/python3/lib/python3.9/site-packages (from azure-core<2.0.0,>=1.14.0->azure-eventhub) (2.26.0)\nRequirement already satisfied: idna<4,>=2.5 in /databricks/python3/lib/python3.9/site-packages (from requests>=2.18.4->azure-core<2.0.0,>=1.14.0->azure-eventhub) (3.2)\nRequirement already satisfied: charset-normalizer~=2.0.0 in /databricks/python3/lib/python3.9/site-packages (from requests>=2.18.4->azure-core<2.0.0,>=1.14.0->azure-eventhub) (2.0.4)\nRequirement already satisfied: urllib3<1.27,>=1.21.1 in /databricks/python3/lib/python3.9/site-packages (from requests>=2.18.4->azure-core<2.0.0,>=1.14.0->azure-eventhub) (1.26.7)\nRequirement already satisfied: certifi>=2017.4.17 in /databricks/python3/lib/python3.9/site-packages (from requests>=2.18.4->azure-core<2.0.0,>=1.14.0->azure-eventhub) (2021.10.8)\nInstalling collected packages: typing-extensions, azure-core, azure-eventhub\n  Attempting uninstall: typing-extensions\n    Found existing installation: typing-extensions 3.10.0.2\n    Not uninstalling typing-extensions at /databricks/python3/lib/python3.9/site-packages, outside environment /local_disk0/.ephemeral_nfs/envs/pythonEnv-fc8921be-5ea0-4885-8536-ad6d1ed133b4\n    Can't uninstall 'typing-extensions'. No files were found to uninstall.\nSuccessfully installed azure-core-1.26.4 azure-eventhub-5.11.2 typing-extensions-4.6.2\nPython interpreter will be restarted.\n"
     ]
    }
   ],
   "source": [
    "pip install azure-eventhub"
   ]
  },
  {
   "cell_type": "code",
   "execution_count": 0,
   "metadata": {
    "application/vnd.databricks.v1+cell": {
     "cellMetadata": {
      "byteLimit": 2048000,
      "rowLimit": 10000
     },
     "inputWidgets": {},
     "nuid": "e9f1af1f-8236-4103-9d0b-af1d0fa31150",
     "showTitle": false,
     "title": ""
    }
   },
   "outputs": [],
   "source": [
    "service_credential = dbutils.secrets.get(scope=\"databricksscopename\",key=\"databricksservicekey\")\n",
    "\n",
    "spark.conf.set(\"fs.azure.account.auth.type.adlsx5u224gv3xgd2.dfs.core.windows.net\", \"OAuth\")\n",
    "spark.conf.set(\"fs.azure.account.oauth.provider.type.adlsx5u224gv3xgd2.dfs.core.windows.net\", \"org.apache.hadoop.fs.azurebfs.oauth2.ClientCredsTokenProvider\")\n",
    "spark.conf.set(\"fs.azure.account.oauth2.client.id.adlsx5u224gv3xgd2.dfs.core.windows.net\", \"5c962712-e111-48b0-b9af-41f03175e216\")\n",
    "spark.conf.set(\"fs.azure.account.oauth2.client.secret.adlsx5u224gv3xgd2.dfs.core.windows.net\", service_credential)\n",
    "spark.conf.set(\"fs.azure.account.oauth2.client.endpoint.adlsx5u224gv3xgd2.dfs.core.windows.net\", \"https://login.microsoftonline.com/72f988bf-86f1-41af-91ab-2d7cd011db47/oauth2/token\")"
   ]
  },
  {
   "cell_type": "code",
   "execution_count": 0,
   "metadata": {
    "application/vnd.databricks.v1+cell": {
     "cellMetadata": {
      "byteLimit": 2048000,
      "rowLimit": 10000
     },
     "inputWidgets": {},
     "nuid": "5775a6a6-e9a9-45a1-aa13-924df7c38dbe",
     "showTitle": false,
     "title": ""
    }
   },
   "outputs": [],
   "source": [
    "import pyspark.pandas as ps\n",
    "from pyspark.sql.functions import *\n",
    "from pyspark.sql.types import *\n",
    "from azure.eventhub import EventHubProducerClient, EventHubConsumerClient, EventData"
   ]
  },
  {
   "cell_type": "code",
   "execution_count": 0,
   "metadata": {
    "application/vnd.databricks.v1+cell": {
     "cellMetadata": {
      "byteLimit": 2048000,
      "rowLimit": 10000
     },
     "inputWidgets": {},
     "nuid": "180fce99-22e1-4035-aaec-98fde429b07c",
     "showTitle": false,
     "title": ""
    }
   },
   "outputs": [
    {
     "output_type": "display_data",
     "data": {
      "text/html": [
       "<style scoped>\n",
       "  .table-result-container {\n",
       "    max-height: 300px;\n",
       "    overflow: auto;\n",
       "  }\n",
       "  table, th, td {\n",
       "    border: 1px solid black;\n",
       "    border-collapse: collapse;\n",
       "  }\n",
       "  th, td {\n",
       "    padding: 5px;\n",
       "  }\n",
       "  th {\n",
       "    text-align: left;\n",
       "  }\n",
       "</style><div class='table-result-container'><table class='table-result'><thead style='background-color: white'><tr><th>clicked_items</th><th>customer_id</th><th>customer_name</th><th>number_of_line_items</th><th>order_datetime</th><th>order_number</th><th>ordered_products</th><th>promo_info</th></tr></thead><tbody><tr><td>\"[[\"\"AVpfPEx61cnluZ0-gyT9\"\"</td><td>\"\"34\"\"]</td><td>[\"\"AVpfuJ4pilAPnD_xhDyM\"\"</td><td>\"\"98\"\"]</td><td>[\"\"AVpe6jFBilAPnD_xQxO2\"\"</td><td>\"\"60\"\"]</td><td>[\"\"AVpfIODe1cnluZ0-eg35\"\"</td><td>\"\"49\"\"]]\"</td></tr><tr><td>\"[[\"\"AVpfdBS41cnluZ0-lBIj\"\"</td><td>\"\"88\"\"]]\"</td><td>4401099</td><td>denevi digital imaging</td><td>1</td><td>01-08-2019 03:27</td><td>317568015</td><td>\"{\"\"id\"\":\"\"AVpfdBS41cnluZ0-lBIj\"\"</td></tr><tr><td>\"[[\"\"AVpgIu4Q1cnluZ0-xBK-\"\"</td><td>\"\"13\"\"]</td><td>[\"\"AVpfeG5oilAPnD_xcTsG\"\"</td><td>\"\"27\"\"]</td><td>[\"\"AVqVGaEBv8e3D1O-ldFu\"\"</td><td>\"\"64\"\"]</td><td>[\"\"AVpg-Wj61cnluZ0-8sZe\"\"</td><td>\"\"87\"\"]</td></tr><tr><td>\"[[\"\"AVpfWxx7LJeJML437u-H\"\"</td><td>\"\"52\"\"]</td><td>[\"\"AVpfvr461cnluZ0-qgHR\"\"</td><td>\"\"54\"\"]</td><td>[\"\"AVpiMIyE1cnluZ0-K0TA\"\"</td><td>\"\"14\"\"]</td><td>[\"\"AVz5wc0H-jtxr-f30F6_\"\"</td><td>\"\"84\"\"]</td></tr><tr><td>\"[[\"\"AVpfCQslilAPnD_xThwe\"\"</td><td>\"\"80\"\"]</td><td>[\"\"AVpiMIyE1cnluZ0-K0TA\"\"</td><td>\"\"50\"\"]]\"</td><td>2732808</td><td>als deli</td><td>2</td><td>01-08-2019 05:03</td></tr><tr><td>\"[[\"\"AVpfDLA0ilAPnD_xT0sq\"\"</td><td>\"\"21\"\"]</td><td>[\"\"AVwjdOdov8e3D1O-nnK9\"\"</td><td>\"\"85\"\"]</td><td>[\"\"AVpfMVD-ilAPnD_xW6bu\"\"</td><td>\"\"75\"\"]]\"</td><td>3838589</td><td>MORENO,  SALVADOR C</td></tr><tr><td>\"[[\"\"AVpe9oDr1cnluZ0-a1wt\"\"</td><td>\"\"34\"\"]</td><td>[\"\"AVpe7vER1cnluZ0-aJu7\"\"</td><td>\"\"74\"\"]</td><td>[\"\"AVpfMVD-ilAPnD_xW6bu\"\"</td><td>\"\"48\"\"]]\"</td><td>7159905</td><td>TURNER ALSTON,  DENISE</td></tr><tr><td>\"[[\"\"AVphzZkJ1cnluZ0-Gkcq\"\"</td><td>\"\"28\"\"]</td><td>[\"\"AVpe48Es1cnluZ0-ZHZU\"\"</td><td>\"\"46\"\"]</td><td>[\"\"AVpge6k2LJeJML43OhAl\"\"</td><td>\"\"16\"\"]</td><td>[\"\"AVpfCW42ilAPnD_xTj0y\"\"</td><td>\"\"70\"\"]]\"</td></tr><tr><td>\"[[\"\"AVpfMVD-ilAPnD_xW6bu\"\"</td><td>\"\"36\"\"]</td><td>[\"\"AVpjedgc1cnluZ0-W4NI\"\"</td><td>\"\"64\"\"]]\"</td><td>8513182</td><td>guardian sprinklers inc</td><td>2</td><td>01-08-2019 07:33</td></tr><tr><td>\"[[\"\"AVpfPEx61cnluZ0-gyT8\"\"</td><td>\"\"35\"\"]</td><td>[\"\"AVpfuJ4pilAPnD_xhDyN\"\"</td><td>\"\"99\"\"]</td><td>[\"\"AVpe6jFBilAPnD_xQxO3\"\"</td><td>\"\"61\"\"]</td><td>[\"\"AVpfIODe1cnluZ0-eg35\"\"</td><td>\"\"50\"\"]]\"</td></tr><tr><td>\"[[\"\"AVpfPEx61cnluZ0-gyT8\"\"</td><td>\"\"35\"\"]</td><td>[\"\"AVpfuJ4pilAPnD_xhDyN\"\"</td><td>\"\"99\"\"]</td><td>[\"\"AVpe6jFBilAPnD_xQxO3\"\"</td><td>\"\"61\"\"]</td><td>[\"\"AVpfIODe1cnluZ0-eg35\"\"</td><td>\"\"50\"\"]]\"</td></tr><tr><td>\"[[\"\"AVpfPEx61cnluZ0-gyT8\"\"</td><td>\"\"35\"\"]</td><td>[\"\"AVpfuJ4pilAPnD_xhDyN\"\"</td><td>\"\"99\"\"]</td><td>[\"\"AVpe6jFBilAPnD_xQxO3\"\"</td><td>\"\"61\"\"]</td><td>[\"\"AVpfIODe1cnluZ0-eg35\"\"</td><td>\"\"50\"\"]]\"</td></tr><tr><td>\"[[\"\"AVpfPEx61cnluZ0-gyT8\"\"</td><td>\"\"35\"\"]</td><td>[\"\"AVpfuJ4pilAPnD_xhDyN\"\"</td><td>\"\"99\"\"]</td><td>[\"\"AVpe6jFBilAPnD_xQxO3\"\"</td><td>\"\"61\"\"]</td><td>[\"\"AVpfIODe1cnluZ0-eg35\"\"</td><td>\"\"50\"\"]]\"</td></tr><tr><td>\"[[\"\"AVpfPEx61cnluZ0-gyT8\"\"</td><td>\"\"35\"\"]</td><td>[\"\"AVpfuJ4pilAPnD_xhDyN\"\"</td><td>\"\"99\"\"]</td><td>[\"\"AVpe6jFBilAPnD_xQxO3\"\"</td><td>\"\"61\"\"]</td><td>[\"\"AVpfIODe1cnluZ0-eg35\"\"</td><td>\"\"50\"\"]]\"</td></tr><tr><td>\"[[\"\"AVpjedgc1cnluZ0-W4NI\"\"</td><td>\"\"84\"\"]</td><td>[\"\"AVpfMVD-ilAPnD_xW6bu\"\"</td><td>\"\"26\"\"]</td><td>[\"\"AVpfCW42ilAPnD_xTj0y\"\"</td><td>\"\"15\"\"]]\"</td><td>24774688</td><td>advanced metal works, inc- amw precision and electronics</td></tr><tr><td>\"[[\"\"AVpe48Es1cnluZ0-ZHZU\"\"</td><td>\"\"75\"\"]</td><td>[\"\"AVpfeG5oilAPnD_xcTsG\"\"</td><td>\"\"35\"\"]</td><td>[\"\"AVpfZaCp1cnluZ0-kDV9\"\"</td><td>\"\"81\"\"]]\"</td><td>13721768</td><td>roper gmc buick subaru</td></tr><tr><td>\"[[\"\"AVpfIODe1cnluZ0-eg35\"\"</td><td>\"\"43\"\"]</td><td>[\"\"AVpjedgc1cnluZ0-W4NI\"\"</td><td>\"\"93\"\"]</td><td>[\"\"AVpfdBS41cnluZ0-lBIj\"\"</td><td>\"\"83\"\"]]\"</td><td>12744134</td><td>LASHER,  DAVID J</td></tr><tr><td>\"[[\"\"AVpfv62D1cnluZ0-qkPY\"\"</td><td>\"\"75\"\"]]\"</td><td>22100013</td><td>arq electronics manufacturing services inc</td><td>1</td><td>01-08-2019 12:43</td><td>317568031</td><td>\"{\"\"id\"\":\"\"AVpfv62D1cnluZ0-qkPY\"\"</td></tr><tr><td>\"[[\"\"AVpfCmFjLJeJML431EzG\"\"</td><td>\"\"95\"\"]</td><td>[\"\"AVpfvvEv1cnluZ0-qhEo\"\"</td><td>\"\"69\"\"]]\"</td><td>3037810</td><td>digital lifestyle solutions</td><td>1</td><td>01-08-2019 13:28</td></tr><tr><td>\"[[\"\"AVphzZkJ1cnluZ0-Gkcq\"\"</td><td>\"\"15\"\"]</td><td>[\"\"AVpfWxx7LJeJML437u-H\"\"</td><td>\"\"87\"\"]</td><td>[\"\"AVpfm9HsilAPnD_xe7y2\"\"</td><td>\"\"44\"\"]</td><td>[\"\"AVpfKEAuilAPnD_xWKpK\"\"</td><td>\"\"67\"\"]</td></tr></tbody></table></div>"
      ]
     },
     "metadata": {
      "application/vnd.databricks.v1+output": {
       "addedWidgets": {},
       "aggData": [],
       "aggError": "",
       "aggOverflow": false,
       "aggSchema": [],
       "aggSeriesLimitReached": false,
       "aggType": "",
       "arguments": {},
       "columnCustomDisplayInfos": {},
       "data": [
        [
         "\"[[\"\"AVpfPEx61cnluZ0-gyT9\"\"",
         "\"\"34\"\"]",
         "[\"\"AVpfuJ4pilAPnD_xhDyM\"\"",
         "\"\"98\"\"]",
         "[\"\"AVpe6jFBilAPnD_xQxO2\"\"",
         "\"\"60\"\"]",
         "[\"\"AVpfIODe1cnluZ0-eg35\"\"",
         "\"\"49\"\"]]\""
        ],
        [
         "\"[[\"\"AVpfdBS41cnluZ0-lBIj\"\"",
         "\"\"88\"\"]]\"",
         "4401099",
         "denevi digital imaging",
         "1",
         "01-08-2019 03:27",
         "317568015",
         "\"{\"\"id\"\":\"\"AVpfdBS41cnluZ0-lBIj\"\""
        ],
        [
         "\"[[\"\"AVpgIu4Q1cnluZ0-xBK-\"\"",
         "\"\"13\"\"]",
         "[\"\"AVpfeG5oilAPnD_xcTsG\"\"",
         "\"\"27\"\"]",
         "[\"\"AVqVGaEBv8e3D1O-ldFu\"\"",
         "\"\"64\"\"]",
         "[\"\"AVpg-Wj61cnluZ0-8sZe\"\"",
         "\"\"87\"\"]"
        ],
        [
         "\"[[\"\"AVpfWxx7LJeJML437u-H\"\"",
         "\"\"52\"\"]",
         "[\"\"AVpfvr461cnluZ0-qgHR\"\"",
         "\"\"54\"\"]",
         "[\"\"AVpiMIyE1cnluZ0-K0TA\"\"",
         "\"\"14\"\"]",
         "[\"\"AVz5wc0H-jtxr-f30F6_\"\"",
         "\"\"84\"\"]"
        ],
        [
         "\"[[\"\"AVpfCQslilAPnD_xThwe\"\"",
         "\"\"80\"\"]",
         "[\"\"AVpiMIyE1cnluZ0-K0TA\"\"",
         "\"\"50\"\"]]\"",
         "2732808",
         "als deli",
         "2",
         "01-08-2019 05:03"
        ],
        [
         "\"[[\"\"AVpfDLA0ilAPnD_xT0sq\"\"",
         "\"\"21\"\"]",
         "[\"\"AVwjdOdov8e3D1O-nnK9\"\"",
         "\"\"85\"\"]",
         "[\"\"AVpfMVD-ilAPnD_xW6bu\"\"",
         "\"\"75\"\"]]\"",
         "3838589",
         "MORENO,  SALVADOR C"
        ],
        [
         "\"[[\"\"AVpe9oDr1cnluZ0-a1wt\"\"",
         "\"\"34\"\"]",
         "[\"\"AVpe7vER1cnluZ0-aJu7\"\"",
         "\"\"74\"\"]",
         "[\"\"AVpfMVD-ilAPnD_xW6bu\"\"",
         "\"\"48\"\"]]\"",
         "7159905",
         "TURNER ALSTON,  DENISE"
        ],
        [
         "\"[[\"\"AVphzZkJ1cnluZ0-Gkcq\"\"",
         "\"\"28\"\"]",
         "[\"\"AVpe48Es1cnluZ0-ZHZU\"\"",
         "\"\"46\"\"]",
         "[\"\"AVpge6k2LJeJML43OhAl\"\"",
         "\"\"16\"\"]",
         "[\"\"AVpfCW42ilAPnD_xTj0y\"\"",
         "\"\"70\"\"]]\""
        ],
        [
         "\"[[\"\"AVpfMVD-ilAPnD_xW6bu\"\"",
         "\"\"36\"\"]",
         "[\"\"AVpjedgc1cnluZ0-W4NI\"\"",
         "\"\"64\"\"]]\"",
         "8513182",
         "guardian sprinklers inc",
         "2",
         "01-08-2019 07:33"
        ],
        [
         "\"[[\"\"AVpfPEx61cnluZ0-gyT8\"\"",
         "\"\"35\"\"]",
         "[\"\"AVpfuJ4pilAPnD_xhDyN\"\"",
         "\"\"99\"\"]",
         "[\"\"AVpe6jFBilAPnD_xQxO3\"\"",
         "\"\"61\"\"]",
         "[\"\"AVpfIODe1cnluZ0-eg35\"\"",
         "\"\"50\"\"]]\""
        ],
        [
         "\"[[\"\"AVpfPEx61cnluZ0-gyT8\"\"",
         "\"\"35\"\"]",
         "[\"\"AVpfuJ4pilAPnD_xhDyN\"\"",
         "\"\"99\"\"]",
         "[\"\"AVpe6jFBilAPnD_xQxO3\"\"",
         "\"\"61\"\"]",
         "[\"\"AVpfIODe1cnluZ0-eg35\"\"",
         "\"\"50\"\"]]\""
        ],
        [
         "\"[[\"\"AVpfPEx61cnluZ0-gyT8\"\"",
         "\"\"35\"\"]",
         "[\"\"AVpfuJ4pilAPnD_xhDyN\"\"",
         "\"\"99\"\"]",
         "[\"\"AVpe6jFBilAPnD_xQxO3\"\"",
         "\"\"61\"\"]",
         "[\"\"AVpfIODe1cnluZ0-eg35\"\"",
         "\"\"50\"\"]]\""
        ],
        [
         "\"[[\"\"AVpfPEx61cnluZ0-gyT8\"\"",
         "\"\"35\"\"]",
         "[\"\"AVpfuJ4pilAPnD_xhDyN\"\"",
         "\"\"99\"\"]",
         "[\"\"AVpe6jFBilAPnD_xQxO3\"\"",
         "\"\"61\"\"]",
         "[\"\"AVpfIODe1cnluZ0-eg35\"\"",
         "\"\"50\"\"]]\""
        ],
        [
         "\"[[\"\"AVpfPEx61cnluZ0-gyT8\"\"",
         "\"\"35\"\"]",
         "[\"\"AVpfuJ4pilAPnD_xhDyN\"\"",
         "\"\"99\"\"]",
         "[\"\"AVpe6jFBilAPnD_xQxO3\"\"",
         "\"\"61\"\"]",
         "[\"\"AVpfIODe1cnluZ0-eg35\"\"",
         "\"\"50\"\"]]\""
        ],
        [
         "\"[[\"\"AVpjedgc1cnluZ0-W4NI\"\"",
         "\"\"84\"\"]",
         "[\"\"AVpfMVD-ilAPnD_xW6bu\"\"",
         "\"\"26\"\"]",
         "[\"\"AVpfCW42ilAPnD_xTj0y\"\"",
         "\"\"15\"\"]]\"",
         "24774688",
         "advanced metal works, inc- amw precision and electronics"
        ],
        [
         "\"[[\"\"AVpe48Es1cnluZ0-ZHZU\"\"",
         "\"\"75\"\"]",
         "[\"\"AVpfeG5oilAPnD_xcTsG\"\"",
         "\"\"35\"\"]",
         "[\"\"AVpfZaCp1cnluZ0-kDV9\"\"",
         "\"\"81\"\"]]\"",
         "13721768",
         "roper gmc buick subaru"
        ],
        [
         "\"[[\"\"AVpfIODe1cnluZ0-eg35\"\"",
         "\"\"43\"\"]",
         "[\"\"AVpjedgc1cnluZ0-W4NI\"\"",
         "\"\"93\"\"]",
         "[\"\"AVpfdBS41cnluZ0-lBIj\"\"",
         "\"\"83\"\"]]\"",
         "12744134",
         "LASHER,  DAVID J"
        ],
        [
         "\"[[\"\"AVpfv62D1cnluZ0-qkPY\"\"",
         "\"\"75\"\"]]\"",
         "22100013",
         "arq electronics manufacturing services inc",
         "1",
         "01-08-2019 12:43",
         "317568031",
         "\"{\"\"id\"\":\"\"AVpfv62D1cnluZ0-qkPY\"\""
        ],
        [
         "\"[[\"\"AVpfCmFjLJeJML431EzG\"\"",
         "\"\"95\"\"]",
         "[\"\"AVpfvvEv1cnluZ0-qhEo\"\"",
         "\"\"69\"\"]]\"",
         "3037810",
         "digital lifestyle solutions",
         "1",
         "01-08-2019 13:28"
        ],
        [
         "\"[[\"\"AVphzZkJ1cnluZ0-Gkcq\"\"",
         "\"\"15\"\"]",
         "[\"\"AVpfWxx7LJeJML437u-H\"\"",
         "\"\"87\"\"]",
         "[\"\"AVpfm9HsilAPnD_xe7y2\"\"",
         "\"\"44\"\"]",
         "[\"\"AVpfKEAuilAPnD_xWKpK\"\"",
         "\"\"67\"\"]"
        ]
       ],
       "datasetInfos": [],
       "dbfsResultPath": null,
       "isJsonSchema": true,
       "metadata": {},
       "overflow": false,
       "plotOptions": {
        "customPlotOptions": {},
        "displayType": "table",
        "pivotAggregation": null,
        "pivotColumns": null,
        "xColumns": null,
        "yColumns": null
       },
       "removedWidgets": [],
       "schema": [
        {
         "metadata": "{}",
         "name": "clicked_items",
         "type": "\"string\""
        },
        {
         "metadata": "{}",
         "name": "customer_id",
         "type": "\"string\""
        },
        {
         "metadata": "{}",
         "name": "customer_name",
         "type": "\"string\""
        },
        {
         "metadata": "{}",
         "name": "number_of_line_items",
         "type": "\"string\""
        },
        {
         "metadata": "{}",
         "name": "order_datetime",
         "type": "\"string\""
        },
        {
         "metadata": "{}",
         "name": "order_number",
         "type": "\"string\""
        },
        {
         "metadata": "{}",
         "name": "ordered_products",
         "type": "\"string\""
        },
        {
         "metadata": "{}",
         "name": "promo_info",
         "type": "\"string\""
        }
       ],
       "type": "table"
      }
     },
     "output_type": "display_data"
    }
   ],
   "source": [
    "csv_file_path = 'abfss://data@adlsx5u224gv3xgd2.dfs.core.windows.net/sales_orders.csv'  # Replace with your CSV file path\n",
    "\n",
    "# Read a csv file using pandas\n",
    "df = ps.read_csv(csv_file_path)\n",
    "df = df.head(20)\n",
    "\n",
    "display(df)\n",
    "# Convert the CSV file into JSON\n",
    "json_data = df.to_json(orient='records')"
   ]
  },
  {
   "cell_type": "code",
   "execution_count": 0,
   "metadata": {
    "application/vnd.databricks.v1+cell": {
     "cellMetadata": {
      "byteLimit": 2048000,
      "rowLimit": 10000
     },
     "inputWidgets": {},
     "nuid": "713eb4a1-82ed-43e7-a21c-0a3beb6fa0f2",
     "showTitle": false,
     "title": ""
    }
   },
   "outputs": [
    {
     "output_type": "stream",
     "name": "stdout",
     "output_type": "stream",
     "text": [
      "[{\"clicked_items\":\"\\\"[[\\\"\\\"AVpfPEx61cnluZ0-gyT9\\\"\\\"\",\"customer_id\":\"\\\"\\\"34\\\"\\\"]\",\"customer_name\":\"[\\\"\\\"AVpfuJ4pilAPnD_xhDyM\\\"\\\"\",\"number_of_line_items\":\"\\\"\\\"98\\\"\\\"]\",\"order_datetime\":\"[\\\"\\\"AVpe6jFBilAPnD_xQxO2\\\"\\\"\",\"order_number\":\"\\\"\\\"60\\\"\\\"]\",\"ordered_products\":\"[\\\"\\\"AVpfIODe1cnluZ0-eg35\\\"\\\"\",\"promo_info\":\"\\\"\\\"49\\\"\\\"]]\\\"\"},{\"clicked_items\":\"\\\"[[\\\"\\\"AVpfdBS41cnluZ0-lBIj\\\"\\\"\",\"customer_id\":\"\\\"\\\"88\\\"\\\"]]\\\"\",\"customer_name\":\"4401099\",\"number_of_line_items\":\"denevi digital imaging\",\"order_datetime\":\"1\",\"order_number\":\"01-08-2019 03:27\",\"ordered_products\":\"317568015\",\"promo_info\":\"\\\"{\\\"\\\"id\\\"\\\":\\\"\\\"AVpfdBS41cnluZ0-lBIj\\\"\\\"\"},{\"clicked_items\":\"\\\"[[\\\"\\\"AVpgIu4Q1cnluZ0-xBK-\\\"\\\"\",\"customer_id\":\"\\\"\\\"13\\\"\\\"]\",\"customer_name\":\"[\\\"\\\"AVpfeG5oilAPnD_xcTsG\\\"\\\"\",\"number_of_line_items\":\"\\\"\\\"27\\\"\\\"]\",\"order_datetime\":\"[\\\"\\\"AVqVGaEBv8e3D1O-ldFu\\\"\\\"\",\"order_number\":\"\\\"\\\"64\\\"\\\"]\",\"ordered_products\":\"[\\\"\\\"AVpg-Wj61cnluZ0-8sZe\\\"\\\"\",\"promo_info\":\"\\\"\\\"87\\\"\\\"]\"},{\"clicked_items\":\"\\\"[[\\\"\\\"AVpfWxx7LJeJML437u-H\\\"\\\"\",\"customer_id\":\"\\\"\\\"52\\\"\\\"]\",\"customer_name\":\"[\\\"\\\"AVpfvr461cnluZ0-qgHR\\\"\\\"\",\"number_of_line_items\":\"\\\"\\\"54\\\"\\\"]\",\"order_datetime\":\"[\\\"\\\"AVpiMIyE1cnluZ0-K0TA\\\"\\\"\",\"order_number\":\"\\\"\\\"14\\\"\\\"]\",\"ordered_products\":\"[\\\"\\\"AVz5wc0H-jtxr-f30F6_\\\"\\\"\",\"promo_info\":\"\\\"\\\"84\\\"\\\"]\"},{\"clicked_items\":\"\\\"[[\\\"\\\"AVpfCQslilAPnD_xThwe\\\"\\\"\",\"customer_id\":\"\\\"\\\"80\\\"\\\"]\",\"customer_name\":\"[\\\"\\\"AVpiMIyE1cnluZ0-K0TA\\\"\\\"\",\"number_of_line_items\":\"\\\"\\\"50\\\"\\\"]]\\\"\",\"order_datetime\":\"2732808\",\"order_number\":\"als deli\",\"ordered_products\":\"2\",\"promo_info\":\"01-08-2019 05:03\"},{\"clicked_items\":\"\\\"[[\\\"\\\"AVpfDLA0ilAPnD_xT0sq\\\"\\\"\",\"customer_id\":\"\\\"\\\"21\\\"\\\"]\",\"customer_name\":\"[\\\"\\\"AVwjdOdov8e3D1O-nnK9\\\"\\\"\",\"number_of_line_items\":\"\\\"\\\"85\\\"\\\"]\",\"order_datetime\":\"[\\\"\\\"AVpfMVD-ilAPnD_xW6bu\\\"\\\"\",\"order_number\":\"\\\"\\\"75\\\"\\\"]]\\\"\",\"ordered_products\":\"3838589\",\"promo_info\":\"MORENO,  SALVADOR C\"},{\"clicked_items\":\"\\\"[[\\\"\\\"AVpe9oDr1cnluZ0-a1wt\\\"\\\"\",\"customer_id\":\"\\\"\\\"34\\\"\\\"]\",\"customer_name\":\"[\\\"\\\"AVpe7vER1cnluZ0-aJu7\\\"\\\"\",\"number_of_line_items\":\"\\\"\\\"74\\\"\\\"]\",\"order_datetime\":\"[\\\"\\\"AVpfMVD-ilAPnD_xW6bu\\\"\\\"\",\"order_number\":\"\\\"\\\"48\\\"\\\"]]\\\"\",\"ordered_products\":\"7159905\",\"promo_info\":\"TURNER ALSTON,  DENISE\"},{\"clicked_items\":\"\\\"[[\\\"\\\"AVphzZkJ1cnluZ0-Gkcq\\\"\\\"\",\"customer_id\":\"\\\"\\\"28\\\"\\\"]\",\"customer_name\":\"[\\\"\\\"AVpe48Es1cnluZ0-ZHZU\\\"\\\"\",\"number_of_line_items\":\"\\\"\\\"46\\\"\\\"]\",\"order_datetime\":\"[\\\"\\\"AVpge6k2LJeJML43OhAl\\\"\\\"\",\"order_number\":\"\\\"\\\"16\\\"\\\"]\",\"ordered_products\":\"[\\\"\\\"AVpfCW42ilAPnD_xTj0y\\\"\\\"\",\"promo_info\":\"\\\"\\\"70\\\"\\\"]]\\\"\"},{\"clicked_items\":\"\\\"[[\\\"\\\"AVpfMVD-ilAPnD_xW6bu\\\"\\\"\",\"customer_id\":\"\\\"\\\"36\\\"\\\"]\",\"customer_name\":\"[\\\"\\\"AVpjedgc1cnluZ0-W4NI\\\"\\\"\",\"number_of_line_items\":\"\\\"\\\"64\\\"\\\"]]\\\"\",\"order_datetime\":\"8513182\",\"order_number\":\"guardian sprinklers inc\",\"ordered_products\":\"2\",\"promo_info\":\"01-08-2019 07:33\"},{\"clicked_items\":\"\\\"[[\\\"\\\"AVpfPEx61cnluZ0-gyT8\\\"\\\"\",\"customer_id\":\"\\\"\\\"35\\\"\\\"]\",\"customer_name\":\"[\\\"\\\"AVpfuJ4pilAPnD_xhDyN\\\"\\\"\",\"number_of_line_items\":\"\\\"\\\"99\\\"\\\"]\",\"order_datetime\":\"[\\\"\\\"AVpe6jFBilAPnD_xQxO3\\\"\\\"\",\"order_number\":\"\\\"\\\"61\\\"\\\"]\",\"ordered_products\":\"[\\\"\\\"AVpfIODe1cnluZ0-eg35\\\"\\\"\",\"promo_info\":\"\\\"\\\"50\\\"\\\"]]\\\"\"},{\"clicked_items\":\"\\\"[[\\\"\\\"AVpfPEx61cnluZ0-gyT8\\\"\\\"\",\"customer_id\":\"\\\"\\\"35\\\"\\\"]\",\"customer_name\":\"[\\\"\\\"AVpfuJ4pilAPnD_xhDyN\\\"\\\"\",\"number_of_line_items\":\"\\\"\\\"99\\\"\\\"]\",\"order_datetime\":\"[\\\"\\\"AVpe6jFBilAPnD_xQxO3\\\"\\\"\",\"order_number\":\"\\\"\\\"61\\\"\\\"]\",\"ordered_products\":\"[\\\"\\\"AVpfIODe1cnluZ0-eg35\\\"\\\"\",\"promo_info\":\"\\\"\\\"50\\\"\\\"]]\\\"\"},{\"clicked_items\":\"\\\"[[\\\"\\\"AVpfPEx61cnluZ0-gyT8\\\"\\\"\",\"customer_id\":\"\\\"\\\"35\\\"\\\"]\",\"customer_name\":\"[\\\"\\\"AVpfuJ4pilAPnD_xhDyN\\\"\\\"\",\"number_of_line_items\":\"\\\"\\\"99\\\"\\\"]\",\"order_datetime\":\"[\\\"\\\"AVpe6jFBilAPnD_xQxO3\\\"\\\"\",\"order_number\":\"\\\"\\\"61\\\"\\\"]\",\"ordered_products\":\"[\\\"\\\"AVpfIODe1cnluZ0-eg35\\\"\\\"\",\"promo_info\":\"\\\"\\\"50\\\"\\\"]]\\\"\"},{\"clicked_items\":\"\\\"[[\\\"\\\"AVpfPEx61cnluZ0-gyT8\\\"\\\"\",\"customer_id\":\"\\\"\\\"35\\\"\\\"]\",\"customer_name\":\"[\\\"\\\"AVpfuJ4pilAPnD_xhDyN\\\"\\\"\",\"number_of_line_items\":\"\\\"\\\"99\\\"\\\"]\",\"order_datetime\":\"[\\\"\\\"AVpe6jFBilAPnD_xQxO3\\\"\\\"\",\"order_number\":\"\\\"\\\"61\\\"\\\"]\",\"ordered_products\":\"[\\\"\\\"AVpfIODe1cnluZ0-eg35\\\"\\\"\",\"promo_info\":\"\\\"\\\"50\\\"\\\"]]\\\"\"},{\"clicked_items\":\"\\\"[[\\\"\\\"AVpfPEx61cnluZ0-gyT8\\\"\\\"\",\"customer_id\":\"\\\"\\\"35\\\"\\\"]\",\"customer_name\":\"[\\\"\\\"AVpfuJ4pilAPnD_xhDyN\\\"\\\"\",\"number_of_line_items\":\"\\\"\\\"99\\\"\\\"]\",\"order_datetime\":\"[\\\"\\\"AVpe6jFBilAPnD_xQxO3\\\"\\\"\",\"order_number\":\"\\\"\\\"61\\\"\\\"]\",\"ordered_products\":\"[\\\"\\\"AVpfIODe1cnluZ0-eg35\\\"\\\"\",\"promo_info\":\"\\\"\\\"50\\\"\\\"]]\\\"\"},{\"clicked_items\":\"\\\"[[\\\"\\\"AVpjedgc1cnluZ0-W4NI\\\"\\\"\",\"customer_id\":\"\\\"\\\"84\\\"\\\"]\",\"customer_name\":\"[\\\"\\\"AVpfMVD-ilAPnD_xW6bu\\\"\\\"\",\"number_of_line_items\":\"\\\"\\\"26\\\"\\\"]\",\"order_datetime\":\"[\\\"\\\"AVpfCW42ilAPnD_xTj0y\\\"\\\"\",\"order_number\":\"\\\"\\\"15\\\"\\\"]]\\\"\",\"ordered_products\":\"24774688\",\"promo_info\":\"advanced metal works, inc- amw precision and electronics\"},{\"clicked_items\":\"\\\"[[\\\"\\\"AVpe48Es1cnluZ0-ZHZU\\\"\\\"\",\"customer_id\":\"\\\"\\\"75\\\"\\\"]\",\"customer_name\":\"[\\\"\\\"AVpfeG5oilAPnD_xcTsG\\\"\\\"\",\"number_of_line_items\":\"\\\"\\\"35\\\"\\\"]\",\"order_datetime\":\"[\\\"\\\"AVpfZaCp1cnluZ0-kDV9\\\"\\\"\",\"order_number\":\"\\\"\\\"81\\\"\\\"]]\\\"\",\"ordered_products\":\"13721768\",\"promo_info\":\"roper gmc buick subaru\"},{\"clicked_items\":\"\\\"[[\\\"\\\"AVpfIODe1cnluZ0-eg35\\\"\\\"\",\"customer_id\":\"\\\"\\\"43\\\"\\\"]\",\"customer_name\":\"[\\\"\\\"AVpjedgc1cnluZ0-W4NI\\\"\\\"\",\"number_of_line_items\":\"\\\"\\\"93\\\"\\\"]\",\"order_datetime\":\"[\\\"\\\"AVpfdBS41cnluZ0-lBIj\\\"\\\"\",\"order_number\":\"\\\"\\\"83\\\"\\\"]]\\\"\",\"ordered_products\":\"12744134\",\"promo_info\":\"LASHER,  DAVID J\"},{\"clicked_items\":\"\\\"[[\\\"\\\"AVpfv62D1cnluZ0-qkPY\\\"\\\"\",\"customer_id\":\"\\\"\\\"75\\\"\\\"]]\\\"\",\"customer_name\":\"22100013\",\"number_of_line_items\":\"arq electronics manufacturing services inc\",\"order_datetime\":\"1\",\"order_number\":\"01-08-2019 12:43\",\"ordered_products\":\"317568031\",\"promo_info\":\"\\\"{\\\"\\\"id\\\"\\\":\\\"\\\"AVpfv62D1cnluZ0-qkPY\\\"\\\"\"},{\"clicked_items\":\"\\\"[[\\\"\\\"AVpfCmFjLJeJML431EzG\\\"\\\"\",\"customer_id\":\"\\\"\\\"95\\\"\\\"]\",\"customer_name\":\"[\\\"\\\"AVpfvvEv1cnluZ0-qhEo\\\"\\\"\",\"number_of_line_items\":\"\\\"\\\"69\\\"\\\"]]\\\"\",\"order_datetime\":\"3037810\",\"order_number\":\"digital lifestyle solutions\",\"ordered_products\":\"1\",\"promo_info\":\"01-08-2019 13:28\"},{\"clicked_items\":\"\\\"[[\\\"\\\"AVphzZkJ1cnluZ0-Gkcq\\\"\\\"\",\"customer_id\":\"\\\"\\\"15\\\"\\\"]\",\"customer_name\":\"[\\\"\\\"AVpfWxx7LJeJML437u-H\\\"\\\"\",\"number_of_line_items\":\"\\\"\\\"87\\\"\\\"]\",\"order_datetime\":\"[\\\"\\\"AVpfm9HsilAPnD_xe7y2\\\"\\\"\",\"order_number\":\"\\\"\\\"44\\\"\\\"]\",\"ordered_products\":\"[\\\"\\\"AVpfKEAuilAPnD_xWKpK\\\"\\\"\",\"promo_info\":\"\\\"\\\"67\\\"\\\"]\"}]\n"
     ]
    }
   ],
   "source": [
    "print(json_data)"
   ]
  },
  {
   "cell_type": "code",
   "execution_count": 0,
   "metadata": {
    "application/vnd.databricks.v1+cell": {
     "cellMetadata": {
      "byteLimit": 2048000,
      "rowLimit": 10000
     },
     "inputWidgets": {},
     "nuid": "6925b20d-8340-4239-8a90-89ba96af84ea",
     "showTitle": false,
     "title": ""
    }
   },
   "outputs": [],
   "source": [
    "event_hub_connection_string = 'Endpoint=sb://streamdata-2f774f-ns.servicebus.windows.net/;SharedAccessKeyName=rule;SharedAccessKey=dS5c+1Wi3xKqKYcz0vD0+mE06dnAp5t2u+AEhFp4vFQ=;EntityPath=test'  # Replace with your connection string\n",
    "event_hub_name = 'test'\n",
    "\n",
    "\n",
    "\n",
    "producer = EventHubProducerClient.from_connection_string(event_hub_connection_string, eventhub_name=event_hub_name)\n",
    "\n",
    "# Publish the JSON as events\n",
    "try:\n",
    "    event_data_batch = producer.create_batch()\n",
    "    event_data_batch.add(EventData(json_data))\n",
    "    producer.send_batch(event_data_batch)\n",
    "except Exception as e:\n",
    "    print('Error occurred: ', str(e))\n",
    "finally:\n",
    "    producer.close()"
   ]
  }
 ],
 "metadata": {
  "application/vnd.databricks.v1+notebook": {
   "dashboards": [],
   "language": "python",
   "notebookMetadata": {
    "pythonIndentUnit": 4
   },
   "notebookName": "publish_events-eventhub",
   "widgets": {}
  }
 },
 "nbformat": 4,
 "nbformat_minor": 0
}
