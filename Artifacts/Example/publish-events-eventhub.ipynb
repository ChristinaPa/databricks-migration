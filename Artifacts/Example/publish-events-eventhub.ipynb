{
 "cells": [
  {
   "attachments": {},
   "cell_type": "markdown",
   "metadata": {},
   "source": [
    "Read data from a local CSV file and covert it to JSON"
   ]
  },
  {
   "cell_type": "code",
   "execution_count": 28,
   "metadata": {
    "application/vnd.databricks.v1+cell": {
     "cellMetadata": {
      "byteLimit": 2048000,
      "rowLimit": 10000
     },
     "inputWidgets": {},
     "nuid": "77736980-4b7e-4a66-b8ca-053346f04d9d",
     "showTitle": false,
     "title": ""
    }
   },
   "outputs": [
    {
     "ename": "ImportError",
     "evalue": "cannot import name 'EventPosition' from 'azure.eventhub' (/home/blawrence/ws/repos/databricks-migration/.venv/lib/python3.10/site-packages/azure/eventhub/__init__.py)",
     "output_type": "error",
     "traceback": [
      "\u001b[0;31m---------------------------------------------------------------------------\u001b[0m",
      "\u001b[0;31mImportError\u001b[0m                               Traceback (most recent call last)",
      "Cell \u001b[0;32mIn[28], line 3\u001b[0m\n\u001b[1;32m      1\u001b[0m \u001b[39m# Import necessary libraries\u001b[39;00m\n\u001b[1;32m      2\u001b[0m \u001b[39mimport\u001b[39;00m \u001b[39mpandas\u001b[39;00m \u001b[39mas\u001b[39;00m \u001b[39mpd\u001b[39;00m\n\u001b[0;32m----> 3\u001b[0m \u001b[39mfrom\u001b[39;00m \u001b[39mazure\u001b[39;00m\u001b[39m.\u001b[39;00m\u001b[39meventhub\u001b[39;00m \u001b[39mimport\u001b[39;00m EventHubProducerClient, EventHubConsumerClient, EventData, EventPosition\n",
      "\u001b[0;31mImportError\u001b[0m: cannot import name 'EventPosition' from 'azure.eventhub' (/home/blawrence/ws/repos/databricks-migration/.venv/lib/python3.10/site-packages/azure/eventhub/__init__.py)"
     ]
    }
   ],
   "source": [
    "# Import necessary libraries\n",
    "import pandas as pd\n",
    "from azure.eventhub import EventHubProducerClient, EventHubConsumerClient, EventData\n"
   ]
  },
  {
   "cell_type": "code",
   "execution_count": null,
   "metadata": {},
   "outputs": [],
   "source": [
    "# Specify the path to CSV file\n",
    "csv_file_path = '../../data/sales_orders_s.csv'  # Replace with your CSV file path\n",
    "\n",
    "# Read a csv file using pandas\n",
    "df = pd.read_csv(csv_file_path)\n",
    "df = df.head(10)\n",
    "\n",
    "\n",
    "# Convert the CSV file into JSON\n",
    "json_data = df.to_json(orient='records')\n"
   ]
  },
  {
   "cell_type": "code",
   "execution_count": null,
   "metadata": {},
   "outputs": [],
   "source": [
    "print(json_data)"
   ]
  },
  {
   "attachments": {},
   "cell_type": "markdown",
   "metadata": {},
   "source": [
    "Publish JSON to Event Hub topic"
   ]
  },
  {
   "cell_type": "code",
   "execution_count": null,
   "metadata": {},
   "outputs": [],
   "source": [
    "# Specify your Event Hub connection string and name\n",
    "event_hub_connection_string = 'Endpoint=sb://streamdata-2f774f-ns.servicebus.windows.net/;SharedAccessKeyName=RootManageSharedAccessKey;SharedAccessKey=xlTL64ydjLanZARHT2/IuZWUoi49GfGeU+AEhD4o12M='  # Replace with your connection string\n",
    "event_hub_name = 'sales_orders_s'\n",
    "\n",
    "producer = EventHubProducerClient.from_connection_string(event_hub_connection_string, eventhub_name=event_hub_name)\n",
    "\n",
    "# Publish the JSON as events\n",
    "try:\n",
    "    event_data_batch = producer.create_batch()\n",
    "    event_data_batch.add(EventData(json_data))\n",
    "    producer.send_batch(event_data_batch)\n",
    "except Exception as e:\n",
    "    print('Error occurred: ', str(e))\n",
    "finally:\n",
    "    producer.close()"
   ]
  }
 ],
 "metadata": {
  "application/vnd.databricks.v1+notebook": {
   "dashboards": [],
   "language": "python",
   "notebookMetadata": {
    "pythonIndentUnit": 4
   },
   "notebookName": "azure_mysqldb",
   "widgets": {}
  },
  "kernelspec": {
   "display_name": ".venv",
   "language": "python",
   "name": "python3"
  },
  "language_info": {
   "codemirror_mode": {
    "name": "ipython",
    "version": 3
   },
   "file_extension": ".py",
   "mimetype": "text/x-python",
   "name": "python",
   "nbconvert_exporter": "python",
   "pygments_lexer": "ipython3",
   "version": "3.10.10"
  }
 },
 "nbformat": 4,
 "nbformat_minor": 0
}
