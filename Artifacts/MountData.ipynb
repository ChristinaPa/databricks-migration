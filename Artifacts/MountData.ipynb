{
 "cells": [
  {
   "cell_type": "markdown",
   "metadata": {
    "application/vnd.databricks.v1+cell": {
     "cellMetadata": {
      "byteLimit": 2048000,
      "rowLimit": 10000
     },
     "inputWidgets": {},
     "nuid": "bb16e840-ab08-419d-a694-e391515a1e1f",
     "showTitle": false,
     "title": ""
    }
   },
   "source": [
    "In the below code, we are mounting the files present in our ADLS Storage Account, in the DBFS."
   ]
  },
  {
   "cell_type": "code",
   "execution_count": 0,
   "metadata": {
    "application/vnd.databricks.v1+cell": {
     "cellMetadata": {},
     "inputWidgets": {},
     "nuid": "f146c490-cec5-4a17-90bd-3ffa0739d6f5",
     "showTitle": false,
     "title": ""
    }
   },
   "outputs": [],
   "source": [
    "secret_key = {secret_key}\n",
    "container = {container_name}\n",
    "account = {Storage_account_name}\n",
    "\n",
    "dbutils.fs.mount(\n",
    "source=\"wasbs://{}@{}.blob.core.windows.net/\".format(container,account),\n",
    "mount_point=\"/mnt/data\",\n",
    "extra_configs = {\"fs.azure.account.key.{account}.blob.core.windows.net\":secret_key})"
   ]
  },
  {
   "cell_type": "markdown",
   "metadata": {
    "application/vnd.databricks.v1+cell": {
     "cellMetadata": {
      "byteLimit": 2048000,
      "rowLimit": 10000
     },
     "inputWidgets": {},
     "nuid": "cc21251c-19bb-4112-8ae2-99ad3131024a",
     "showTitle": false,
     "title": ""
    }
   },
   "source": [
    "Substitute your **Storage Account Name**, **Container Name** and **Secret Key** in their respective placeholders."
   ]
  }
 ],
 "metadata": {
  "application/vnd.databricks.v1+notebook": {
   "dashboards": [],
   "language": "python",
   "notebookMetadata": {
    "pythonIndentUnit": 4
   },
   "notebookName": "MountData",
   "widgets": {}
  }
 },
 "nbformat": 4,
 "nbformat_minor": 0
}
