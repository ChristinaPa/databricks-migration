{
 "cells": [
  {
   "attachments": {},
   "cell_type": "markdown",
   "metadata": {
    "application/vnd.databricks.v1+cell": {
     "cellMetadata": {
      "byteLimit": 2048000,
      "rowLimit": 10000
     },
     "inputWidgets": {},
     "nuid": "bb16e840-ab08-419d-a694-e391515a1e1f",
     "showTitle": false,
     "title": ""
    }
   },
   "source": [
    "## How to mount an Azure Blob Storage container using the Databricks File System (dbutils.fs)\n",
    "\n",
    "To mount an Azure Blob Storage container using the DBFS, you need: \n",
    "- ```secret_key``` - Required to authenticate and access the Azure Blob Storage account.\n",
    "- ```container``` - Represents the name of the Azure Blob Storage container that needs to be mounted.\n",
    "- ```account``` - Represents the name of the Azure Storage account that contains the specified container.\n",
    "\n",
    "Replace the above values in the respective place-holders.\n",
    "\n",
    "**dbutils.fs.mount** is used to mount the Azure Blob Storage container to a specified mount point.\n",
    "\n",
    "**source** parameter specifies the source URL for the Blob Storage container. In this case, it uses the **wasbs** protocol, which stands for **\"Windows Azure Storage Blob Store\"**. The format method is used to dynamically insert the **container** and **account** variables into the source URL.\n",
    "\n",
    "**mount_point** parameter specifies the mount point directory where the Blob Storage container will be mounted. In this case, it is set to **/mnt/data**.\n",
    "\n",
    "**extra_configs** parameter specifies additional configurations required for mounting the container. Here, it provides the Azure storage account key using the format **fs.azure.account.key.{account}.blob.core.windows.net** and inserts the value of **secret_key**."
   ]
  },
  {
   "cell_type": "code",
   "execution_count": null,
   "metadata": {
    "application/vnd.databricks.v1+cell": {
     "cellMetadata": {},
     "inputWidgets": {},
     "nuid": "f146c490-cec5-4a17-90bd-3ffa0739d6f5",
     "showTitle": false,
     "title": ""
    }
   },
   "outputs": [],
   "source": [
    "secret_key = {secret_key}\n",
    "container = {container_name}\n",
    "account = {Storage_account_name}\n",
    "\n",
    "dbutils.fs.mount(\n",
    "    source=\"wasbs://{container}@{account}.blob.core.windows.net/\".format(container,account),\n",
    "    mount_point=\"/mnt/data\",\n",
    "    extra_configs = {\"fs.azure.account.key.{account}.blob.core.windows.net\":secret_key})"
   ]
  },
  {
   "attachments": {},
   "cell_type": "markdown",
   "metadata": {
    "application/vnd.databricks.v1+cell": {
     "cellMetadata": {
      "byteLimit": 2048000,
      "rowLimit": 10000
     },
     "inputWidgets": {},
     "nuid": "cc21251c-19bb-4112-8ae2-99ad3131024a",
     "showTitle": false,
     "title": ""
    }
   },
   "source": [
    "Overall, the code mounts an **Azure Blob Storage container** to a specified mount point using the provided **secret key** and **account** details. This allows accessing the contents of the container through the mount point within the **Databricks environment**."
   ]
  }
 ],
 "metadata": {
  "application/vnd.databricks.v1+notebook": {
   "dashboards": [],
   "language": "python",
   "notebookMetadata": {
    "pythonIndentUnit": 4
   },
   "notebookName": "MountData",
   "widgets": {}
  },
  "language_info": {
   "name": "python"
  }
 },
 "nbformat": 4,
 "nbformat_minor": 0
}
