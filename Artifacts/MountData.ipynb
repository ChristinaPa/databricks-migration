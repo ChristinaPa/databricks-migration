{
 "cells": [
  {
   "cell_type": "code",
   "execution_count": 0,
   "metadata": {
    "application/vnd.databricks.v1+cell": {
     "cellMetadata": {},
     "inputWidgets": {},
     "nuid": "104c95e4-b5d0-4edb-b71d-2865c598e255",
     "showTitle": false,
     "title": ""
    }
   },
   "outputs": [],
   "source": [
    "secret_key = {secret_key}\n",
    "dbutils.fs.mount(\n",
    "source=\"wasbs://{container_name}@{Storage_account_name}.blob.core.windows.net/\",\n",
    "mount_point=\"/mnt/data\",\n",
    "extra_configs = {\"fs.azure.account.key.{Storage_account_name}.blob.core.windows.net\":secret_key})"
   ]
  }
 ],
 "metadata": {
  "application/vnd.databricks.v1+notebook": {
   "dashboards": [],
   "language": "python",
   "notebookMetadata": {
    "pythonIndentUnit": 4
   },
   "notebookName": "MountData",
   "widgets": {}
  }
 },
 "nbformat": 4,
 "nbformat_minor": 0
}
