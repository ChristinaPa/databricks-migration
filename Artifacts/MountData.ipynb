{
 "cells": [
  {
   "cell_type": "markdown",
   "metadata": {
    "application/vnd.databricks.v1+cell": {
     "cellMetadata": {
      "byteLimit": 2048000,
      "rowLimit": 10000
     },
     "inputWidgets": {},
     "nuid": "bb16e840-ab08-419d-a694-e391515a1e1f",
     "showTitle": false,
     "title": ""
    }
   },
   "source": [
    "In the below code, we are mounting the files present in our ADLS Storage Accountin the DBFS"
   ]
  },
  {
   "cell_type": "code",
   "execution_count": 0,
   "metadata": {
    "application/vnd.databricks.v1+cell": {
     "cellMetadata": {
      "byteLimit": 2048000,
      "rowLimit": 10000
     },
     "inputWidgets": {},
     "nuid": "104c95e4-b5d0-4edb-b71d-2865c598e255",
     "showTitle": false,
     "title": ""
    }
   },
   "outputs": [
    {
     "output_type": "display_data",
     "data": {
      "text/plain": [
       "\u001B[0;31m---------------------------------------------------------------------------\u001B[0m\n",
       "\u001B[0;31mNameError\u001B[0m                                 Traceback (most recent call last)\n",
       "\u001B[0;32m<command-3880297474718053>\u001B[0m in \u001B[0;36m<cell line: 1>\u001B[0;34m()\u001B[0m\n",
       "\u001B[0;32m----> 1\u001B[0;31m \u001B[0msecret_key\u001B[0m \u001B[0;34m=\u001B[0m \u001B[0;34m{\u001B[0m\u001B[0msecret_key\u001B[0m\u001B[0;34m}\u001B[0m\u001B[0;34m\u001B[0m\u001B[0;34m\u001B[0m\u001B[0m\n",
       "\u001B[0m\u001B[1;32m      2\u001B[0m dbutils.fs.mount(\n",
       "\u001B[1;32m      3\u001B[0m \u001B[0msource\u001B[0m\u001B[0;34m=\u001B[0m\u001B[0;34m\"wasbs://{container_name}@{Storage_account_name}.blob.core.windows.net/\"\u001B[0m\u001B[0;34m,\u001B[0m\u001B[0;34m\u001B[0m\u001B[0;34m\u001B[0m\u001B[0m\n",
       "\u001B[1;32m      4\u001B[0m \u001B[0mmount_point\u001B[0m\u001B[0;34m=\u001B[0m\u001B[0;34m\"/mnt/data\"\u001B[0m\u001B[0;34m,\u001B[0m\u001B[0;34m\u001B[0m\u001B[0;34m\u001B[0m\u001B[0m\n",
       "\u001B[1;32m      5\u001B[0m extra_configs = {\"fs.azure.account.key.{Storage_account_name}.blob.core.windows.net\":secret_key})\n",
       "\n",
       "\u001B[0;31mNameError\u001B[0m: name 'secret_key' is not defined"
      ]
     },
     "metadata": {
      "application/vnd.databricks.v1+output": {
       "arguments": {},
       "data": "\u001B[0;31m---------------------------------------------------------------------------\u001B[0m\n\u001B[0;31mNameError\u001B[0m                                 Traceback (most recent call last)\n\u001B[0;32m<command-3880297474718053>\u001B[0m in \u001B[0;36m<cell line: 1>\u001B[0;34m()\u001B[0m\n\u001B[0;32m----> 1\u001B[0;31m \u001B[0msecret_key\u001B[0m \u001B[0;34m=\u001B[0m \u001B[0;34m{\u001B[0m\u001B[0msecret_key\u001B[0m\u001B[0;34m}\u001B[0m\u001B[0;34m\u001B[0m\u001B[0;34m\u001B[0m\u001B[0m\n\u001B[0m\u001B[1;32m      2\u001B[0m dbutils.fs.mount(\n\u001B[1;32m      3\u001B[0m \u001B[0msource\u001B[0m\u001B[0;34m=\u001B[0m\u001B[0;34m\"wasbs://{container_name}@{Storage_account_name}.blob.core.windows.net/\"\u001B[0m\u001B[0;34m,\u001B[0m\u001B[0;34m\u001B[0m\u001B[0;34m\u001B[0m\u001B[0m\n\u001B[1;32m      4\u001B[0m \u001B[0mmount_point\u001B[0m\u001B[0;34m=\u001B[0m\u001B[0;34m\"/mnt/data\"\u001B[0m\u001B[0;34m,\u001B[0m\u001B[0;34m\u001B[0m\u001B[0;34m\u001B[0m\u001B[0m\n\u001B[1;32m      5\u001B[0m extra_configs = {\"fs.azure.account.key.{Storage_account_name}.blob.core.windows.net\":secret_key})\n\n\u001B[0;31mNameError\u001B[0m: name 'secret_key' is not defined",
       "errorSummary": "<span class='ansi-red-fg'>NameError</span>: name 'secret_key' is not defined",
       "errorTraceType": "ansi",
       "metadata": {},
       "type": "ipynbError"
      }
     },
     "output_type": "display_data"
    }
   ],
   "source": [
    "secret_key = {secret_key}\n",
    "dbutils.fs.mount(\n",
    "source=\"wasbs://{container_name}@{Storage_account_name}.blob.core.windows.net/\",\n",
    "mount_point=\"/mnt/data\",\n",
    "extra_configs = {\"fs.azure.account.key.{Storage_account_name}.blob.core.windows.net\":secret_key})"
   ]
  },
  {
   "cell_type": "markdown",
   "metadata": {
    "application/vnd.databricks.v1+cell": {
     "cellMetadata": {
      "byteLimit": 2048000,
      "rowLimit": 10000
     },
     "inputWidgets": {},
     "nuid": "cc21251c-19bb-4112-8ae2-99ad3131024a",
     "showTitle": false,
     "title": ""
    }
   },
   "source": [
    "Substitute your **Storage Account Name**, **Container Name** and **Secret Key** in their respective placeholders."
   ]
  }
 ],
 "metadata": {
  "application/vnd.databricks.v1+notebook": {
   "dashboards": [],
   "language": "python",
   "notebookMetadata": {
    "pythonIndentUnit": 4
   },
   "notebookName": "MountData",
   "widgets": {}
  }
 },
 "nbformat": 4,
 "nbformat_minor": 0
}
