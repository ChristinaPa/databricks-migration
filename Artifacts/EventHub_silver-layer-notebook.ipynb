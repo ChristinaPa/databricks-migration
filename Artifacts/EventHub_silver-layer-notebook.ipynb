{
 "cells": [
  {
   "cell_type": "code",
   "execution_count": null,
   "metadata": {
    "application/vnd.databricks.v1+cell": {
     "cellMetadata": {},
     "inputWidgets": {},
     "nuid": "31d653c1-de29-403b-8100-7993c601f8f3",
     "showTitle": false,
     "title": ""
    }
   },
   "outputs": [],
   "source": [
    "# Read raw data from bronze tables and apply transformations that will form the silver layer\n",
    "\n",
    "data1_schema = {new_schema}\n",
    "\n",
    "# read data from the Delta Live Table called data1_raw and apply transformations\n",
    "\n",
    "@dlt.table(\n",
    "    comment=\"Load data to data1_cleansed table\",\n",
    "    table_properties={\"pipelines.reset.allowed\": \"true\"},\n",
    "    spark_conf={\"pipelines.trigger.interval\": \"60 seconds\"},\n",
    "    temporary=False,\n",
    ")\n",
    "def data1_cleansed():\n",
    "    return (\n",
    "        dlt.read_stream(\"data1_raw\")\n",
    "        #         spark.readStream.format(\"delta\").table(\"data1_raw\")\n",
    "        .{transformations} # transformations such as filtering, aggregating, or applying custom logic to transform the data within the table\n",
    "    )\n",
    "\n",
    "\n",
    "data2_schema = {new_schema}\n",
    "\n",
    "# read data from the Delta Live Table called data2_raw and apply transformations\n",
    "           \n",
    "@dlt.table(\n",
    "    comment=\"Load data to data2_cleansed table\",\n",
    "    table_properties={\"pipelines.reset.allowed\": \"true\"},\n",
    "    spark_conf={\"pipelines.trigger.interval\": \"60 seconds\"},\n",
    "    temporary=False,\n",
    ")\n",
    "def data2_cleansed():\n",
    "    return (\n",
    "        dlt.read_stream(\"data2_raw\")\n",
    "        #         spark.readStream.format(\"delta\").table(\"data2_raw\")\n",
    "        #          spark.read.format(\"delta\").table(\"data2_raw\")\n",
    "        .{transformations} # transformations such as filtering, aggregating, or applying custom logic to transform the data within the table\n",
    "    )\n",
    "\n",
    "\n",
    "data3_schema = {new_schema}\n",
    "\n",
    "# read data from the Delta Live Table called data3_raw and apply transformations\n",
    "\n",
    "@dlt.table(\n",
    "    comment=\"Load data to a data3_cleansed table\",\n",
    "    table_properties={\"pipelines.reset.allowed\": \"true\"},\n",
    "    spark_conf={\"pipelines.trigger.interval\": \"60 seconds\"},\n",
    "    temporary=False,\n",
    ")\n",
    "def data3_cleansed():\n",
    "    return (\n",
    "        dlt.read_stream(\"data3_raw\")\n",
    "        #         spark.readStream.format(\"delta\").table(\"data3_raw\")\n",
    "        #         spark.read.format(\"delta\").table(\"data3_raw\")\n",
    "        .{tranformations} # transformations such as filtering, aggregating, or applying custom logic to transform the data within the table\n",
    "    )\n"
   ]
  }
 ],
 "metadata": {
  "application/vnd.databricks.v1+notebook": {
   "dashboards": [],
   "language": "python",
   "notebookMetadata": {
    "pythonIndentUnit": 4
   },
   "notebookName": "EventHub_silver-layer-notebook",
   "widgets": {}
  },
  "language_info": {
   "name": "python"
  }
 },
 "nbformat": 4,
 "nbformat_minor": 0
}
