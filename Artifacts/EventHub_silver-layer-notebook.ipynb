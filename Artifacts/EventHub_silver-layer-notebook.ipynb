{
 "cells": [
  {
   "attachments": {},
   "cell_type": "markdown",
   "metadata": {},
   "source": [
    "The silver layer is an intermediate layer where data is refined, cleansed, and transformed for analysis.\n",
    "The code below defines three functions (`data1_cleansed`, `data2_cleansed`, and `data3_cleansed`) that load and transform data into respective Delta tables (`data1_cleansed`, `data2_cleansed`, and `data3_cleansed`). Each function follows a similar structure and performs the following steps:\n",
    "\n",
    "1. Reads the data from a streaming source using `dlt.read_stream` for `data1_cleansed`, `data2_cleansed` and `data3_cleansed`.\n",
    "2. Selects all columns from the source data using `.select(*)`.\n",
    "3. Converts a formatted datetime column to Unix datetime format using `withColumn(\"datetime_comun\", from_unixtime(\"formatted_datettime_column\"))`.\n",
    "4. Renames a column from 'OldColumnName' to 'New_Column_Name' using `withColumnRenamed`.\n",
    "5. Replaces a specific string value in a column with a new string value using `withColumn(\"column_name\", regexp_replace(\"column_name\", \"string_value\", \"new_string_value\"))`.\n",
    "6. Changes the schema of a column from JSON format using `withColumn(\"column_name\", from_json(col(\"column_name\"), new_schema))`.\n",
    "7. Explodes an array column to obtain individual rows using `withColumn(\"column_name\", explode(\"column_name\"))`.\n",
    "8. Applies additional transformations specific to each table (`{Transformations}`).\n",
    "\n",
    "Each function is decorated with `@dlt.table` to define them as Delta tables and configure properties such as comments, table properties, Spark configurations, and permanence settings."
   ]
  },
  {
   "cell_type": "code",
   "execution_count": null,
   "metadata": {
    "application/vnd.databricks.v1+cell": {
     "cellMetadata": {},
     "inputWidgets": {},
     "nuid": "31d653c1-de29-403b-8100-7993c601f8f3",
     "showTitle": false,
     "title": ""
    }
   },
   "outputs": [],
   "source": [
    "data1_schema = {new_schema}\n",
    "\n",
    "@dlt.table(\n",
    "    comment=\"Load data to data1_cleansed table\",\n",
    "    table_properties={\"pipelines.reset.allowed\": \"true\"},\n",
    "    spark_conf={\"pipelines.trigger.interval\": \"60 seconds\"},\n",
    "    temporary=False,\n",
    ")\n",
    "def data1_cleansed():\n",
    "    return (\n",
    "        dlt.read_stream(\"data1_raw\")\n",
    "        #         spark.readStream.format(\"delta\").table(\"data1_raw\")\n",
    "        .select(*)\n",
    "        .withColumn(\"datetime_comun\", from_unixtime(\"formatted_datettime_column\")) #changes date-time column to unix date-time format\n",
    "        .withColumnRenamed('OldColumnName', 'New_Column_Name') #changing column name\n",
    "        .withColumn(\"column_name\", regexp_replace(\"column_name\", \"string_value\", \"new_string_value\")) #replace part of a string with another string\n",
    "        .withColumn(\"column_name\", from_json(col(\"column_name\"), new_schema)) #changing the schema of a column in json # parse JSON string column and extract its fields into separate columns in the DataFrame.\n",
    "        .withColumn(\"column_name\", explode(\"column_name\")) #exploding the array to get the individual rows\n",
    "        {Tranformations}\n",
    "    )\n",
    "\n",
    "\n",
    "data2_schema = {new_schema}\n",
    "           \n",
    "@dlt.table(\n",
    "    comment=\"Load data to data2_cleansed table\",\n",
    "    table_properties={\"pipelines.reset.allowed\": \"true\"},\n",
    "    spark_conf={\"pipelines.trigger.interval\": \"60 seconds\"},\n",
    "    temporary=False,\n",
    ")\n",
    "def data2_cleansed():\n",
    "    return (\n",
    "        dlt.read_stream(\"data2_raw\")\n",
    "        #         spark.readStream.format(\"delta\").table(\"data2_raw\")\n",
    "        #          spark.read.format(\"delta\").table(\"data2_raw\")\n",
    "        .select(*)\n",
    "        .withColumn(\"datetime_comun\", from_unixtime(\"formatted_datettime_column\")) #changes date-time column to unix date-time format\n",
    "        .withColumnRenamed('OldColumnName', 'New_Column_Name') #changing column name\n",
    "        .withColumn(\"column_name\", regexp_replace(\"column_name\", \"string_value\", \"new_string_value\")) #replace part of a string with another string\n",
    "        .withColumn(\"column_name\", from_json(col(\"column_name\"), new_schema)) #changing the schema of a column in json\n",
    "        .withColumn(\"column_name\", explode(\"column_name\")) #exploding the array to get the individual rows\n",
    "        {Tranformations}\n",
    "    )\n",
    "\n",
    "\n",
    "data3_schema = {new_schema}\n",
    "\n",
    "@dlt.table(\n",
    "    comment=\"Load data to a data3_cleansed table\",\n",
    "    table_properties={\"pipelines.reset.allowed\": \"true\"},\n",
    "    spark_conf={\"pipelines.trigger.interval\": \"60 seconds\"},\n",
    "    temporary=False,\n",
    ")\n",
    "def data3_cleansed():\n",
    "    return (\n",
    "        dlt.read_stream(\"data3_raw\")\n",
    "        #         spark.readStream.format(\"delta\").table(\"data3_raw\")\n",
    "        #         spark.read.format(\"delta\").table(\"data3_raw\")\n",
    "        .select(*)\n",
    "        .withColumn(\"datetime_comun\", from_unixtime(\"formatted_datettime_column\")) #changes date-time column to unix date-time format\n",
    "        .withColumnRenamed('OldColumnName', 'New_Column_Name') #changing column name\n",
    "        .withColumn(\"column_name\", regexp_replace(\"column_name\", \"string_value\", \"new_string_value\")) #replace part of a string with another string\n",
    "        .withColumn(\"column_name\", from_json(col(\"column_name\"), new_schema)) #changing the schema of a column in json\n",
    "        .withColumn(\"column_name\", explode(\"column_name\")) #exploding the array to get the individual rows\n",
    "        {Tranformations}\n",
    "    )\n"
   ]
  }
 ],
 "metadata": {
  "application/vnd.databricks.v1+notebook": {
   "dashboards": [],
   "language": "python",
   "notebookMetadata": {
    "pythonIndentUnit": 4
   },
   "notebookName": "EventHub_silver-layer-notebook",
   "widgets": {}
  },
  "language_info": {
   "name": "python"
  }
 },
 "nbformat": 4,
 "nbformat_minor": 0
}
