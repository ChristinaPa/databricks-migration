{
 "cells": [
  {
   "cell_type": "code",
   "execution_count": 0,
   "metadata": {
    "application/vnd.databricks.v1+cell": {
     "cellMetadata": {},
     "inputWidgets": {},
     "nuid": "31d653c1-de29-403b-8100-7993c601f8f3",
     "showTitle": false,
     "title": ""
    }
   },
   "outputs": [],
   "source": [
    "data1_schema = {new_schema}\n",
    "\n",
    "@dlt.table(\n",
    "    comment=\"Load data to data1_cleansed table\",\n",
    "    table_properties={\"pipelines.reset.allowed\": \"true\"},\n",
    "    spark_conf={\"pipelines.trigger.interval\": \"60 seconds\"},\n",
    "    temporary=False,\n",
    ")\n",
    "def data1_cleansed():\n",
    "    return (\n",
    "        dlt.read_stream(\"data1_raw\")\n",
    "        #         spark.readStream.format(\"delta\").table(\"data1_raw\")\n",
    "        .{transformations}\n",
    "    )\n",
    "\n",
    "\n",
    "data2_schema = {new_schema}\n",
    "           \n",
    "@dlt.table(\n",
    "    comment=\"Load data to data2_cleansed table\",\n",
    "    table_properties={\"pipelines.reset.allowed\": \"true\"},\n",
    "    spark_conf={\"pipelines.trigger.interval\": \"60 seconds\"},\n",
    "    temporary=False,\n",
    ")\n",
    "def data2_cleansed():\n",
    "    return (\n",
    "        dlt.read_stream(\"data2_raw\")\n",
    "        #         spark.readStream.format(\"delta\").table(\"data2_raw\")\n",
    "        #          spark.read.format(\"delta\").table(\"data2_raw\")\n",
    "        .{transformations}\n",
    "    )\n",
    "\n",
    "\n",
    "data3_schema = {new_schema}\n",
    "\n",
    "@dlt.table(\n",
    "    comment=\"Load data to a data3_cleansed table\",\n",
    "    table_properties={\"pipelines.reset.allowed\": \"true\"},\n",
    "    spark_conf={\"pipelines.trigger.interval\": \"60 seconds\"},\n",
    "    temporary=False,\n",
    ")\n",
    "def data3_cleansed():\n",
    "    return (\n",
    "        dlt.read_stream(\"data3_raw\")\n",
    "        #         spark.readStream.format(\"delta\").table(\"data3_raw\")\n",
    "        #         spark.read.format(\"delta\").table(\"data3_raw\")\n",
    "        .{tranformations}\n",
    "    )\n"
   ]
  }
 ],
 "metadata": {
  "application/vnd.databricks.v1+notebook": {
   "dashboards": [],
   "language": "python",
   "notebookMetadata": {
    "pythonIndentUnit": 4
   },
   "notebookName": "EventHub_silver-layer-notebook",
   "widgets": {}
  }
 },
 "nbformat": 4,
 "nbformat_minor": 0
}
