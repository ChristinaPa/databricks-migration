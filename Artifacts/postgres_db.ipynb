{
 "cells": [
  {
   "cell_type": "code",
   "execution_count": 0,
   "metadata": {
    "application/vnd.databricks.v1+cell": {
     "cellMetadata": {},
     "inputWidgets": {},
     "nuid": "b050ce82-1a9d-4230-aa02-d51218dd51a9",
     "showTitle": false,
     "title": ""
    }
   },
   "outputs": [],
   "source": [
    "driver = \"org.postgresql.Driver\"\n",
    "\n",
    "database_host = {Host_Name}\n",
    "database_name = {Database_Name}\n",
    "table = {Table_Name}\n",
    "user = {User_login}\n",
    "password = {Password}\n",
    "\n",
    "url = f\"jdbc:postgresql://{database_host}:5432/{database_name}\"\n",
    "\n",
    "remote_table = (spark.read\n",
    "  .format(\"jdbc\")\n",
    "  .option(\"driver\", driver)\n",
    "  .option(\"url\", url)\n",
    "  .option(\"dbtable\", table)\n",
    "  .option(\"user\", user)\n",
    "  .option(\"password\", password)\n",
    "  .load()\n",
    ")"
   ]
  }
 ],
 "metadata": {
  "application/vnd.databricks.v1+notebook": {
   "dashboards": [],
   "language": "python",
   "notebookMetadata": {
    "pythonIndentUnit": 4
   },
   "notebookName": "postgres_db",
   "widgets": {}
  }
 },
 "nbformat": 4,
 "nbformat_minor": 0
}
