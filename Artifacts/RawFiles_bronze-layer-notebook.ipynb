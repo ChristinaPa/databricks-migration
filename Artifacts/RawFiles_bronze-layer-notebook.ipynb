{
 "cells": [
  {
   "cell_type": "code",
   "execution_count": 0,
   "metadata": {
    "application/vnd.databricks.v1+cell": {
     "cellMetadata": {},
     "inputWidgets": {},
     "nuid": "b90c5c48-a368-4ca5-a16e-2fae661e3430",
     "showTitle": false,
     "title": ""
    }
   },
   "outputs": [],
   "source": [
    "import dlt\n",
    "from pyspark.sql.functions import *\n",
    "from pyspark.sql.types import *\n",
    "import datetime\n",
    "\n",
    "#create delta live table\n",
    "data_path1 ='/mnt/data/data1.csv'\n",
    "df1 = spark.read.csv(data_path1)\n",
    "@dlt.table\n",
    "def ToBeDimension1_raw():\n",
    "    return spark.read.schema(df1.schema).option('header', True).csv(data_path1)\n",
    "\n",
    "#create delta live table\n",
    "data_path2 ='/mnt/data/data2.csv'\n",
    "df2 = spark.read.csv(data_path2)\n",
    "@dlt.table\n",
    "def ToBeDimension2_raw():\n",
    "    return spark.read.schema(df2.schema).option('header', True).csv(data_path2)\n",
    "\n",
    "#create delta live table\n",
    "data_path3 ='/mnt/data/data3.csv'\n",
    "df3 = spark.read.csv(data_path3)\n",
    "@dlt.table\n",
    "def ToBeFact_raw():\n",
    "    return spark.read.schema(df3.schema).option('header', True).csv(data_path3)"
   ]
  }
 ],
 "metadata": {
  "application/vnd.databricks.v1+notebook": {
   "dashboards": [],
   "language": "python",
   "notebookMetadata": {
    "pythonIndentUnit": 4
   },
   "notebookName": "RawFiles_bronze-layer-notebook",
   "widgets": {}
  }
 },
 "nbformat": 4,
 "nbformat_minor": 0
}
