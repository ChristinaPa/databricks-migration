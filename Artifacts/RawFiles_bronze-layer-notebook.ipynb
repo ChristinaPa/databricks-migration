{
 "cells": [
  {
   "attachments": {},
   "cell_type": "markdown",
   "metadata": {},
   "source": [
    "## How to read schema from raw data files"
   ]
  },
  {
   "attachments": {},
   "cell_type": "markdown",
   "metadata": {},
   "source": [
    "Import the required libraries:\n",
    "\n",
    "```import dlt``` - This imports the **dlt** module, which is a Python package for working with Delta Lake.\n",
    "\n",
    "```from pyspark.sql.functions import *``` - This imports all functions from the pyspark.sql.functions module. The **pyspark.sql.functions** module contains a wide range of functions that can be used for data manipulation and transformation in Spark SQL.\n",
    "\n",
    "```from pyspark.sql.types import *``` - This imports all types from the pyspark.sql.types module. The **pyspark.sql.types** module provides the data types that can be used to define the schema of a DataFrame or a column in Spark SQL.\n",
    "\n",
    "```import datetime``` - This imports the datetime module, which is a standard Python library for working with dates and times."
   ]
  },
  {
   "cell_type": "code",
   "execution_count": null,
   "metadata": {
    "application/vnd.databricks.v1+cell": {
     "cellMetadata": {},
     "inputWidgets": {},
     "nuid": "b90c5c48-a368-4ca5-a16e-2fae661e3430",
     "showTitle": false,
     "title": ""
    }
   },
   "outputs": [],
   "source": [
    "import dlt\n",
    "from pyspark.sql.functions import *\n",
    "from pyspark.sql.types import *\n",
    "import datetime"
   ]
  },
  {
   "attachments": {},
   "cell_type": "markdown",
   "metadata": {},
   "source": [
    "**/mnt/data/data1.csv** represents the file path where the data file named **data1.csv** is located.\n",
    "\n",
    "**spark.read.csv()** method is used to read the data from the CSV file located at **data_path1** and load it into a DataFrame named **df1**.\n",
    "\n",
    "**@dlt.table** represents a decorator, which suggests that the code is part of a framework or library that extends functionality.\n",
    "\n",
    "**spark.read.schema(df1.schema).option('header', True).csv(data_path1)** returns a DataFrame by using the **spark.read** object to read the CSV file at **data_path1**. The **.schema(df1.schema)** part ensures that the new DataFrame has the same schema (column structure) as the previously read **df1** DataFrame. The **.option('header', True)** part indicates that the first row of the CSV file contains the header (column names). Finally, the **.csv(data_path1)** part reads the CSV file and returns a DataFrame."
   ]
  },
  {
   "cell_type": "code",
   "execution_count": null,
   "metadata": {},
   "outputs": [],
   "source": [
    "#create delta live table\n",
    "data_path1 ='/mnt/data/data1.csv'\n",
    "df1 = spark.read.csv(data_path1)\n",
    "@dlt.table\n",
    "def ToBeDimension1_raw():\n",
    "    return spark.read.schema(df1.schema).option('header', True).csv(data_path1)"
   ]
  },
  {
   "attachments": {},
   "cell_type": "markdown",
   "metadata": {},
   "source": [
    "Similarly run the following codes:"
   ]
  },
  {
   "cell_type": "code",
   "execution_count": null,
   "metadata": {},
   "outputs": [],
   "source": [
    "#create delta live table\n",
    "data_path2 ='/mnt/data/data2.csv'\n",
    "df2 = spark.read.csv(data_path2)\n",
    "@dlt.table\n",
    "def ToBeDimension2_raw():\n",
    "    return spark.read.schema(df2.schema).option('header', True).csv(data_path2)"
   ]
  },
  {
   "cell_type": "code",
   "execution_count": null,
   "metadata": {},
   "outputs": [],
   "source": [
    "#create delta live table\n",
    "data_path3 ='/mnt/data/data3.csv'\n",
    "df3 = spark.read.csv(data_path3)\n",
    "@dlt.table\n",
    "def ToBeFact_raw():\n",
    "    return spark.read.schema(df3.schema).option('header', True).csv(data_path3)"
   ]
  }
 ],
 "metadata": {
  "application/vnd.databricks.v1+notebook": {
   "dashboards": [],
   "language": "python",
   "notebookMetadata": {
    "pythonIndentUnit": 4
   },
   "notebookName": "RawFiles_bronze-layer-notebook",
   "widgets": {}
  },
  "language_info": {
   "name": "python"
  }
 },
 "nbformat": 4,
 "nbformat_minor": 0
}
