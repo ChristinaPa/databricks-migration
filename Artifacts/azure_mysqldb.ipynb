{
 "cells": [
  {
   "cell_type": "code",
   "execution_count": 0,
   "metadata": {
    "application/vnd.databricks.v1+cell": {
     "cellMetadata": {
      "byteLimit": 2048000,
      "rowLimit": 10000
     },
     "inputWidgets": {},
     "nuid": "77736980-4b7e-4a66-b8ca-053346f04d9d",
     "showTitle": false,
     "title": ""
    }
   },
   "outputs": [],
   "source": [
    "import dlt\n",
    "\n",
    "Host = {database_host}\n",
    "Table = {table_name}\n",
    "Database = {database_name}\n",
    "User = {user_admin}\n",
    "Password = {Password}\n",
    "\n",
    "@dlt.table\n",
    "def mysql_raw():\n",
    "    return (spark.read\n",
    "            .format(\"mysql\")\n",
    "            .option(\"dbtable\", Table)\n",
    "            .option(\"host\", Host)\n",
    "            .option(\"port\", 3306)\n",
    "            .option(\"database\", Database)\n",
    "            .option(\"user\", User)\n",
    "            .option(\"password\", pPssword)\n",
    "            .load()\n",
    "            )"
   ]
  }
 ],
 "metadata": {
  "application/vnd.databricks.v1+notebook": {
   "dashboards": [],
   "language": "python",
   "notebookMetadata": {
    "pythonIndentUnit": 4
   },
   "notebookName": "azure_mysqldb",
   "widgets": {}
  }
 },
 "nbformat": 4,
 "nbformat_minor": 0
}
