{
 "cells": [
  {
   "cell_type": "markdown",
   "metadata": {
    "application/vnd.databricks.v1+cell": {
     "cellMetadata": {},
     "inputWidgets": {},
     "nuid": "f86a8b6b-f738-40ec-9293-25e25d7044fd",
     "showTitle": false,
     "title": ""
    }
   },
   "source": [
    "Create Dimension Tables along with Dimension Schema as shown below:"
   ]
  },
  {
   "cell_type": "code",
   "execution_count": 0,
   "metadata": {
    "application/vnd.databricks.v1+cell": {
     "cellMetadata": {},
     "inputWidgets": {},
     "nuid": "43b9804a-a6db-43fd-b3c7-6cd7b90aa844",
     "showTitle": false,
     "title": ""
    }
   },
   "outputs": [],
   "source": [
    "@dlt.table (\n",
    "    {Dimension table 1 Schema}\n",
    ") \n",
    "def dimemsion1():\n",
    "    return dlt.read(\"ToBeDimension1_cleansed\")\n",
    "\n",
    "@dlt.table (\n",
    "    {Dimension table 2 Schema}\n",
    ") \n",
    "def dimemsion2():\n",
    "    return dlt.read(\"ToBeDimension2_cleansed\")\n",
    "\n",
    "@dlt.table (\n",
    "    {Dimension table 3 Schema}\n",
    ") \n",
    "def dimemsion3():\n",
    "    return dlt.read(\"ToBeDimension3_cleansed\")"
   ]
  },
  {
   "cell_type": "markdown",
   "metadata": {
    "application/vnd.databricks.v1+cell": {
     "cellMetadata": {},
     "inputWidgets": {},
     "nuid": "3b312c92-cd84-48b5-b89d-09e74bd6bfa1",
     "showTitle": false,
     "title": ""
    }
   },
   "source": [
    "Fact Table is created by joining Dimension Tables as shown:"
   ]
  },
  {
   "cell_type": "code",
   "execution_count": 0,
   "metadata": {
    "application/vnd.databricks.v1+cell": {
     "cellMetadata": {},
     "inputWidgets": {},
     "nuid": "562217e8-7101-4ab6-8611-f80d9704f903",
     "showTitle": false,
     "title": ""
    }
   },
   "outputs": [],
   "source": [
    "@dlt.table\n",
    "def fact_sales_orders():\n",
    "    s = dlt.read(\"dimension1\").alias(\"s\")\n",
    "    p = dlt.read(\"dimension2\").alias(\"p\")\n",
    "    c = dlt.read(\"dimension3\").alias(\"c\")\n",
    "    return (\n",
    "        s.join(p, s.key_column == p.key_column, \"inner\")\n",
    "        .join(c, s.key_column == c.key_column, \"inner\")\n",
    "        .select(\n",
    "            \"s.column1\",\n",
    "            \"c.column2\",\n",
    "            \"p.column3\",\n",
    "            col(\"s.old_column_name\").cast(\"date\").alias(\"new_column_name\"),\n",
    "            \"s.column4\",\n",
    "            \"s.column5\",\n",
    "            expr(\"s.column4 * s.column5\").alias(\"new_column_name\"),\n",
    "        )\n",
    "    )\n",
    "     "
   ]
  }
 ],
 "metadata": {
  "application/vnd.databricks.v1+notebook": {
   "dashboards": [],
   "language": "python",
   "notebookMetadata": {
    "pythonIndentUnit": 4
   },
   "notebookName": "03_gold-layer-notebook",
   "widgets": {}
  }
 },
 "nbformat": 4,
 "nbformat_minor": 0
}
