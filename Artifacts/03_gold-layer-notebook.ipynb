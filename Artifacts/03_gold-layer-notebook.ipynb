{
 "cells": [
  {
   "cell_type": "code",
   "execution_count": 0,
   "metadata": {
    "application/vnd.databricks.v1+cell": {
     "cellMetadata": {},
     "inputWidgets": {},
     "nuid": "3378b131-8819-49ec-b923-ee5ea90b04a2",
     "showTitle": false,
     "title": ""
    }
   },
   "outputs": [],
   "source": [
    "    @dlt.table(\n",
    "    schema=\"\"\"\n",
    "         product_key BIGINT GENERATED ALWAYS AS identity,\n",
    "         product_id STRING,\n",
    "         product_category STRING,\n",
    "         product_name STRING,\n",
    "         sales_price STRING,\n",
    "         ean13 DOUBLE,\n",
    "         ean5 STRING,\n",
    "         product_unit STRING    \n",
    "    \"\"\",\n",
    "    comment=\"Load data to products dimension table\",\n",
    "    table_properties={\"quality\": \"gold\", \"pipelines.reset.allowed\": \"true\"},\n",
    "    spark_conf={\"pipelines.trigger.interval\": \"60 seconds\"},\n",
    "    temporary=False,\n",
    ")\n",
    "def dim_products():\n",
    "    return dlt.read(\"products_cleansed\")"
   ]
  },
  {
   "cell_type": "code",
   "execution_count": 0,
   "metadata": {
    "application/vnd.databricks.v1+cell": {
     "cellMetadata": {},
     "inputWidgets": {},
     "nuid": "c9ccf899-799c-4560-b867-a15bf5344bd8",
     "showTitle": false,
     "title": ""
    }
   },
   "outputs": [],
   "source": [
    "@dlt.table(\n",
    "    schema=\"\"\"\n",
    "          customer_key BIGINT GENERATED ALWAYS AS IDENTITY,\n",
    "          customer_id integer,\n",
    "          tax_id STRING,\n",
    "          tax_code STRING,\n",
    "          customer_name STRING,\n",
    "          state STRING,\n",
    "          city STRING,\n",
    "          postcode STRING,\n",
    "          street STRING,\n",
    "          number STRING,\n",
    "          unit STRING,\n",
    "          region STRING,\n",
    "          district STRING,\n",
    "          lon double,\n",
    "          lat double,\n",
    "          ship_to_address STRING,\n",
    "          valid_from STRING,\n",
    "          valid_to STRING,\n",
    "          units_purchased STRING,\n",
    "          loyalty_segment integer\n",
    "    \"\"\",\n",
    "    comment=\"Load data to customers dimension table\",\n",
    "    table_properties={\"quality\": \"gold\", \"pipelines.reset.allowed\": \"true\"},\n",
    "    spark_conf={\"pipelines.trigger.interval\": \"60 seconds\"},\n",
    "    temporary=False,\n",
    ")\n",
    "def dim_customers():\n",
    "    return dlt.read(\"customers_cleansed\")"
   ]
  },
  {
   "cell_type": "code",
   "execution_count": 0,
   "metadata": {
    "application/vnd.databricks.v1+cell": {
     "cellMetadata": {},
     "inputWidgets": {},
     "nuid": "2a03cd61-733f-4e1f-8844-99ee3bba1651",
     "showTitle": false,
     "title": ""
    }
   },
   "outputs": [],
   "source": [
    "@dlt.table(\n",
    "    comment=\"load data to sales orders fact table\",\n",
    "    table_properties={\"quality\": \"gold\", \"pipelines.reset.allowed\": \"true\"},\n",
    "    spark_conf={\"pipelines.trigger.interval\": \"60 seconds\"},\n",
    "    temporary=False,\n",
    ")\n",
    "def fact_sales_orders():\n",
    "    s = dlt.read(\"sales_orders_cleansed\").alias(\"s\")\n",
    "    p = dlt.read(\"dim_products\").alias(\"p\")\n",
    "    c = dlt.read(\"dim_customers\").alias(\"c\")\n",
    "    return (\n",
    "        s.join(p, s.product_id == p.product_id, \"inner\")\n",
    "        .join(c, s.customer_id == c.customer_id, \"inner\")\n",
    "        .select(\n",
    "            \"s.order_number\",\n",
    "            \"c.customer_key\",\n",
    "            \"p.product_key\",\n",
    "            col(\"s.order_datetime\").cast(\"date\").alias(\"order_date\"),\n",
    "            \"s.unit_price\",\n",
    "            \"s.quantity\",\n",
    "            expr(\"s.unit_price * s.quantity\").alias(\"total_price\"),\n",
    "        )\n",
    "    )"
   ]
  },
  {
   "cell_type": "code",
   "execution_count": 0,
   "metadata": {
    "application/vnd.databricks.v1+cell": {
     "cellMetadata": {},
     "inputWidgets": {},
     "nuid": "6d84a120-d6c8-481c-a1ce-6f75912ca498",
     "showTitle": false,
     "title": ""
    }
   },
   "outputs": [],
   "source": [
    "@dlt.table(\n",
    "    comment=\"load data to customer sales fact table\",\n",
    "    table_properties={\"quality\": \"gold\", \"pipelines.reset.allowed\": \"true\"},\n",
    "    spark_conf={\"pipelines.trigger.interval\": \"60 seconds\"},\n",
    "    temporary=False,\n",
    ")\n",
    "def fact_customer_sales():\n",
    "    s = dlt.read(\"sales_orders_cleansed\").alias(\"s\")\n",
    "    p = dlt.read(\"dim_products\").alias(\"p\")\n",
    "    c = dlt.read(\"dim_customers\").alias(\"c\")\n",
    "    return (\n",
    "        s.join(p, s.product_id == p.product_id, \"inner\")\n",
    "        .join(c, s.customer_id == c.customer_id, \"inner\")\n",
    "        .groupBy(\"c.customer_key\", \"p.product_key\")\n",
    "        .agg(\n",
    "            sum(\"quantity\").alias(\"total_quantity\"),\n",
    "            sum(expr(\"s.unit_price * s.quantity\")).alias(\"sale_amount\"),\n",
    "        )\n",
    "    )"
   ]
  }
 ],
 "metadata": {
  "application/vnd.databricks.v1+notebook": {
   "dashboards": [],
   "language": "python",
   "notebookMetadata": {
    "pythonIndentUnit": 4
   },
   "notebookName": "03_gold-layer-notebook",
   "notebookOrigID": 3351004580878820,
   "widgets": {}
  }
 },
 "nbformat": 4,
 "nbformat_minor": 0
}
