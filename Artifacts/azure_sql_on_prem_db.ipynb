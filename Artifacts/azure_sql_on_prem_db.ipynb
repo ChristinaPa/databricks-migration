{
 "cells": [
  {
   "cell_type": "code",
   "execution_count": null,
   "metadata": {
    "application/vnd.databricks.v1+cell": {
     "cellMetadata": {},
     "inputWidgets": {},
     "nuid": "1aa784d2-5383-4290-b100-f7fcdda9bf56",
     "showTitle": false,
     "title": ""
    }
   },
   "outputs": [],
   "source": [
    "# Connection details for accessing the on prem SQL Server database\n",
    "\n",
    "driver = \"com.microsoft.sqlserver.jdbc.SQLServerDriver\" # class name of the Microsoft SQL Server JDBC driver\n",
    "\n",
    "database_host = {Host_name} # hostname of the on-premises SQL database server\n",
    "database_name = {Database_Name} # name of the specific database you want to connect to\n",
    "table = {Table_name} # name of the table you want to read from\n",
    "user = {user_login} # login username for accessing the on-premises SQL database\n",
    "password = {Password} # corresponding password for the provided username\n",
    "\n",
    "url = f\"jdbc:sqlserver://{database_host}:1433;database={database_name}\" # JDBC URL required for establishing the connection to the SQL database\n",
    "\n",
    "# Read data from the on-premises SQL database using the spark.read API and the JDBC format\n",
    "\n",
    "remote_table = (spark.read\n",
    "  .format(\"jdbc\")\n",
    "  .option(\"driver\", driver)\n",
    "  .option(\"url\", url)\n",
    "  .option(\"dbtable\", table)\n",
    "  .option(\"user\", user)\n",
    "  .option(\"password\", password)\n",
    "  .load()\n",
    ")\n"
   ]
  }
 ],
 "metadata": {
  "application/vnd.databricks.v1+notebook": {
   "dashboards": [],
   "language": "python",
   "notebookMetadata": {
    "pythonIndentUnit": 4
   },
   "notebookName": "azure_sql_on_prem_db",
   "widgets": {}
  },
  "language_info": {
   "name": "python"
  }
 },
 "nbformat": 4,
 "nbformat_minor": 0
}
