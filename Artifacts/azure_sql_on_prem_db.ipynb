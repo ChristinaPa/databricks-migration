{
 "cells": [
  {
   "cell_type": "code",
   "execution_count": 0,
   "metadata": {
    "application/vnd.databricks.v1+cell": {
     "cellMetadata": {},
     "inputWidgets": {},
     "nuid": "1aa784d2-5383-4290-b100-f7fcdda9bf56",
     "showTitle": false,
     "title": ""
    }
   },
   "outputs": [],
   "source": [
    "import dlt\n",
    "driver = \"com.microsoft.sqlserver.jdbc.SQLServerDriver\"\n",
    "\n",
    "database_host = {Host_Name}\n",
    "database_name = {Database_Name}\n",
    "table = {Table_name}\n",
    "user = {user_login}\n",
    "password = {Password}\n",
    "\n",
    "url = \"jdbc:sqlserver://{database_host}:1433;databaseName={database_name}\"\n",
    "\n",
    "@dlt.table\n",
    "def sql_raw():\n",
    "    return (\n",
    "        spark.read\n",
    "        .format(\"jdbc\")\n",
    "        .option(\"driver\", driver)\n",
    "        .option(\"url\", url)\n",
    "        .option(\"dbtable\", table)\n",
    "        .option(\"user\", user)\n",
    "        .option(\"password\", password)\n",
    "        .load()\n",
    "    )"
   ]
  },
  {
   "cell_type": "markdown",
   "metadata": {
    "application/vnd.databricks.v1+cell": {
     "cellMetadata": {},
     "inputWidgets": {},
     "nuid": "b0a98293-a785-4198-b55e-8bd5b462738a",
     "showTitle": false,
     "title": ""
    }
   },
   "source": [
    "- Enter the Host IP Address for Host Name."
   ]
  }
 ],
 "metadata": {
  "application/vnd.databricks.v1+notebook": {
   "dashboards": [],
   "language": "python",
   "notebookMetadata": {
    "pythonIndentUnit": 4
   },
   "notebookName": "azure_sql_on_prem_db",
   "widgets": {}
  }
 },
 "nbformat": 4,
 "nbformat_minor": 0
}
