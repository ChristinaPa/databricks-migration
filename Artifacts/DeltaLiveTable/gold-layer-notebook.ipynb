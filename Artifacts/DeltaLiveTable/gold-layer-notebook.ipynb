{
 "cells": [
  {
   "attachments": {},
   "cell_type": "markdown",
   "metadata": {},
   "source": [
    "## Create Dimension and Fact tables (Gold layer)"
   ]
  },
  {
   "cell_type": "code",
   "execution_count": null,
   "metadata": {},
   "outputs": [],
   "source": [
    "import dlt # dlt module, which is a Python package for working with Delta Lake\n",
    "from pyspark.sql.functions import col, expr # used for data manipulation and transformation in Spark SQL"
   ]
  },
  {
   "cell_type": "code",
   "execution_count": null,
   "metadata": {
    "application/vnd.databricks.v1+cell": {
     "cellMetadata": {},
     "inputWidgets": {},
     "nuid": "43b9804a-a6db-43fd-b3c7-6cd7b90aa844",
     "showTitle": false,
     "title": ""
    }
   },
   "outputs": [],
   "source": [
    "@dlt.table (\n",
    "    {Dim1 table Schema} # To be filled with schema of the Dim1 table\n",
    ") \n",
    "def Dim1():\n",
    "    return dlt.read(\"Dim1_cleansed\") # Dim1 table is defined by reading from cleansed data from silver layer using the dlt.read function.\n",
    "\n",
    "@dlt.table (\n",
    "    {Dim2 table Schema} # To be filled with schema of the Dim2 table\n",
    ") \n",
    "def Dim2():\n",
    "    return dlt.read(\"Dim2_cleansed\") # Dim2 table is defined by reading from cleansed data from silver layer using the dlt.read function."
   ]
  },
  {
   "cell_type": "code",
   "execution_count": null,
   "metadata": {
    "application/vnd.databricks.v1+cell": {
     "cellMetadata": {},
     "inputWidgets": {},
     "nuid": "562217e8-7101-4ab6-8611-f80d9704f903",
     "showTitle": false,
     "title": ""
    }
   },
   "outputs": [],
   "source": [
    "@dlt.table\n",
    "def Fact_table(): # The Fact_table** is defined by joining the Dim1, Dim2, and cleansed data from silver layer using the join function and selecting necessary columns using the select function.\n",
    "    s = dlt.read(\"Dim1\").alias(\"s\") #reads from Dim1 table\n",
    "    p = dlt.read(\"Dim2\").alias(\"p\") #reads from Dim2 table\n",
    "    c = dlt.read(\"Fact_cleansed\").alias(\"c\") #reads from Fact_cleansed table from silver layer\n",
    "    return (\n",
    "        s.join(p, s.key_column == p.key_column, \"inner\") # joins the three DataFrames s,p,c based on the common column key_column using inner joins. # Filled with actual key column name\n",
    "        .join(c, s.key_column == c.key_column, \"inner\") # joins the three DataFrames s,p,c based on the common column key_column using inner joins. # Filled with actual key column name\n",
    "        .select(\n",
    "            \"s.column1\", #selects column1 from Dim1 # Filled with actual column name\n",
    "            \"c.column2\", #selects column2 from Fact_cleansed # Filled with actual column name\n",
    "            \"p.column3\", #selects column3 from Dim1 # Filled with actual column name\n",
    "            col(\"s.old_column_name\").cast(\"date\").alias(\"new_column_name\"), # The **col** functions is used to create new columns by casting a column to a date type.- # Filled with actual column name\n",
    "            \"s.column4\", #selects column4 from Dim1 # Filled with actual column name\n",
    "            \"s.column5\", #selects column5 from Dim1 # Filled with actual column name\n",
    "            expr(\"s.column4 * s.column5\").alias(\"new_column_name\"), #expr function is used to create another new column by multiplying the \"s.column4\" and \"s.column5\" columns together. # Filled with actual column name\n",
    "        )\n",
    "    )\n",
    "     \n",
    "     "
   ]
  },
  {
   "attachments": {},
   "cell_type": "markdown",
   "metadata": {},
   "source": [
    "The resulting DataFrame from the Fact_table function will represent the joined and transformed data from the Delta tables \"Dim1\", \"Dim2\", and \"Fact_cleansed\"."
   ]
  }
 ],
 "metadata": {
  "application/vnd.databricks.v1+notebook": {
   "dashboards": [],
   "language": "python",
   "notebookMetadata": {
    "pythonIndentUnit": 4
   },
   "notebookName": "RawFiles_gold-layer-notebook",
   "widgets": {}
  },
  "language_info": {
   "name": "python"
  }
 },
 "nbformat": 4,
 "nbformat_minor": 0
}
