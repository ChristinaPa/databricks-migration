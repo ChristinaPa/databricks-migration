{
 "cells": [
  {
   "attachments": {},
   "cell_type": "markdown",
   "metadata": {},
   "source": [
    "# Bronze Layer\n",
    "Read data from an *Oracle* database"
   ]
  },
  {
   "cell_type": "code",
   "execution_count": null,
   "metadata": {},
   "outputs": [],
   "source": [
    "# Configure the JDBC connection properties\n",
    "hostname = {Host_Name} # hostname or host IP address where the Oracle database is running\n",
    "port = {port}  # port number on which the Oracle database is listening for incoming connections. The default port for Oracle databases is usually 1521\n",
    "service = {service_name} # unique identifier that identifies a specific Oracle service running on the database server\n",
    "user = {user}  # username for your Oracle database\n",
    "password = {password}  # corresponding password for your account\n",
    "driver = \"oracle.jdbc.driver.OracleDriver\"  # Oracle JDBC driver\n",
    "table1 = {Table1_name} # name of the first table you want to read from\n",
    "table2 = {Table2_name} # name of the second table you want to read from\n",
    "table3 = {Table3_name} # name of the third table you want to read from\n",
    "\n",
    "jdbc_url = \"jdbc:oracle:thin:@{hostname}:{port}/{service}\" # JDBC URL required for establishing the connection to the Oracle database\n",
    "\n",
    "# Read data from the Oracle database and create Bronze tables\n",
    "\n",
    "# Create dimension1 raw Delta Live Table\n",
    "@dlt.table\n",
    "def dim1_raw():\n",
    "    return (\n",
    "        spark.read\n",
    "        .format(\"jdbc\")\n",
    "        .option(\"url\", jdbc_url)\n",
    "        .option(\"dbtable\", table1)\n",
    "        .option(\"user\", user)\n",
    "        .option(\"password\", password)\n",
    "        .option(\"driver\", driver)\n",
    "        .load()\n",
    "    )\n",
    "\n",
    "# Create dimension2 raw Delta Live Table\n",
    "@dlt.table\n",
    "def dim2_raw():\n",
    "    return (\n",
    "        spark.read\n",
    "        .format(\"jdbc\")\n",
    "        .option(\"url\", jdbc_url)\n",
    "        .option(\"dbtable\", table2)\n",
    "        .option(\"user\", user)\n",
    "        .option(\"password\", password)\n",
    "        .option(\"driver\", driver)\n",
    "        .load()\n",
    "    )\n",
    "\n",
    "# Create fact raw Delta Live Table\n",
    "@dlt.table\n",
    "def fact_raw():\n",
    "    return (\n",
    "        spark.read\n",
    "        .format(\"jdbc\")\n",
    "        .option(\"url\", jdbc_url)\n",
    "        .option(\"dbtable\", table3)\n",
    "        .option(\"user\", user)\n",
    "        .option(\"password\", password)\n",
    "        .option(\"driver\", driver)\n",
    "        .load()\n",
    "    )"
   ]
  }
 ],
 "metadata": {
  "language_info": {
   "name": "python"
  },
  "orig_nbformat": 4
 },
 "nbformat": 4,
 "nbformat_minor": 2
}
