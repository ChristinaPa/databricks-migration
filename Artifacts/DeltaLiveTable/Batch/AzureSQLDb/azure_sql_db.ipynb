{
 "cells": [
  {
   "attachments": {},
   "cell_type": "markdown",
   "metadata": {},
   "source": [
    "# Bronze Layer\n",
    "Read data from *Azure SQL Database*"
   ]
  },
  {
   "cell_type": "code",
   "execution_count": null,
   "metadata": {
    "application/vnd.databricks.v1+cell": {
     "cellMetadata": {},
     "inputWidgets": {},
     "nuid": "a4b7b0d7-e113-4c5b-be2d-654e189730fd",
     "showTitle": false,
     "title": ""
    }
   },
   "outputs": [],
   "source": [
    "import dlt\n",
    "\n",
    "# Connection details for accessing the SQL Server database\n",
    "\n",
    "Host = {server} # fully qualified server name of your Azure SQL Database (e.g., '<your-server-name>.database.windows.net')\n",
    "Table1 = {table1_name} # name of the first table you want to read from\n",
    "Table2 = {table2_name} # name of the second table you want to read from\n",
    "Table3 = {table3_name} # name of the third table you want to read from\n",
    "Database = {database_name} # name of the database that contains the table\n",
    "User = {admin_login} # login username for accessing the Azure SQL Database\n",
    "Password = {password} # corresponding password for the provided username\n",
    "\n",
    "# Read data from the SQL Server database using the Spark SQL Server connector and create Bronze tables\n",
    "\n",
    "# Create dimension1 raw Delta Live Table\n",
    "@dlt.table\n",
    "def dim1_raw():\n",
    "  return (\n",
    "   spark.read\n",
    "  .format(\"sqlserver\")\n",
    "  .option(\"dbtable\", Table1)\n",
    "  .option(\"host\", Host)\n",
    "  .option(\"port\", 1433)\n",
    "  .option(\"database\", Database)\n",
    "  .option(\"user\", User)\n",
    "  .option(\"password\", Password)\n",
    "  .load()\n",
    "  )\n",
    "\n",
    "# Create dimension2 raw Delta Live Table\n",
    "@dlt.table\n",
    "def dim2_raw():\n",
    "  return (\n",
    "   spark.read\n",
    "  .format(\"sqlserver\")\n",
    "  .option(\"dbtable\", Table2)\n",
    "  .option(\"host\", Host)\n",
    "  .option(\"port\", 1433)\n",
    "  .option(\"database\", Database)\n",
    "  .option(\"user\", User)\n",
    "  .option(\"password\", Password)\n",
    "  .load()\n",
    "  )\n",
    "\n",
    "# Create fact raw Delta Live Table\n",
    "@dlt.table\n",
    "def fact_raw():\n",
    "  return (\n",
    "   spark.read\n",
    "  .format(\"sqlserver\")\n",
    "  .option(\"dbtable\", Table3)\n",
    "  .option(\"host\", Host)\n",
    "  .option(\"port\", 1433)\n",
    "  .option(\"database\", Database)\n",
    "  .option(\"user\", User)\n",
    "  .option(\"password\", Password)\n",
    "  .load()\n",
    "  )\n"
   ]
  }
 ],
 "metadata": {
  "application/vnd.databricks.v1+notebook": {
   "dashboards": [],
   "language": "python",
   "notebookMetadata": {
    "mostRecentlyExecutedCommandWithImplicitDF": {
     "commandId": 3973913182271659,
     "dataframes": [
      "_sqldf"
     ]
    },
    "pythonIndentUnit": 4
   },
   "notebookName": "azure_sql_db",
   "widgets": {}
  },
  "language_info": {
   "name": "python"
  }
 },
 "nbformat": 4,
 "nbformat_minor": 0
}
