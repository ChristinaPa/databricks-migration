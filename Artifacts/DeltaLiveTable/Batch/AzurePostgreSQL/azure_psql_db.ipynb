{
 "cells": [
  {
   "attachments": {},
   "cell_type": "markdown",
   "metadata": {},
   "source": [
    "## Mount Azure PostgreSQL database and creating bronze layer"
   ]
  },
  {
   "cell_type": "code",
   "execution_count": null,
   "metadata": {
    "application/vnd.databricks.v1+cell": {
     "cellMetadata": {
      "byteLimit": 2048000,
      "rowLimit": 10000
     },
     "inputWidgets": {},
     "nuid": "05825150-e6c3-4786-8926-622ef4450602",
     "showTitle": false,
     "title": ""
    }
   },
   "outputs": [],
   "source": [
    "import dlt\n",
    "\n",
    "Host = {database_host} #Specifies the hostname or IP address of the Azure PostgreSQL database server.\n",
    "Table1 = {table_name1} # Specifies the table1 name to read from the Azure PostgreSQL database.\n",
    "Table2 = {table_name2} # Specifies the table2 name to read from the Azure PostgreSQL database.\n",
    "Table3 = {table_name3} # Specifies the table3 name to read from the Azure PostgreSQL database.\n",
    "Database = {database_name}  #Specifies the name of the database in the Azure PostgreSQL server to connect to.\n",
    "User = {user_admin} #Specifies the username for authentication to the  Azure PostgreSQL database. \n",
    "Password = {Password}  #Specifies the password for authentication to the Azure PostgreSQL database. "
   ]
  },
  {
   "cell_type": "code",
   "execution_count": null,
   "metadata": {},
   "outputs": [],
   "source": [
    "@dlt.table\n",
    "def Dim1_raw():\n",
    "  return(\n",
    "      spark.read #reads data from specified source\n",
    "      .format(\"postgresql\") #Specifies that the data source format is Azure PostgreSQL\n",
    "      .option(\"dbtable\", Table1) #Specifies the table name to read from the Azure PostgreSQL database.\n",
    "      .option(\"host\", Host) #Specifies the hostname or IP address of the Azure PostgreSQL database server.\n",
    "      .option(\"port\", 5432) #The default port for Azure PostgreSQL is 5432\n",
    "      .option(\"database\", Database) #Specifies the name of the database in the Azure PostgreSQL server to connect to.\n",
    "      .option(\"user\", User) #Specifies the username for authentication to the Azure PostgreSQL database.\n",
    "      .option(\"password\", Password) #Specifies the password for authentication to the Azure PostgreSQL database. \n",
    "      .load() #Loads the data from the specified Azure PostgreSQL database based on the provided options and returns a DataFrame.\n",
    "    )"
   ]
  },
  {
   "cell_type": "code",
   "execution_count": null,
   "metadata": {},
   "outputs": [],
   "source": [
    "@dlt.table\n",
    "def Dim2_raw():\n",
    "  return(\n",
    "      spark.read #reads data from specified source\n",
    "      .format(\"postgresql\") #Specifies that the data source format is Azure PostgreSQL\n",
    "      .option(\"dbtable\", Table2) #Specifies the table name to read from the Azure PostgreSQL database.\n",
    "      .option(\"host\", Host) #Specifies the hostname or IP address of the Azure PostgreSQL database server.\n",
    "      .option(\"port\", 5432) #The default port for Azure PostgreSQL is 5432\n",
    "      .option(\"database\", Database) #Specifies the name of the database in the Azure PostgreSQL server to connect to.\n",
    "      .option(\"user\", User) #Specifies the username for authentication to the Azure PostgreSQL database.\n",
    "      .option(\"password\", Password) #Specifies the password for authentication to the Azure PostgreSQL database. \n",
    "      .load() #Loads the data from the specified Azure PostgreSQL database based on the provided options and returns a DataFrame.\n",
    "    )"
   ]
  },
  {
   "cell_type": "code",
   "execution_count": null,
   "metadata": {},
   "outputs": [],
   "source": [
    "@dlt.table\n",
    "def Fact_raw():\n",
    "  return(\n",
    "      spark.read #reads data from specified source\n",
    "      .format(\"postgresql\") #Specifies that the data source format is PostgreSQL\n",
    "      .option(\"dbtable\", Table3) #Specifies the table name to read from the MySQL database.\n",
    "      .option(\"host\", Host) #Specifies the hostname or IP address of the PostgreSQL database server.\n",
    "      .option(\"port\", 5432) #The default port for PostgreSQL is 5432\n",
    "      .option(\"database\", Database) #Specifies the name of the database in the PostgreSQL server to connect to.\n",
    "      .option(\"user\", User) #Specifies the username for authentication to the PostgreSQL database.\n",
    "      .option(\"password\", Password) #Specifies the password for authentication to the PostgreSQL database. \n",
    "      .load() #Loads the data from the specified Azure PostgreSQL database based on the provided options and returns a DataFrame.\n",
    "    )"
   ]
  }
 ],
 "metadata": {
  "application/vnd.databricks.v1+notebook": {
   "dashboards": [],
   "language": "python",
   "notebookMetadata": {
    "pythonIndentUnit": 4
   },
   "notebookName": "azure_psql_db",
   "widgets": {}
  },
  "language_info": {
   "name": "python"
  }
 },
 "nbformat": 4,
 "nbformat_minor": 0
}
