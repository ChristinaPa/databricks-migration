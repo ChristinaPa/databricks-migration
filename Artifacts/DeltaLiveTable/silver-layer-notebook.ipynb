{
 "cells": [
  {
   "attachments": {},
   "cell_type": "markdown",
   "metadata": {},
   "source": [
    "## Transformations (Silver layer)"
   ]
  },
  {
   "cell_type": "code",
   "execution_count": null,
   "metadata": {},
   "outputs": [],
   "source": [
    "new_schema = {Schema} #If you want to structure your data differently for the silver layer, you can specify the new schema in the \"Schema\" place-holder."
   ]
  },
  {
   "cell_type": "code",
   "execution_count": null,
   "metadata": {},
   "outputs": [],
   "source": [
    "import dlt # dlt module, which is a Python package for working with Delta Lake\n",
    "from pyspark.sql.functions import * # used for data manipulation and transformation in Spark SQL"
   ]
  },
  {
   "cell_type": "code",
   "execution_count": null,
   "metadata": {},
   "outputs": [],
   "source": [
    "@dlt.table\n",
    "def Dim1_cleansed():\n",
    "    return (\n",
    "        dlt.read(\"Dim1_raw\") # dlt.read() function is used to read data from a source i.e. bronze layer.\n",
    "        .select(*) # selects all columns from the DataFrame read from the source.\n",
    "        .withColumnRenamed('OldColumnName', 'New_Column_Name') #changing column name\n",
    "        .withColumn(\"column_name\", regexp_replace(\"column_name\", \"string_value\", \"new_string_value\")) #replace part of a string with another string\n",
    "        .withColumn(\"datetime_comun\", from_unixtime(\"formatted_datettime_column\")) #changes date-time column to unix date-time format\n",
    "        .withColumn(\"column_name\", from_json(col(\"column_name\"), new_schema)) #changing the schema of a column in json \n",
    "        .withColumn(\"column_name\", explode(\"column_name\")) #exploding the array to get the individual rows\n",
    "        {Tranformations} # This place-holder represents additional transformations that you want to make with respect to the data.\n",
    "        )"
   ]
  },
  {
   "cell_type": "code",
   "execution_count": null,
   "metadata": {},
   "outputs": [],
   "source": [
    "@dlt.table\n",
    "def Dim2_cleansed():\n",
    "    return (\n",
    "        dlt.read(\"Dim2_raw\") # dlt.read() function is used to read data from a source i.e. bronze layer.\n",
    "        .select(*) # selects all columns from the DataFrame read from the source.\n",
    "        .withColumnRenamed('OldColumnName', 'New_Column_Name') #changing column name\n",
    "        .withColumn(\"datetime_comun\", from_unixtime(\"formatted_datettime_column\")) #changes date-time column to unix date-time format \n",
    "        .withColumn(\"column_name\", regexp_replace(\"column_name\", \"string_value\", \"new_string_value\")) #replace part of a string with another string \n",
    "        .withColumn(\"column_name\", from_json(col(\"column_name\"), new_schema)) #changing the schema of a column in json \n",
    "        .withColumn(\"column_name\", explode(\"column_name\")) #exploding the array to get the individual rows\n",
    "        {Tranformations} # This place-holder represents additional transformations that you want to make with respect to the data.\n",
    "        )"
   ]
  },
  {
   "cell_type": "code",
   "execution_count": null,
   "metadata": {
    "application/vnd.databricks.v1+cell": {
     "cellMetadata": {},
     "inputWidgets": {},
     "nuid": "726b8c6e-6f9d-4e4c-814a-fd4ef9910dd9",
     "showTitle": false,
     "title": ""
    }
   },
   "outputs": [],
   "source": [
    "@dlt.table\n",
    "def Fact_cleansed():\n",
    "    return (\n",
    "        dlt.read(\"Fact_raw\") # dlt.read() function is used to read data from a source i.e. bronze layer.\n",
    "        .select(*) # selects all columns from the DataFrame read from the source.\n",
    "        .withColumnRenamed('OldColumnName', 'New_Column_Name') #changing column name\n",
    "        .withColumn(\"datetime_comun\", from_unixtime(\"formatted_datettime_column\")) #changes date-time column to unix date-time format \n",
    "        .withColumn(\"column_name\", regexp_replace(\"column_name\", \"string_value\", \"new_string_value\")) #replace part of a string with another string \n",
    "        .withColumn(\"column_name\", from_json(col(\"column_name\"), new_schema)) #changing the schema of a column in json \n",
    "        .withColumn(\"column_name\", explode(\"column_name\")) #exploding the array to get the individual rows\n",
    "        {Tranformations} # This place-holder represents additional transformations that you want to make with respect to the data.\n",
    "        )"
   ]
  },
  {
   "attachments": {},
   "cell_type": "markdown",
   "metadata": {},
   "source": [
    "> Note: - All the transformations you make on a table need to match with the new schema that you have declared at the beginning."
   ]
  }
 ],
 "metadata": {
  "application/vnd.databricks.v1+notebook": {
   "dashboards": [],
   "language": "python",
   "notebookMetadata": {
    "pythonIndentUnit": 4
   },
   "notebookName": "RawFiles_silver-layer-notebook",
   "widgets": {}
  },
  "language_info": {
   "name": "python"
  }
 },
 "nbformat": 4,
 "nbformat_minor": 0
}
