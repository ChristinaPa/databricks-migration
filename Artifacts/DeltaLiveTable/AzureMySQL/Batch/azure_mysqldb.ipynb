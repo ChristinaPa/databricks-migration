{
 "cells": [
  {
   "attachments": {},
   "cell_type": "markdown",
   "metadata": {},
   "source": [
    "## Mount Azure MySQL database and creating bronze layer"
   ]
  },
  {
   "cell_type": "code",
   "execution_count": null,
   "metadata": {
    "application/vnd.databricks.v1+cell": {
     "cellMetadata": {
      "byteLimit": 2048000,
      "rowLimit": 10000
     },
     "inputWidgets": {},
     "nuid": "77736980-4b7e-4a66-b8ca-053346f04d9d",
     "showTitle": false,
     "title": ""
    }
   },
   "outputs": [],
   "source": [
    "import dlt\n",
    "\n",
    "Host = {database_host} #Specifies the hostname or IP address of the MySQL database server.\n",
    "Table1 = {table_name1} # Specifies the table1 name to read from the MySQL database.\n",
    "Table2 = {table_name2} # Specifies the table2 name to read from the MySQL database.\n",
    "Table3 = {table_name3} # Specifies the table3 name to read from the MySQL database.\n",
    "Database = {database_name}  #Specifies the name of the database in the MySQL server to connect to.\n",
    "User = {user_admin} #Specifies the username for authentication to the MySQL database. \n",
    "Password = {Password}  #Specifies the password for authentication to the MySQL database. \n",
    "\n"
   ]
  },
  {
   "cell_type": "code",
   "execution_count": null,
   "metadata": {},
   "outputs": [],
   "source": [
    "@dlt.table\n",
    "def Dim1_raw():\n",
    "    return (spark.read #reads data from specified source\n",
    "            .format(\"mysql\") #Specifies that the data source format is MySQL\n",
    "            .option(\"dbtable\", Table1) #Specifies the table name to read from the MySQL database.\n",
    "            .option(\"host\", Host) #Specifies the hostname or IP address of the MySQL database server.\n",
    "            .option(\"port\", 3306) #The default port for MySQL is 3306\n",
    "            .option(\"database\", Database) # Specifies the name of the database in the MySQL server to connect to.\n",
    "            .option(\"user\", User) #Specifies the username for authentication to the MySQL database. \n",
    "            .option(\"password\", Password) #Specifies the password for authentication to the MySQL database. \n",
    "            .load() #Loads the data from the specified MySQL database based on the provided options and returns a DataFrame.\n",
    "            )"
   ]
  },
  {
   "cell_type": "code",
   "execution_count": null,
   "metadata": {},
   "outputs": [],
   "source": [
    "@dlt.table\n",
    "def Dim2_raw():\n",
    "    return (spark.read #reads data from specified source\n",
    "            .format(\"mysql\") #Specifies that the data source format is MySQL\n",
    "            .option(\"dbtable\", Table2) #Specifies the table name to read from the MySQL database.\n",
    "            .option(\"host\", Host) #Specifies the hostname or IP address of the MySQL database server.\n",
    "            .option(\"port\", 3306) #The default port for MySQL is 3306\n",
    "            .option(\"database\", Database)  #Specifies the name of the database in the MySQL server to connect to.\n",
    "            .option(\"user\", User) #Specifies the username for authentication to the MySQL database. \n",
    "            .option(\"password\", Password) #Specifies the password for authentication to the MySQL database.\n",
    "            .load() #Loads the data from the specified MySQL database based on the provided options and returns a DataFrame.\n",
    "            )"
   ]
  },
  {
   "cell_type": "code",
   "execution_count": null,
   "metadata": {},
   "outputs": [],
   "source": [
    "@dlt.table\n",
    "def Fact_raw():\n",
    "    return (spark.read #reads data from specified source\n",
    "            .format(\"mysql\") #Specifies that the data source format is MySQL\n",
    "            .option(\"dbtable\", Table3) #Specifies the table name to read from the MySQL database.\n",
    "            .option(\"host\", Host) #Specifies the hostname or IP address of the MySQL database server.\n",
    "            .option(\"port\", 3306) #The default port for MySQL is 3306\n",
    "            .option(\"database\", Database) # Specifies the name of the database in the MySQL server to connect to.\n",
    "            .option(\"user\", User) #Specifies the username for authentication to the MySQL database. \n",
    "            .option(\"password\", Password) #Specifies the password for authentication to the MySQL database.\n",
    "            .load() #Loads the data from the specified MySQL database based on the provided options and returns a DataFrame.\n",
    "            )"
   ]
  }
 ],
 "metadata": {
  "application/vnd.databricks.v1+notebook": {
   "dashboards": [],
   "language": "python",
   "notebookMetadata": {
    "pythonIndentUnit": 4
   },
   "notebookName": "azure_mysqldb",
   "widgets": {}
  },
  "language_info": {
   "name": "python"
  }
 },
 "nbformat": 4,
 "nbformat_minor": 0
}
