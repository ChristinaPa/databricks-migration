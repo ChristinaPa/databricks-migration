{
 "cells": [
  {
   "attachments": {},
   "cell_type": "markdown",
   "metadata": {},
   "source": [
    "# Bronze Layer\n",
    "Read data from *on-premises SQL database*"
   ]
  },
  {
   "cell_type": "code",
   "execution_count": null,
   "metadata": {
    "application/vnd.databricks.v1+cell": {
     "cellMetadata": {},
     "inputWidgets": {},
     "nuid": "1aa784d2-5383-4290-b100-f7fcdda9bf56",
     "showTitle": false,
     "title": ""
    }
   },
   "outputs": [],
   "source": [
    "import dlt\n",
    "\n",
    "# Connection details for accessing the on prem SQL Server database\n",
    "\n",
    "driver = \"com.microsoft.sqlserver.jdbc.SQLServerDriver\" # class name of the Microsoft SQL Server JDBC driver\n",
    "\n",
    "database_host = {Host_Name} # hostname or host IP address of the on-premises SQL database server\n",
    "database_name = {Database_Name} # name of the specific database you want to connect to\n",
    "table1 = {Table1_name} # name of the first table you want to read from\n",
    "table2 = {Table2_name} # name of the second table you want to read from\n",
    "table3 = {Table3_name} # name of the third table you want to read from\n",
    "user = {user_login} # login username for accessing the on-premises SQL database\n",
    "password = {Password} # corresponding password for the provided username\n",
    "\n",
    "url = \"jdbc:sqlserver://{database_host}:1433;databaseName={database_name}\" # JDBC URL required for establishing the connection to the SQL database\n",
    "\n",
    "# Read data from the on-premises SQL database and create Bronze tables\n",
    "\n",
    "# Create dimension1 raw Delta Live Table\n",
    "@dlt.table\n",
    "def dim1_raw():\n",
    "    return (\n",
    "        spark.read\n",
    "        .format(\"jdbc\")\n",
    "        .option(\"driver\", driver)\n",
    "        .option(\"url\", url)\n",
    "        .option(\"dbtable\", table1)\n",
    "        .option(\"user\", user)\n",
    "        .option(\"password\", password)\n",
    "        .load()\n",
    "    )\n",
    "\n",
    "# Create dimension2 raw Delta Live Table\n",
    "@dlt.table\n",
    "def dim2_raw():\n",
    "    return (\n",
    "        spark.read\n",
    "        .format(\"jdbc\")\n",
    "        .option(\"driver\", driver)\n",
    "        .option(\"url\", url)\n",
    "        .option(\"dbtable\", table2)\n",
    "        .option(\"user\", user)\n",
    "        .option(\"password\", password)\n",
    "        .load()\n",
    "    )\n",
    "\n",
    "# Create fact raw Delta Live Table\n",
    "@dlt.table\n",
    "def fact_raw():\n",
    "    return (\n",
    "        spark.read\n",
    "        .format(\"jdbc\")\n",
    "        .option(\"driver\", driver)\n",
    "        .option(\"url\", url)\n",
    "        .option(\"dbtable\", table3)\n",
    "        .option(\"user\", user)\n",
    "        .option(\"password\", password)\n",
    "        .load()\n",
    "    )"
   ]
  }
 ],
 "metadata": {
  "application/vnd.databricks.v1+notebook": {
   "dashboards": [],
   "language": "python",
   "notebookMetadata": {
    "pythonIndentUnit": 4
   },
   "notebookName": "azure_sql_on_prem_db",
   "widgets": {}
  },
  "language_info": {
   "name": "python"
  }
 },
 "nbformat": 4,
 "nbformat_minor": 0
}
