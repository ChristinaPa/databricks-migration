{
 "cells": [
  {
   "attachments": {},
   "cell_type": "markdown",
   "metadata": {},
   "source": [
    "## How to mount PostgreSQL database using Apache Spark"
   ]
  },
  {
   "cell_type": "code",
   "execution_count": null,
   "metadata": {
    "application/vnd.databricks.v1+cell": {
     "cellMetadata": {},
     "inputWidgets": {},
     "nuid": "b050ce82-1a9d-4230-aa02-d51218dd51a9",
     "showTitle": false,
     "title": ""
    }
   },
   "outputs": [],
   "source": [
    "driver = \"org.postgresql.Driver\" #JDBC driver class name\n",
    "\n",
    "database_host = {Host_Name} #refers to the hostname or IP address of the machine where the PostgreSQL database is running\n",
    "database_name = {Database_Name} #refers to the name of the database you want to connect to.\n",
    "user = {User_login} #username for authentication to the database\n",
    "password = {Password} #password for authentication to the database\n",
    "\n",
    "url = f\"jdbc:postgresql://{database_host}:5432/{database_name}\" # The port **5432** is the default port for PostgreSQL."
   ]
  },
  {
   "cell_type": "code",
   "execution_count": null,
   "metadata": {},
   "outputs": [],
   "source": [
    "Dim1_raw = (spark.read #used to create a DataFrameReader object.\n",
    "  .format(\"jdbc\") # Specifies that the data source format is JDBC\n",
    "  .option(\"driver\", driver) # Sets the JDBC driver class name\n",
    "  .option(\"url\", url) # Sets the URL for the database connection\n",
    "  .option(\"dbtable\", table1) # Specifies the table1 name from where you want to read\n",
    "  .option(\"user\", user) # Sets the username for authentication to the database\n",
    "  .option(\"password\", password) #Sets the password for authentication to the database\n",
    "  .load() #to load the data from the database into a DataFrame.\n",
    ")"
   ]
  },
  {
   "cell_type": "code",
   "execution_count": null,
   "metadata": {},
   "outputs": [],
   "source": [
    "Dim2_raw = (spark.read #used to create a DataFrameReader object.\n",
    "  .format(\"jdbc\") # Specifies that the data source format is JDBC\n",
    "  .option(\"driver\", driver) # Sets the JDBC driver class name\n",
    "  .option(\"url\", url) # Sets the URL for the database connection\n",
    "  .option(\"dbtable\", table2) # Specifies the table2 name from where you want to read\n",
    "  .option(\"user\", user) # Sets the username for authentication to the database\n",
    "  .option(\"password\", password) #Sets the password for authentication to the database\n",
    "  .load() #to load the data from the database into a DataFrame.\n",
    ")"
   ]
  },
  {
   "cell_type": "code",
   "execution_count": null,
   "metadata": {},
   "outputs": [],
   "source": [
    "Fact_raw = (spark.read #used to create a DataFrameReader object.\n",
    "  .format(\"jdbc\") # Specifies that the data source format is JDBC\n",
    "  .option(\"driver\", driver) # Sets the JDBC driver class name\n",
    "  .option(\"url\", url) # Sets the URL for the database connection\n",
    "  .option(\"dbtable\", table3) # Specifies the table3 name from where you want to read\n",
    "  .option(\"user\", user) # Sets the username for authentication to the database\n",
    "  .option(\"password\", password) #Sets the password for authentication to the database\n",
    "  .load() #to load the data from the database into a DataFrame.\n",
    ")"
   ]
  },
  {
   "attachments": {},
   "cell_type": "markdown",
   "metadata": {},
   "source": [
    "Overall, this code sets up the necessary configuration for connecting to a **PostgreSQL database** using **JDBC** and reads data from a specified table into a DataFrame using Apache Spark."
   ]
  }
 ],
 "metadata": {
  "application/vnd.databricks.v1+notebook": {
   "dashboards": [],
   "language": "python",
   "notebookMetadata": {
    "pythonIndentUnit": 4
   },
   "notebookName": "postgres_db",
   "widgets": {}
  },
  "language_info": {
   "name": "python"
  }
 },
 "nbformat": 4,
 "nbformat_minor": 0
}
